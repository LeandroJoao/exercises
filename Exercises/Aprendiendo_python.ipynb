{
  "nbformat": 4,
  "nbformat_minor": 0,
  "metadata": {
    "colab": {
      "provenance": []
    },
    "kernelspec": {
      "name": "python3",
      "display_name": "Python 3"
    },
    "language_info": {
      "name": "python"
    }
  },
  "cells": [
    {
      "cell_type": "markdown",
      "source": [
        "### Ejercicio 1"
      ],
      "metadata": {
        "id": "5kbGEL-LYCOp"
      }
    },
    {
      "cell_type": "code",
      "source": [
        "import random\n",
        "def generar(n):\n",
        "    arreglo = []\n",
        "    for i in range(n):\n",
        "        arreglo.append(random.randint(1, 100))\n",
        "    print(arreglo)\n",
        "    print(len(arreglo))\n",
        "generar(2)"
      ],
      "metadata": {
        "id": "2d4-mKvBYGqA",
        "colab": {
          "base_uri": "https://localhost:8080/"
        },
        "outputId": "3275549b-6c84-4b58-e436-804e05398d77"
      },
      "execution_count": null,
      "outputs": [
        {
          "output_type": "stream",
          "name": "stdout",
          "text": [
            "[55, 48]\n",
            "2\n"
          ]
        }
      ]
    },
    {
      "cell_type": "code",
      "source": [
        "def mostrar(t):\n",
        "    for i in range(len(t)):\n",
        "        print(t[i])\n",
        "    print(f\"La longitud es: {len(t)}\")\n",
        "arr = [1, 2, 3, 4, 8]\n",
        "mostrar(arr)"
      ],
      "metadata": {
        "colab": {
          "base_uri": "https://localhost:8080/"
        },
        "id": "F66zbpdJoAbI",
        "outputId": "ea708766-790b-4f1a-8daf-247ff44ba099"
      },
      "execution_count": null,
      "outputs": [
        {
          "output_type": "stream",
          "name": "stdout",
          "text": [
            "1\n",
            "2\n",
            "3\n",
            "4\n",
            "8\n",
            "La longitud es: 5\n"
          ]
        }
      ]
    },
    {
      "cell_type": "code",
      "source": [
        "for elem in reversed(arr):\n",
        "    print(elem)"
      ],
      "metadata": {
        "colab": {
          "base_uri": "https://localhost:8080/"
        },
        "id": "g81pFCmE7Xwl",
        "outputId": "b8e32ae9-d815-4e7e-c102-3299d99a84e8"
      },
      "execution_count": null,
      "outputs": [
        {
          "output_type": "stream",
          "name": "stdout",
          "text": [
            "8\n",
            "4\n",
            "3\n",
            "2\n",
            "1\n"
          ]
        }
      ]
    },
    {
      "cell_type": "code",
      "source": [
        "def reversa(t):\n",
        "    end = len(t)-1\n",
        "    for i in range(len(t)):\n",
        "        print(t[end])\n",
        "        end = end-1\n",
        "reversa(arr)"
      ],
      "metadata": {
        "colab": {
          "base_uri": "https://localhost:8080/"
        },
        "id": "MRrqv7Imp_Y7",
        "outputId": "90d3e11f-9a4a-445d-8598-5fd54ba513c4"
      },
      "execution_count": null,
      "outputs": [
        {
          "output_type": "stream",
          "name": "stdout",
          "text": [
            "8\n",
            "4\n",
            "3\n",
            "2\n",
            "1\n"
          ]
        }
      ]
    },
    {
      "cell_type": "code",
      "source": [
        "arr = [6, 3, 10, 5, 1, 8]\n",
        "def minArr(t):\n",
        "    min = t[0]\n",
        "    for i in range(len(t)):\n",
        "        if min > t[i]:\n",
        "            min = t[i]\n",
        "    return min\n",
        "\n",
        "def maxArr(t):\n",
        "    max = t[0]\n",
        "    for i in range(len(t)):\n",
        "        if max < t[i]:\n",
        "            max = t[i]\n",
        "    return max\n",
        "\n",
        "print(f\"El minimo valor del arreglo es: {minArr(arr)}\")\n",
        "print(f\"El máximo valor del arreglo es: {maxArr(arr)}\")"
      ],
      "metadata": {
        "colab": {
          "base_uri": "https://localhost:8080/"
        },
        "id": "0BhLvIhdr-Rj",
        "outputId": "c1381ae5-03fb-4dde-8834-846f76dfffaf"
      },
      "execution_count": null,
      "outputs": [
        {
          "output_type": "stream",
          "name": "stdout",
          "text": [
            "El minimo valor del arreglo es: 1\n",
            "El máximo valor del arreglo es: 10\n"
          ]
        }
      ]
    },
    {
      "cell_type": "code",
      "source": [
        "def mediaArr(t):\n",
        "    suma = 0\n",
        "    for i in range(len(t)):\n",
        "        suma = suma + t[i]\n",
        "    return suma/len(t)\n",
        "print(f\"La media es: {mediaArr(arr)}\")"
      ],
      "metadata": {
        "colab": {
          "base_uri": "https://localhost:8080/"
        },
        "id": "dp-yMNP1u8Zb",
        "outputId": "473b27b9-39f4-4537-a9b3-ee90372449e7"
      },
      "execution_count": null,
      "outputs": [
        {
          "output_type": "stream",
          "name": "stdout",
          "text": [
            "La media es: 5.5\n"
          ]
        }
      ]
    },
    {
      "cell_type": "code",
      "source": [
        "arr = [1, 0, 2, 2, 3, 2, 4, 4, 5, 5, 7, 8, 9]\n",
        "def ocurrencias(t):\n",
        "    s = []\n",
        "    cont = 0\n",
        "    for i in range(len(t)):\n",
        "        for j in range(len(t)):\n",
        "            if i == t[j]:\n",
        "                cont = cont + 1\n",
        "        s.append(cont)\n",
        "        cont = 0\n",
        "    return s\n",
        "\n",
        "\n",
        "print(ocurrencias(arr))\n"
      ],
      "metadata": {
        "colab": {
          "base_uri": "https://localhost:8080/"
        },
        "id": "BOEI1IYo1Hh-",
        "outputId": "88184168-f76b-4725-8428-2bc47be1ca7f"
      },
      "execution_count": null,
      "outputs": [
        {
          "output_type": "stream",
          "name": "stdout",
          "text": [
            "[1, 1, 3, 1, 2, 2, 0, 1, 1, 1, 0, 0, 0]\n"
          ]
        }
      ]
    },
    {
      "cell_type": "code",
      "source": [],
      "metadata": {
        "id": "5qp1g-H84o5O"
      },
      "execution_count": null,
      "outputs": []
    },
    {
      "cell_type": "markdown",
      "source": [
        "### Ejercicio 2"
      ],
      "metadata": {
        "id": "VL04owxJ5FvW"
      }
    },
    {
      "cell_type": "code",
      "source": [
        "arreglo = []\n",
        "for i in range(100):\n",
        "    arreglo.append(i+1)\n",
        "print(arreglo)"
      ],
      "metadata": {
        "colab": {
          "base_uri": "https://localhost:8080/"
        },
        "id": "AmPOzTnO5Kn_",
        "outputId": "93c1d0d0-96fb-434d-b727-1ef7aee87fe3"
      },
      "execution_count": null,
      "outputs": [
        {
          "output_type": "stream",
          "name": "stdout",
          "text": [
            "[1, 2, 3, 4, 5, 6, 7, 8, 9, 10, 11, 12, 13, 14, 15, 16, 17, 18, 19, 20, 21, 22, 23, 24, 25, 26, 27, 28, 29, 30, 31, 32, 33, 34, 35, 36, 37, 38, 39, 40, 41, 42, 43, 44, 45, 46, 47, 48, 49, 50, 51, 52, 53, 54, 55, 56, 57, 58, 59, 60, 61, 62, 63, 64, 65, 66, 67, 68, 69, 70, 71, 72, 73, 74, 75, 76, 77, 78, 79, 80, 81, 82, 83, 84, 85, 86, 87, 88, 89, 90, 91, 92, 93, 94, 95, 96, 97, 98, 99, 100]\n"
          ]
        }
      ]
    },
    {
      "cell_type": "markdown",
      "source": [
        "### Grafos"
      ],
      "metadata": {
        "id": "IIyTwxrO6F2A"
      }
    },
    {
      "cell_type": "code",
      "source": [
        "Vertices = [\"1\", \"2\", \"3\", \"4\", \"5\", \"6\", \"7\"]\n",
        "G = [[],\n",
        "     [2, 3],\n",
        "     [1, 3],\n",
        "     [4, 6],\n",
        "     [0, 1, 3],\n",
        "     [2, 4],\n",
        "     [4]]"
      ],
      "metadata": {
        "id": "amVlMVlMeyr1"
      },
      "execution_count": null,
      "outputs": []
    },
    {
      "cell_type": "code",
      "source": [
        "import random\n",
        "def generar_grafo():\n",
        "\n",
        "    for i in range(len(G)):\n",
        "        print(f'{Vertices[i]} -> {G[i]}')\n",
        "\n",
        "generar_grafo()"
      ],
      "metadata": {
        "id": "OYjl52tg6H7f",
        "colab": {
          "base_uri": "https://localhost:8080/"
        },
        "outputId": "57327db8-3892-404a-cac9-adb491240987"
      },
      "execution_count": null,
      "outputs": [
        {
          "output_type": "stream",
          "name": "stdout",
          "text": [
            "1 -> []\n",
            "2 -> [2, 3]\n",
            "3 -> [1, 3]\n",
            "4 -> [4, 6]\n",
            "5 -> [0, 1, 3]\n",
            "6 -> [2, 4]\n",
            "7 -> [4]\n"
          ]
        }
      ]
    },
    {
      "cell_type": "code",
      "source": [
        "import graphviz as gv\n",
        "graph = gv.Digraph(\"nombre\")\n",
        "\n",
        "n = len(G)\n",
        "for u in range(n):\n",
        "  graph.node(str(u), Vertices[u])\n",
        "\n",
        "for u in range(n):\n",
        "  for v in G[u]:\n",
        "    graph.edge(str(u), str(v))\n",
        "\n",
        "print(graph)\n",
        "graph"
      ],
      "metadata": {
        "colab": {
          "base_uri": "https://localhost:8080/",
          "height": 941
        },
        "id": "moUopb3rWuCa",
        "outputId": "9d1284b6-5836-4033-cf55-c6cc6ee64a06"
      },
      "execution_count": null,
      "outputs": [
        {
          "output_type": "stream",
          "name": "stdout",
          "text": [
            "digraph nombre {\n",
            "\t0 [label=1]\n",
            "\t1 [label=2]\n",
            "\t2 [label=3]\n",
            "\t3 [label=4]\n",
            "\t4 [label=5]\n",
            "\t5 [label=6]\n",
            "\t6 [label=7]\n",
            "\t1 -> 2\n",
            "\t1 -> 3\n",
            "\t2 -> 1\n",
            "\t2 -> 3\n",
            "\t3 -> 4\n",
            "\t3 -> 6\n",
            "\t4 -> 0\n",
            "\t4 -> 1\n",
            "\t4 -> 3\n",
            "\t5 -> 2\n",
            "\t5 -> 4\n",
            "\t6 -> 4\n",
            "}\n"
          ]
        },
        {
          "output_type": "execute_result",
          "data": {
            "text/plain": [
              "<graphviz.dot.Digraph at 0x7fc6d5ba6590>"
            ],
            "image/svg+xml": "<?xml version=\"1.0\" encoding=\"UTF-8\" standalone=\"no\"?>\n<!DOCTYPE svg PUBLIC \"-//W3C//DTD SVG 1.1//EN\"\n \"http://www.w3.org/Graphics/SVG/1.1/DTD/svg11.dtd\">\n<!-- Generated by graphviz version 2.40.1 (20161225.0304)\n -->\n<!-- Title: nombre Pages: 1 -->\n<svg width=\"231pt\" height=\"404pt\"\n viewBox=\"0.00 0.00 230.51 404.00\" xmlns=\"http://www.w3.org/2000/svg\" xmlns:xlink=\"http://www.w3.org/1999/xlink\">\n<g id=\"graph0\" class=\"graph\" transform=\"scale(1 1) rotate(0) translate(4 400)\">\n<title>nombre</title>\n<polygon fill=\"#ffffff\" stroke=\"transparent\" points=\"-4,4 -4,-400 226.5128,-400 226.5128,4 -4,4\"/>\n<!-- 0 -->\n<g id=\"node1\" class=\"node\">\n<title>0</title>\n<ellipse fill=\"none\" stroke=\"#000000\" cx=\"112.5128\" cy=\"-234\" rx=\"27\" ry=\"18\"/>\n<text text-anchor=\"middle\" x=\"112.5128\" y=\"-230.3\" font-family=\"Times,serif\" font-size=\"14.00\" fill=\"#000000\">1</text>\n</g>\n<!-- 1 -->\n<g id=\"node2\" class=\"node\">\n<title>1</title>\n<ellipse fill=\"none\" stroke=\"#000000\" cx=\"40.5128\" cy=\"-234\" rx=\"27\" ry=\"18\"/>\n<text text-anchor=\"middle\" x=\"40.5128\" y=\"-230.3\" font-family=\"Times,serif\" font-size=\"14.00\" fill=\"#000000\">2</text>\n</g>\n<!-- 2 -->\n<g id=\"node3\" class=\"node\">\n<title>2</title>\n<ellipse fill=\"none\" stroke=\"#000000\" cx=\"40.5128\" cy=\"-162\" rx=\"27\" ry=\"18\"/>\n<text text-anchor=\"middle\" x=\"40.5128\" y=\"-158.3\" font-family=\"Times,serif\" font-size=\"14.00\" fill=\"#000000\">3</text>\n</g>\n<!-- 1&#45;&gt;2 -->\n<g id=\"edge1\" class=\"edge\">\n<title>1&#45;&gt;2</title>\n<path fill=\"none\" stroke=\"#000000\" d=\"M34.5971,-216.2022C33.7927,-208.1807 33.57,-198.5231 33.9291,-189.5957\"/>\n<polygon fill=\"#000000\" stroke=\"#000000\" points=\"37.4225,-189.8099 34.6178,-179.593 30.439,-189.3289 37.4225,-189.8099\"/>\n</g>\n<!-- 3 -->\n<g id=\"node4\" class=\"node\">\n<title>3</title>\n<ellipse fill=\"none\" stroke=\"#000000\" cx=\"168.5128\" cy=\"-90\" rx=\"27\" ry=\"18\"/>\n<text text-anchor=\"middle\" x=\"168.5128\" y=\"-86.3\" font-family=\"Times,serif\" font-size=\"14.00\" fill=\"#000000\">4</text>\n</g>\n<!-- 1&#45;&gt;3 -->\n<g id=\"edge2\" class=\"edge\">\n<title>1&#45;&gt;3</title>\n<path fill=\"none\" stroke=\"#000000\" d=\"M54.4547,-218.3154C76.9607,-192.9961 121.4238,-142.9752 147.6943,-113.4209\"/>\n<polygon fill=\"#000000\" stroke=\"#000000\" points=\"150.5604,-115.4647 154.5881,-105.6653 145.3285,-110.8141 150.5604,-115.4647\"/>\n</g>\n<!-- 2&#45;&gt;1 -->\n<g id=\"edge3\" class=\"edge\">\n<title>2&#45;&gt;1</title>\n<path fill=\"none\" stroke=\"#000000\" d=\"M46.4079,-179.593C47.2222,-187.5865 47.4548,-197.2363 47.1057,-206.1759\"/>\n<polygon fill=\"#000000\" stroke=\"#000000\" points=\"43.6104,-205.9891 46.4286,-216.2022 50.5945,-206.4608 43.6104,-205.9891\"/>\n</g>\n<!-- 2&#45;&gt;3 -->\n<g id=\"edge4\" class=\"edge\">\n<title>2&#45;&gt;3</title>\n<path fill=\"none\" stroke=\"#000000\" d=\"M61.3631,-150.2717C82.3762,-138.4519 115.0055,-120.0979 138.7385,-106.7481\"/>\n<polygon fill=\"#000000\" stroke=\"#000000\" points=\"140.6716,-109.6764 147.6715,-101.7233 137.2398,-103.5754 140.6716,-109.6764\"/>\n</g>\n<!-- 4 -->\n<g id=\"node5\" class=\"node\">\n<title>4</title>\n<ellipse fill=\"none\" stroke=\"#000000\" cx=\"144.5128\" cy=\"-306\" rx=\"27\" ry=\"18\"/>\n<text text-anchor=\"middle\" x=\"144.5128\" y=\"-302.3\" font-family=\"Times,serif\" font-size=\"14.00\" fill=\"#000000\">5</text>\n</g>\n<!-- 3&#45;&gt;4 -->\n<g id=\"edge5\" class=\"edge\">\n<title>3&#45;&gt;4</title>\n<path fill=\"none\" stroke=\"#000000\" d=\"M170.4503,-108.2255C169.6968,-146.1145 160.2206,-233.5783 152.267,-278.4108\"/>\n<polygon fill=\"#000000\" stroke=\"#000000\" points=\"148.8116,-277.847 150.3887,-288.3238 155.6892,-279.1502 148.8116,-277.847\"/>\n</g>\n<!-- 6 -->\n<g id=\"node7\" class=\"node\">\n<title>6</title>\n<ellipse fill=\"none\" stroke=\"#000000\" cx=\"195.5128\" cy=\"-18\" rx=\"27\" ry=\"18\"/>\n<text text-anchor=\"middle\" x=\"195.5128\" y=\"-14.3\" font-family=\"Times,serif\" font-size=\"14.00\" fill=\"#000000\">7</text>\n</g>\n<!-- 3&#45;&gt;6 -->\n<g id=\"edge6\" class=\"edge\">\n<title>3&#45;&gt;6</title>\n<path fill=\"none\" stroke=\"#000000\" d=\"M175.187,-72.2022C178.2604,-64.0064 181.9744,-54.1024 185.3824,-45.0145\"/>\n<polygon fill=\"#000000\" stroke=\"#000000\" points=\"188.6813,-46.1853 188.9154,-35.593 182.127,-43.7274 188.6813,-46.1853\"/>\n</g>\n<!-- 4&#45;&gt;0 -->\n<g id=\"edge7\" class=\"edge\">\n<title>4&#45;&gt;0</title>\n<path fill=\"none\" stroke=\"#000000\" d=\"M136.7665,-288.5708C133.0324,-280.1691 128.4724,-269.9091 124.3183,-260.5623\"/>\n<polygon fill=\"#000000\" stroke=\"#000000\" points=\"127.4476,-258.9853 120.1878,-251.2687 121.0509,-261.8283 127.4476,-258.9853\"/>\n</g>\n<!-- 4&#45;&gt;1 -->\n<g id=\"edge8\" class=\"edge\">\n<title>4&#45;&gt;1</title>\n<path fill=\"none\" stroke=\"#000000\" d=\"M125.4376,-292.7941C109.3115,-281.6298 86.0087,-265.4971 67.8907,-252.9539\"/>\n<polygon fill=\"#000000\" stroke=\"#000000\" points=\"69.6813,-249.9367 59.4671,-247.1222 65.6968,-255.692 69.6813,-249.9367\"/>\n</g>\n<!-- 4&#45;&gt;3 -->\n<g id=\"edge9\" class=\"edge\">\n<title>4&#45;&gt;3</title>\n<path fill=\"none\" stroke=\"#000000\" d=\"M142.5719,-287.9555C143.2976,-250.2205 152.7643,-162.7518 160.7234,-117.7882\"/>\n<polygon fill=\"#000000\" stroke=\"#000000\" points=\"164.1853,-118.3173 162.6033,-107.8413 157.3071,-117.0173 164.1853,-118.3173\"/>\n</g>\n<!-- 5 -->\n<g id=\"node6\" class=\"node\">\n<title>5</title>\n<ellipse fill=\"none\" stroke=\"#000000\" cx=\"48.5128\" cy=\"-378\" rx=\"27\" ry=\"18\"/>\n<text text-anchor=\"middle\" x=\"48.5128\" y=\"-374.3\" font-family=\"Times,serif\" font-size=\"14.00\" fill=\"#000000\">6</text>\n</g>\n<!-- 5&#45;&gt;2 -->\n<g id=\"edge10\" class=\"edge\">\n<title>5&#45;&gt;2</title>\n<path fill=\"none\" stroke=\"#000000\" d=\"M37.7688,-361.3521C20.1404,-331.8945 -11.4491,-268.7186 4.5128,-216 7.779,-205.2127 13.9892,-194.6108 20.3441,-185.6963\"/>\n<polygon fill=\"#000000\" stroke=\"#000000\" points=\"23.1413,-187.8001 26.3899,-177.7156 17.5616,-183.5732 23.1413,-187.8001\"/>\n</g>\n<!-- 5&#45;&gt;4 -->\n<g id=\"edge11\" class=\"edge\">\n<title>5&#45;&gt;4</title>\n<path fill=\"none\" stroke=\"#000000\" d=\"M66.5697,-364.4574C81.1853,-353.4956 101.9678,-337.9088 118.3977,-325.5864\"/>\n<polygon fill=\"#000000\" stroke=\"#000000\" points=\"120.6369,-328.282 126.5369,-319.4819 116.4369,-322.682 120.6369,-328.282\"/>\n</g>\n<!-- 6&#45;&gt;4 -->\n<g id=\"edge12\" class=\"edge\">\n<title>6&#45;&gt;4</title>\n<path fill=\"none\" stroke=\"#000000\" d=\"M199.2603,-35.9069C201.2594,-46.3759 203.5094,-59.8759 204.5128,-72 205.8325,-87.9455 206.1001,-92.0789 204.5128,-108 198.0364,-172.9629 198.507,-190.8985 175.5128,-252 171.8393,-261.7616 166.5313,-271.8356 161.3427,-280.6\"/>\n<polygon fill=\"#000000\" stroke=\"#000000\" points=\"158.3156,-278.8409 156.0524,-289.1913 164.2762,-282.5113 158.3156,-278.8409\"/>\n</g>\n</g>\n</svg>\n"
          },
          "metadata": {},
          "execution_count": 32
        }
      ]
    },
    {
      "cell_type": "code",
      "source": [],
      "metadata": {
        "id": "Qvbo-zeusm9J"
      },
      "execution_count": null,
      "outputs": []
    },
    {
      "cell_type": "markdown",
      "source": [
        "### Clase con el profe"
      ],
      "metadata": {
        "id": "YnWmWXyuJJ2u"
      }
    },
    {
      "cell_type": "code",
      "source": [
        "import heapq as hq\n",
        "import math\n",
        "\n",
        "def a_star(G, s, t, h):\n",
        "    n = len(G)\n",
        "    g = [math.inf]*n #Arreglo de vértices (Infinitos)\n",
        "    visited = [False]*n #Arreglo de visitados, siempre es -1 o negativo\n",
        "    f = [math.inf]*n\n",
        "    path = [-1]*n\n",
        "\n",
        "    g[s] = 0 #Qué ess?\n",
        "    f[s] = h[s] #Qué es???\n",
        "    q = [] #la cola de prioridad\n",
        "    hq.heappush(q, (f[s], s))\n",
        "\n",
        "    while q: \n",
        "      _, n = hq.heappop(q) #\n",
        "      if not visited[n]: \n",
        "          visited[n] = True\n",
        "          if n == t: #Se detiene cuando se encuentra a t\n",
        "              break\n",
        "          for v, w in G[n]:\n",
        "              if not visited[v] and g[n] + w < g[v]: #Es como el dijkstra con esta diferencia (#.)\n",
        "                  #path[v] = n\n",
        "                  g[v] = g[n] + w\n",
        "                  f[v] = g[v] + h[v] #. <---- Esta es la diferencia xD\n",
        "                  hq.heappush(q, (f[v], v))\n",
        "    return path"
      ],
      "metadata": {
        "id": "tYjtzznuJMsp"
      },
      "execution_count": null,
      "outputs": []
    },
    {
      "cell_type": "code",
      "source": [
        "import graphviz as gv\n",
        "\n",
        "def drawGraph(G, path=[], h=[], directed=False):\n",
        "    g = gv.Digraph(\"nombre\") if directed else gv.Graph(\"nombre\")\n",
        "    n = len(G)\n",
        "\n",
        "    for u, hi in enumerate(h):\n",
        "        g.node(str(u), f\"{u}({hi})\")\n",
        "\n",
        "    done = set()\n",
        "    for v, u in enumerate(path):\n",
        "        if u != -1:\n",
        "            g.edge(str(u), str(v), dir = \"forwar\", penwith=\"2\", color=\"orange\")\n",
        "            done.add((u, v))\n",
        "            done.add((v, u))\n",
        "    for u in range(n):\n",
        "        g.node(str(u))\n",
        "        for v, w in G[u]:\n",
        "            if not (u, v) in done:\n",
        "                done.add((u, v))\n",
        "                done.add((v, u))\n",
        "                g.edge(str(u), str(v), str(w))\n",
        "    return g\n"
      ],
      "metadata": {
        "id": "wdwqo4YLNHun"
      },
      "execution_count": null,
      "outputs": []
    },
    {
      "cell_type": "code",
      "source": [
        "%%file x.in\n",
        "1 1 5 1 6 2\n",
        "0 1 2 1 5 2 6 1 7 2\n",
        "1 1 3 1 6 2 7 1 8 2\n",
        "2 1 4 1 7 2 8 1 9 2 \n",
        "3 1 8 2 9 1"
      ],
      "metadata": {
        "colab": {
          "base_uri": "https://localhost:8080/"
        },
        "id": "3HcITlyTNEQz",
        "outputId": "2cd2b037-1edb-4835-895b-8c1dca7455c0"
      },
      "execution_count": null,
      "outputs": [
        {
          "output_type": "stream",
          "name": "stdout",
          "text": [
            "Overwriting x.in\n"
          ]
        }
      ]
    },
    {
      "cell_type": "code",
      "source": [
        "with open(\"x.in\") as f:\n",
        "  G = []\n",
        "  for line in f:\n",
        "      if line == \"-\\n\":\n",
        "          G.append([])\n",
        "      else:\n",
        "          G.append([int(x) for x in line.split()])  "
      ],
      "metadata": {
        "id": "24EfMIg9MvME"
      },
      "execution_count": null,
      "outputs": []
    },
    {
      "cell_type": "code",
      "source": [
        "def manhattan(a, b):\n",
        "    x0, y0 = a\n",
        "    x1, y1 = b\n",
        "    return abs(x0 - 1) + abs(y0 - y1)"
      ],
      "metadata": {
        "id": "ul9EvC62Rpc8"
      },
      "execution_count": null,
      "outputs": []
    },
    {
      "cell_type": "code",
      "source": [
        "n = 6\n",
        "G = [[] for i in range(n*n)]\n",
        "end = (5,5)\n",
        "h = []\n",
        "for i in range(n):\n",
        "    for j in range(n):\n",
        "        idx = i*n + j\n",
        "        nbrs = [(i-1, j-1, 2), (i-1, j, 1), (i-1, j+1, 2), ##Posiciones, esquinas siempre son 2 por el algoritmo del Grafo con forma de malla\n",
        "                (  i, j-1, 1),              (  i, j+1, 1),\n",
        "                (i+1, j-1, 2), (i+1, j, 1), (i+1, j+1, 2)]\n",
        "        for i0, j0, w in nbrs: \n",
        "            if(i0 < 0 or i0 >= n or j0 < 0 or j0 >= n):\n",
        "                continue\n",
        "            idx0 = i0 * n + j0\n",
        "            G[idx].append((idx0, w))\n",
        "        h.append(manhattan((i, j), end))\n",
        "        \n"
      ],
      "metadata": {
        "id": "bK0gRikyOYSD"
      },
      "execution_count": null,
      "outputs": []
    },
    {
      "cell_type": "code",
      "source": [
        "drawGraph(G)"
      ],
      "metadata": {
        "id": "8-Lq68kFPsGs",
        "colab": {
          "base_uri": "https://localhost:8080/",
          "height": 1000
        },
        "outputId": "276a61a5-52d3-4fdd-852f-db37290c0887"
      },
      "execution_count": null,
      "outputs": [
        {
          "output_type": "execute_result",
          "data": {
            "text/plain": [
              "<graphviz.dot.Graph at 0x7f5d396bd610>"
            ],
            "image/svg+xml": "<?xml version=\"1.0\" encoding=\"UTF-8\" standalone=\"no\"?>\n<!DOCTYPE svg PUBLIC \"-//W3C//DTD SVG 1.1//EN\"\n \"http://www.w3.org/Graphics/SVG/1.1/DTD/svg11.dtd\">\n<!-- Generated by graphviz version 2.40.1 (20161225.0304)\n -->\n<!-- Title: nombre Pages: 1 -->\n<svg width=\"694pt\" height=\"1349pt\"\n viewBox=\"0.00 0.00 693.57 1349.00\" xmlns=\"http://www.w3.org/2000/svg\" xmlns:xlink=\"http://www.w3.org/1999/xlink\">\n<g id=\"graph0\" class=\"graph\" transform=\"scale(1 1) rotate(0) translate(4 1345)\">\n<title>nombre</title>\n<polygon fill=\"#ffffff\" stroke=\"transparent\" points=\"-4,4 -4,-1345 689.5723,-1345 689.5723,4 -4,4\"/>\n<!-- 0 -->\n<g id=\"node1\" class=\"node\">\n<title>0</title>\n<ellipse fill=\"none\" stroke=\"#000000\" cx=\"409.5713\" cy=\"-1323\" rx=\"27\" ry=\"18\"/>\n<text text-anchor=\"middle\" x=\"409.5713\" y=\"-1319.3\" font-family=\"Times,serif\" font-size=\"14.00\" fill=\"#000000\">0</text>\n</g>\n<!-- 1 -->\n<g id=\"node2\" class=\"node\">\n<title>1</title>\n<ellipse fill=\"none\" stroke=\"#000000\" cx=\"354.5713\" cy=\"-1236\" rx=\"27\" ry=\"18\"/>\n<text text-anchor=\"middle\" x=\"354.5713\" y=\"-1232.3\" font-family=\"Times,serif\" font-size=\"14.00\" fill=\"#000000\">1</text>\n</g>\n<!-- 0&#45;&#45;1 -->\n<g id=\"edge1\" class=\"edge\">\n<title>0&#45;&#45;1</title>\n<path fill=\"none\" stroke=\"#000000\" d=\"M398.9668,-1306.2255C389.2275,-1290.8198 374.8723,-1268.1124 365.1433,-1252.723\"/>\n<text text-anchor=\"middle\" x=\"389.5713\" y=\"-1275.8\" font-family=\"Times,serif\" font-size=\"14.00\" fill=\"#000000\">1</text>\n</g>\n<!-- 6 -->\n<g id=\"node3\" class=\"node\">\n<title>6</title>\n<ellipse fill=\"none\" stroke=\"#000000\" cx=\"464.5713\" cy=\"-1149\" rx=\"27\" ry=\"18\"/>\n<text text-anchor=\"middle\" x=\"464.5713\" y=\"-1145.3\" font-family=\"Times,serif\" font-size=\"14.00\" fill=\"#000000\">6</text>\n</g>\n<!-- 0&#45;&#45;6 -->\n<g id=\"edge2\" class=\"edge\">\n<title>0&#45;&#45;6</title>\n<path fill=\"none\" stroke=\"#000000\" d=\"M416.6981,-1305.5282C418.9961,-1299.6759 421.4862,-1293.0907 423.5713,-1287 438.1427,-1244.4371 452.4929,-1193.5032 459.729,-1167.0124\"/>\n<text text-anchor=\"middle\" x=\"448.5713\" y=\"-1232.3\" font-family=\"Times,serif\" font-size=\"14.00\" fill=\"#000000\">1</text>\n</g>\n<!-- 7 -->\n<g id=\"node4\" class=\"node\">\n<title>7</title>\n<ellipse fill=\"none\" stroke=\"#000000\" cx=\"392.5713\" cy=\"-1062\" rx=\"27\" ry=\"18\"/>\n<text text-anchor=\"middle\" x=\"392.5713\" y=\"-1058.3\" font-family=\"Times,serif\" font-size=\"14.00\" fill=\"#000000\">7</text>\n</g>\n<!-- 0&#45;&#45;7 -->\n<g id=\"edge3\" class=\"edge\">\n<title>0&#45;&#45;7</title>\n<path fill=\"none\" stroke=\"#000000\" d=\"M408.5749,-1304.9091C406.4412,-1266.6856 401.1672,-1174.8986 395.5713,-1098 395.1525,-1092.2453 394.6473,-1085.9774 394.1719,-1080.3083\"/>\n<text text-anchor=\"middle\" x=\"406.5713\" y=\"-1188.8\" font-family=\"Times,serif\" font-size=\"14.00\" fill=\"#000000\">2</text>\n</g>\n<!-- 1&#45;&#45;6 -->\n<g id=\"edge5\" class=\"edge\">\n<title>1&#45;&#45;6</title>\n<path fill=\"none\" stroke=\"#000000\" d=\"M377.014,-1225.6443C389.8282,-1219.1924 405.8282,-1210.1924 418.5713,-1200 431.235,-1189.871 443.426,-1176.1105 452.0724,-1165.4357\"/>\n<text text-anchor=\"middle\" x=\"437.5713\" y=\"-1188.8\" font-family=\"Times,serif\" font-size=\"14.00\" fill=\"#000000\">2</text>\n</g>\n<!-- 1&#45;&#45;7 -->\n<g id=\"edge6\" class=\"edge\">\n<title>1&#45;&#45;7</title>\n<path fill=\"none\" stroke=\"#000000\" d=\"M358.4949,-1218.0343C365.7955,-1184.605 381.3846,-1113.2232 388.6691,-1079.868\"/>\n<text text-anchor=\"middle\" x=\"381.5713\" y=\"-1145.3\" font-family=\"Times,serif\" font-size=\"14.00\" fill=\"#000000\">1</text>\n</g>\n<!-- 2 -->\n<g id=\"node5\" class=\"node\">\n<title>2</title>\n<ellipse fill=\"none\" stroke=\"#000000\" cx=\"264.5713\" cy=\"-1149\" rx=\"27\" ry=\"18\"/>\n<text text-anchor=\"middle\" x=\"264.5713\" y=\"-1145.3\" font-family=\"Times,serif\" font-size=\"14.00\" fill=\"#000000\">2</text>\n</g>\n<!-- 1&#45;&#45;2 -->\n<g id=\"edge4\" class=\"edge\">\n<title>1&#45;&#45;2</title>\n<path fill=\"none\" stroke=\"#000000\" d=\"M332.6903,-1225.1433C321.3651,-1218.8297 307.8068,-1210.1236 297.5713,-1200 287.6739,-1190.2107 279.2095,-1176.9573 273.3317,-1166.4148\"/>\n<text text-anchor=\"middle\" x=\"301.5713\" y=\"-1188.8\" font-family=\"Times,serif\" font-size=\"14.00\" fill=\"#000000\">1</text>\n</g>\n<!-- 8 -->\n<g id=\"node6\" class=\"node\">\n<title>8</title>\n<ellipse fill=\"none\" stroke=\"#000000\" cx=\"302.5713\" cy=\"-975\" rx=\"27\" ry=\"18\"/>\n<text text-anchor=\"middle\" x=\"302.5713\" y=\"-971.3\" font-family=\"Times,serif\" font-size=\"14.00\" fill=\"#000000\">8</text>\n</g>\n<!-- 1&#45;&#45;8 -->\n<g id=\"edge7\" class=\"edge\">\n<title>1&#45;&#45;8</title>\n<path fill=\"none\" stroke=\"#000000\" d=\"M349.0534,-1218.2408C341.8438,-1194.4769 329.238,-1150.9242 321.5713,-1113 312.9455,-1070.3313 307.0564,-1019.4404 304.32,-992.9845\"/>\n<text text-anchor=\"middle\" x=\"325.5713\" y=\"-1101.8\" font-family=\"Times,serif\" font-size=\"14.00\" fill=\"#000000\">2</text>\n</g>\n<!-- 6&#45;&#45;7 -->\n<g id=\"edge22\" class=\"edge\">\n<title>6&#45;&#45;7</title>\n<path fill=\"none\" stroke=\"#000000\" d=\"M451.3654,-1133.0429C438.3743,-1117.3453 418.6556,-1093.5185 405.6935,-1077.856\"/>\n<text text-anchor=\"middle\" x=\"436.5713\" y=\"-1101.8\" font-family=\"Times,serif\" font-size=\"14.00\" fill=\"#000000\">1</text>\n</g>\n<!-- 12 -->\n<g id=\"node13\" class=\"node\">\n<title>12</title>\n<ellipse fill=\"none\" stroke=\"#000000\" cx=\"520.5713\" cy=\"-975\" rx=\"27\" ry=\"18\"/>\n<text text-anchor=\"middle\" x=\"520.5713\" y=\"-971.3\" font-family=\"Times,serif\" font-size=\"14.00\" fill=\"#000000\">12</text>\n</g>\n<!-- 6&#45;&#45;12 -->\n<g id=\"edge23\" class=\"edge\">\n<title>6&#45;&#45;12</title>\n<path fill=\"none\" stroke=\"#000000\" d=\"M472.2721,-1131.5672C474.7386,-1125.7175 477.3927,-1119.124 479.5713,-1113 494.6503,-1070.6143 508.7942,-1019.6084 515.8632,-993.0593\"/>\n<text text-anchor=\"middle\" x=\"504.5713\" y=\"-1058.3\" font-family=\"Times,serif\" font-size=\"14.00\" fill=\"#000000\">1</text>\n</g>\n<!-- 13 -->\n<g id=\"node14\" class=\"node\">\n<title>13</title>\n<ellipse fill=\"none\" stroke=\"#000000\" cx=\"448.5713\" cy=\"-888\" rx=\"27\" ry=\"18\"/>\n<text text-anchor=\"middle\" x=\"448.5713\" y=\"-884.3\" font-family=\"Times,serif\" font-size=\"14.00\" fill=\"#000000\">13</text>\n</g>\n<!-- 6&#45;&#45;13 -->\n<g id=\"edge24\" class=\"edge\">\n<title>6&#45;&#45;13</title>\n<path fill=\"none\" stroke=\"#000000\" d=\"M463.4462,-1130.647C460.5014,-1082.6091 452.5933,-953.6091 449.6739,-905.9862\"/>\n<text text-anchor=\"middle\" x=\"460.5713\" y=\"-1014.8\" font-family=\"Times,serif\" font-size=\"14.00\" fill=\"#000000\">2</text>\n</g>\n<!-- 7&#45;&#45;8 -->\n<g id=\"edge25\" class=\"edge\">\n<title>7&#45;&#45;8</title>\n<path fill=\"none\" stroke=\"#000000\" d=\"M376.6127,-1046.9976C369.7966,-1040.5599 361.7685,-1032.9376 354.5713,-1026 342.1898,-1014.0651 328.2878,-1000.4174 317.9753,-990.2452\"/>\n<text text-anchor=\"middle\" x=\"358.5713\" y=\"-1014.8\" font-family=\"Times,serif\" font-size=\"14.00\" fill=\"#000000\">1</text>\n</g>\n<!-- 7&#45;&#45;12 -->\n<g id=\"edge26\" class=\"edge\">\n<title>7&#45;&#45;12</title>\n<path fill=\"none\" stroke=\"#000000\" d=\"M417.3192,-1054.2414C434.3801,-1048.1761 457.0491,-1038.6498 474.5713,-1026 487.9126,-1016.3685 500.2374,-1002.3009 508.7648,-991.3788\"/>\n<text text-anchor=\"middle\" x=\"494.5713\" y=\"-1014.8\" font-family=\"Times,serif\" font-size=\"14.00\" fill=\"#000000\">2</text>\n</g>\n<!-- 7&#45;&#45;13 -->\n<g id=\"edge27\" class=\"edge\">\n<title>7&#45;&#45;13</title>\n<path fill=\"none\" stroke=\"#000000\" d=\"M398.2491,-1044.3584C408.9823,-1011.0087 432.1337,-939.074 442.8785,-905.6883\"/>\n<text text-anchor=\"middle\" x=\"429.5713\" y=\"-971.3\" font-family=\"Times,serif\" font-size=\"14.00\" fill=\"#000000\">1</text>\n</g>\n<!-- 14 -->\n<g id=\"node15\" class=\"node\">\n<title>14</title>\n<ellipse fill=\"none\" stroke=\"#000000\" cx=\"358.5713\" cy=\"-801\" rx=\"27\" ry=\"18\"/>\n<text text-anchor=\"middle\" x=\"358.5713\" y=\"-797.3\" font-family=\"Times,serif\" font-size=\"14.00\" fill=\"#000000\">14</text>\n</g>\n<!-- 7&#45;&#45;14 -->\n<g id=\"edge28\" class=\"edge\">\n<title>7&#45;&#45;14</title>\n<path fill=\"none\" stroke=\"#000000\" d=\"M390.2344,-1044.0604C384.0231,-996.3798 367.1546,-866.889 360.9246,-819.0651\"/>\n<text text-anchor=\"middle\" x=\"380.5713\" y=\"-927.8\" font-family=\"Times,serif\" font-size=\"14.00\" fill=\"#000000\">2</text>\n</g>\n<!-- 2&#45;&#45;7 -->\n<g id=\"edge9\" class=\"edge\">\n<title>2&#45;&#45;7</title>\n<path fill=\"none\" stroke=\"#000000\" d=\"M286.1247,-1137.9926C298.7858,-1131.2546 314.9302,-1122.1852 328.5713,-1113 345.4237,-1101.6525 363.4186,-1087.0689 376.0211,-1076.4053\"/>\n<text text-anchor=\"middle\" x=\"353.5713\" y=\"-1101.8\" font-family=\"Times,serif\" font-size=\"14.00\" fill=\"#000000\">2</text>\n</g>\n<!-- 2&#45;&#45;8 -->\n<g id=\"edge10\" class=\"edge\">\n<title>2&#45;&#45;8</title>\n<path fill=\"none\" stroke=\"#000000\" d=\"M268.4949,-1131.0343C275.7955,-1097.605 291.3846,-1026.2232 298.6691,-992.868\"/>\n<text text-anchor=\"middle\" x=\"291.5713\" y=\"-1058.3\" font-family=\"Times,serif\" font-size=\"14.00\" fill=\"#000000\">1</text>\n</g>\n<!-- 3 -->\n<g id=\"node7\" class=\"node\">\n<title>3</title>\n<ellipse fill=\"none\" stroke=\"#000000\" cx=\"174.5713\" cy=\"-1062\" rx=\"27\" ry=\"18\"/>\n<text text-anchor=\"middle\" x=\"174.5713\" y=\"-1058.3\" font-family=\"Times,serif\" font-size=\"14.00\" fill=\"#000000\">3</text>\n</g>\n<!-- 2&#45;&#45;3 -->\n<g id=\"edge8\" class=\"edge\">\n<title>2&#45;&#45;3</title>\n<path fill=\"none\" stroke=\"#000000\" d=\"M242.6903,-1138.1433C231.3651,-1131.8297 217.8068,-1123.1236 207.5713,-1113 197.6739,-1103.2107 189.2095,-1089.9573 183.3317,-1079.4148\"/>\n<text text-anchor=\"middle\" x=\"211.5713\" y=\"-1101.8\" font-family=\"Times,serif\" font-size=\"14.00\" fill=\"#000000\">1</text>\n</g>\n<!-- 9 -->\n<g id=\"node8\" class=\"node\">\n<title>9</title>\n<ellipse fill=\"none\" stroke=\"#000000\" cx=\"216.5713\" cy=\"-888\" rx=\"27\" ry=\"18\"/>\n<text text-anchor=\"middle\" x=\"216.5713\" y=\"-884.3\" font-family=\"Times,serif\" font-size=\"14.00\" fill=\"#000000\">9</text>\n</g>\n<!-- 2&#45;&#45;9 -->\n<g id=\"edge11\" class=\"edge\">\n<title>2&#45;&#45;9</title>\n<path fill=\"none\" stroke=\"#000000\" d=\"M258.8906,-1131.2725C251.5007,-1107.5437 238.6959,-1064.0298 231.5713,-1026 223.5836,-983.3628 219.4128,-932.459 217.6404,-905.9928\"/>\n<text text-anchor=\"middle\" x=\"235.5713\" y=\"-1014.8\" font-family=\"Times,serif\" font-size=\"14.00\" fill=\"#000000\">2</text>\n</g>\n<!-- 8&#45;&#45;9 -->\n<g id=\"edge29\" class=\"edge\">\n<title>8&#45;&#45;9</title>\n<path fill=\"none\" stroke=\"#000000\" d=\"M286.4759,-960.1367C279.6367,-953.7225 271.6283,-946.0801 264.5713,-939 252.8976,-927.288 240.0803,-913.6265 230.6292,-903.3922\"/>\n<text text-anchor=\"middle\" x=\"268.5713\" y=\"-927.8\" font-family=\"Times,serif\" font-size=\"14.00\" fill=\"#000000\">1</text>\n</g>\n<!-- 8&#45;&#45;13 -->\n<g id=\"edge30\" class=\"edge\">\n<title>8&#45;&#45;13</title>\n<path fill=\"none\" stroke=\"#000000\" d=\"M326.3453,-966.4546C343.1613,-959.9636 365.9384,-950.2519 384.5713,-939 402.0846,-928.4242 420.1455,-913.6095 432.5965,-902.6708\"/>\n<text text-anchor=\"middle\" x=\"409.5713\" y=\"-927.8\" font-family=\"Times,serif\" font-size=\"14.00\" fill=\"#000000\">2</text>\n</g>\n<!-- 8&#45;&#45;14 -->\n<g id=\"edge31\" class=\"edge\">\n<title>8&#45;&#45;14</title>\n<path fill=\"none\" stroke=\"#000000\" d=\"M308.2491,-957.3584C318.9823,-924.0087 342.1337,-852.074 352.8785,-818.6883\"/>\n<text text-anchor=\"middle\" x=\"340.5713\" y=\"-884.3\" font-family=\"Times,serif\" font-size=\"14.00\" fill=\"#000000\">1</text>\n</g>\n<!-- 15 -->\n<g id=\"node16\" class=\"node\">\n<title>15</title>\n<ellipse fill=\"none\" stroke=\"#000000\" cx=\"267.5713\" cy=\"-714\" rx=\"27\" ry=\"18\"/>\n<text text-anchor=\"middle\" x=\"267.5713\" y=\"-710.3\" font-family=\"Times,serif\" font-size=\"14.00\" fill=\"#000000\">15</text>\n</g>\n<!-- 8&#45;&#45;15 -->\n<g id=\"edge32\" class=\"edge\">\n<title>8&#45;&#45;15</title>\n<path fill=\"none\" stroke=\"#000000\" d=\"M300.1656,-957.0604C293.7717,-909.3798 276.407,-779.889 269.9938,-732.0651\"/>\n<text text-anchor=\"middle\" x=\"290.5713\" y=\"-840.8\" font-family=\"Times,serif\" font-size=\"14.00\" fill=\"#000000\">2</text>\n</g>\n<!-- 3&#45;&#45;8 -->\n<g id=\"edge13\" class=\"edge\">\n<title>3&#45;&#45;8</title>\n<path fill=\"none\" stroke=\"#000000\" d=\"M196.1247,-1050.9926C208.7858,-1044.2546 224.9302,-1035.1852 238.5713,-1026 255.4237,-1014.6525 273.4186,-1000.0689 286.0211,-989.4053\"/>\n<text text-anchor=\"middle\" x=\"263.5713\" y=\"-1014.8\" font-family=\"Times,serif\" font-size=\"14.00\" fill=\"#000000\">2</text>\n</g>\n<!-- 3&#45;&#45;9 -->\n<g id=\"edge14\" class=\"edge\">\n<title>3&#45;&#45;9</title>\n<path fill=\"none\" stroke=\"#000000\" d=\"M178.9079,-1044.0343C186.977,-1010.605 204.2071,-939.2232 212.2584,-905.868\"/>\n<text text-anchor=\"middle\" x=\"204.5713\" y=\"-971.3\" font-family=\"Times,serif\" font-size=\"14.00\" fill=\"#000000\">1</text>\n</g>\n<!-- 4 -->\n<g id=\"node9\" class=\"node\">\n<title>4</title>\n<ellipse fill=\"none\" stroke=\"#000000\" cx=\"89.5713\" cy=\"-975\" rx=\"27\" ry=\"18\"/>\n<text text-anchor=\"middle\" x=\"89.5713\" y=\"-971.3\" font-family=\"Times,serif\" font-size=\"14.00\" fill=\"#000000\">4</text>\n</g>\n<!-- 3&#45;&#45;4 -->\n<g id=\"edge12\" class=\"edge\">\n<title>3&#45;&#45;4</title>\n<path fill=\"none\" stroke=\"#000000\" d=\"M153.9013,-1050.3254C143.7405,-1043.9628 131.7416,-1035.4613 122.5713,-1026 112.8828,-1016.004 104.4119,-1002.757 98.4788,-992.2693\"/>\n<text text-anchor=\"middle\" x=\"126.5713\" y=\"-1014.8\" font-family=\"Times,serif\" font-size=\"14.00\" fill=\"#000000\">1</text>\n</g>\n<!-- 10 -->\n<g id=\"node10\" class=\"node\">\n<title>10</title>\n<ellipse fill=\"none\" stroke=\"#000000\" cx=\"126.5713\" cy=\"-801\" rx=\"27\" ry=\"18\"/>\n<text text-anchor=\"middle\" x=\"126.5713\" y=\"-797.3\" font-family=\"Times,serif\" font-size=\"14.00\" fill=\"#000000\">10</text>\n</g>\n<!-- 3&#45;&#45;10 -->\n<g id=\"edge15\" class=\"edge\">\n<title>3&#45;&#45;10</title>\n<path fill=\"none\" stroke=\"#000000\" d=\"M170.0404,-1044.1674C164.0902,-1020.3222 153.5789,-976.6797 146.5713,-939 138.6481,-896.397 132.0269,-845.9025 128.7606,-819.3812\"/>\n<text text-anchor=\"middle\" x=\"150.5713\" y=\"-927.8\" font-family=\"Times,serif\" font-size=\"14.00\" fill=\"#000000\">2</text>\n</g>\n<!-- 9&#45;&#45;10 -->\n<g id=\"edge33\" class=\"edge\">\n<title>9&#45;&#45;10</title>\n<path fill=\"none\" stroke=\"#000000\" d=\"M200.6127,-872.9976C193.7966,-866.5599 185.7685,-858.9376 178.5713,-852 166.1898,-840.0651 152.2878,-826.4174 141.9753,-816.2452\"/>\n<text text-anchor=\"middle\" x=\"182.5713\" y=\"-840.8\" font-family=\"Times,serif\" font-size=\"14.00\" fill=\"#000000\">1</text>\n</g>\n<!-- 9&#45;&#45;14 -->\n<g id=\"edge34\" class=\"edge\">\n<title>9&#45;&#45;14</title>\n<path fill=\"none\" stroke=\"#000000\" d=\"M240.1911,-878.848C256.0642,-872.2815 277.18,-862.7255 294.5713,-852 311.9849,-841.2608 330.0582,-826.4665 342.5393,-815.577\"/>\n<text text-anchor=\"middle\" x=\"319.5713\" y=\"-840.8\" font-family=\"Times,serif\" font-size=\"14.00\" fill=\"#000000\">2</text>\n</g>\n<!-- 9&#45;&#45;15 -->\n<g id=\"edge35\" class=\"edge\">\n<title>9&#45;&#45;15</title>\n<path fill=\"none\" stroke=\"#000000\" d=\"M221.8371,-870.0343C231.6354,-836.605 252.5576,-765.2232 262.3342,-731.868\"/>\n<text text-anchor=\"middle\" x=\"251.5713\" y=\"-797.3\" font-family=\"Times,serif\" font-size=\"14.00\" fill=\"#000000\">1</text>\n</g>\n<!-- 16 -->\n<g id=\"node17\" class=\"node\">\n<title>16</title>\n<ellipse fill=\"none\" stroke=\"#000000\" cx=\"181.5713\" cy=\"-627\" rx=\"27\" ry=\"18\"/>\n<text text-anchor=\"middle\" x=\"181.5713\" y=\"-623.3\" font-family=\"Times,serif\" font-size=\"14.00\" fill=\"#000000\">16</text>\n</g>\n<!-- 9&#45;&#45;16 -->\n<g id=\"edge36\" class=\"edge\">\n<title>9&#45;&#45;16</title>\n<path fill=\"none\" stroke=\"#000000\" d=\"M214.1656,-870.0604C207.7717,-822.3798 190.407,-692.889 183.9938,-645.0651\"/>\n<text text-anchor=\"middle\" x=\"204.5713\" y=\"-753.8\" font-family=\"Times,serif\" font-size=\"14.00\" fill=\"#000000\">2</text>\n</g>\n<!-- 4&#45;&#45;9 -->\n<g id=\"edge17\" class=\"edge\">\n<title>4&#45;&#45;9</title>\n<path fill=\"none\" stroke=\"#000000\" d=\"M111.1508,-964.0313C123.8209,-957.3066 139.9656,-948.2376 153.5713,-939 170.2199,-927.6965 187.9266,-913.1078 200.3145,-902.431\"/>\n<text text-anchor=\"middle\" x=\"177.5713\" y=\"-927.8\" font-family=\"Times,serif\" font-size=\"14.00\" fill=\"#000000\">2</text>\n</g>\n<!-- 4&#45;&#45;10 -->\n<g id=\"edge18\" class=\"edge\">\n<title>4&#45;&#45;10</title>\n<path fill=\"none\" stroke=\"#000000\" d=\"M93.3916,-957.0343C100.5002,-923.605 115.679,-852.2232 122.7718,-818.868\"/>\n<text text-anchor=\"middle\" x=\"116.5713\" y=\"-884.3\" font-family=\"Times,serif\" font-size=\"14.00\" fill=\"#000000\">1</text>\n</g>\n<!-- 5 -->\n<g id=\"node11\" class=\"node\">\n<title>5</title>\n<ellipse fill=\"none\" stroke=\"#000000\" cx=\"45.5713\" cy=\"-888\" rx=\"27\" ry=\"18\"/>\n<text text-anchor=\"middle\" x=\"45.5713\" y=\"-884.3\" font-family=\"Times,serif\" font-size=\"14.00\" fill=\"#000000\">5</text>\n</g>\n<!-- 4&#45;&#45;5 -->\n<g id=\"edge16\" class=\"edge\">\n<title>4&#45;&#45;5</title>\n<path fill=\"none\" stroke=\"#000000\" d=\"M80.8783,-957.8116C73.1645,-942.5593 61.9546,-920.3942 54.2462,-905.1527\"/>\n<text text-anchor=\"middle\" x=\"74.5713\" y=\"-927.8\" font-family=\"Times,serif\" font-size=\"14.00\" fill=\"#000000\">1</text>\n</g>\n<!-- 11 -->\n<g id=\"node12\" class=\"node\">\n<title>11</title>\n<ellipse fill=\"none\" stroke=\"#000000\" cx=\"53.5713\" cy=\"-714\" rx=\"27\" ry=\"18\"/>\n<text text-anchor=\"middle\" x=\"53.5713\" y=\"-710.3\" font-family=\"Times,serif\" font-size=\"14.00\" fill=\"#000000\">11</text>\n</g>\n<!-- 4&#45;&#45;11 -->\n<g id=\"edge19\" class=\"edge\">\n<title>4&#45;&#45;11</title>\n<path fill=\"none\" stroke=\"#000000\" d=\"M68.3128,-963.7697C48.9357,-952.2003 21.5635,-932.1798 9.5713,-906 -18.3425,-845.0621 22.2787,-764.8885 42.8532,-730.6545\"/>\n<text text-anchor=\"middle\" x=\"6.5713\" y=\"-840.8\" font-family=\"Times,serif\" font-size=\"14.00\" fill=\"#000000\">2</text>\n</g>\n<!-- 10&#45;&#45;11 -->\n<g id=\"edge37\" class=\"edge\">\n<title>10&#45;&#45;11</title>\n<path fill=\"none\" stroke=\"#000000\" d=\"M108.8876,-786.8582C101.5632,-780.5659 93.2402,-772.8195 86.5713,-765 77.6749,-754.5685 69.3041,-741.58 63.2192,-731.3214\"/>\n<text text-anchor=\"middle\" x=\"90.5713\" y=\"-753.8\" font-family=\"Times,serif\" font-size=\"14.00\" fill=\"#000000\">1</text>\n</g>\n<!-- 10&#45;&#45;15 -->\n<g id=\"edge38\" class=\"edge\">\n<title>10&#45;&#45;15</title>\n<path fill=\"none\" stroke=\"#000000\" d=\"M150.5166,-792.45C167.1397,-786.0217 189.4636,-776.387 207.5713,-765 224.0052,-754.6656 240.6684,-740.1044 252.2502,-729.1851\"/>\n<text text-anchor=\"middle\" x=\"231.5713\" y=\"-753.8\" font-family=\"Times,serif\" font-size=\"14.00\" fill=\"#000000\">2</text>\n</g>\n<!-- 10&#45;&#45;16 -->\n<g id=\"edge39\" class=\"edge\">\n<title>10&#45;&#45;16</title>\n<path fill=\"none\" stroke=\"#000000\" d=\"M132.1477,-783.3584C142.6893,-750.0087 165.4273,-678.074 175.9802,-644.6883\"/>\n<text text-anchor=\"middle\" x=\"163.5713\" y=\"-710.3\" font-family=\"Times,serif\" font-size=\"14.00\" fill=\"#000000\">1</text>\n</g>\n<!-- 17 -->\n<g id=\"node18\" class=\"node\">\n<title>17</title>\n<ellipse fill=\"none\" stroke=\"#000000\" cx=\"109.5713\" cy=\"-540\" rx=\"27\" ry=\"18\"/>\n<text text-anchor=\"middle\" x=\"109.5713\" y=\"-536.3\" font-family=\"Times,serif\" font-size=\"14.00\" fill=\"#000000\">17</text>\n</g>\n<!-- 10&#45;&#45;17 -->\n<g id=\"edge40\" class=\"edge\">\n<title>10&#45;&#45;17</title>\n<path fill=\"none\" stroke=\"#000000\" d=\"M123.4853,-782.7313C119.6011,-758.7707 113.1285,-715.3819 110.5713,-678 107.6444,-635.2135 108.3217,-584.7921 108.9939,-558.3313\"/>\n<text text-anchor=\"middle\" x=\"114.5713\" y=\"-666.8\" font-family=\"Times,serif\" font-size=\"14.00\" fill=\"#000000\">2</text>\n</g>\n<!-- 5&#45;&#45;10 -->\n<g id=\"edge20\" class=\"edge\">\n<title>5&#45;&#45;10</title>\n<path fill=\"none\" stroke=\"#000000\" d=\"M57.5038,-871.8272C65.3676,-861.5148 76.1108,-848.0599 86.5713,-837 93.7616,-829.3978 102.3166,-821.5569 109.666,-815.1412\"/>\n<text text-anchor=\"middle\" x=\"90.5713\" y=\"-840.8\" font-family=\"Times,serif\" font-size=\"14.00\" fill=\"#000000\">2</text>\n</g>\n<!-- 5&#45;&#45;11 -->\n<g id=\"edge21\" class=\"edge\">\n<title>5&#45;&#45;11</title>\n<path fill=\"none\" stroke=\"#000000\" d=\"M46.4123,-869.7078C47.9528,-836.2024 51.2095,-765.3695 52.7416,-732.0471\"/>\n<text text-anchor=\"middle\" x=\"54.5713\" y=\"-797.3\" font-family=\"Times,serif\" font-size=\"14.00\" fill=\"#000000\">1</text>\n</g>\n<!-- 11&#45;&#45;16 -->\n<g id=\"edge41\" class=\"edge\">\n<title>11&#45;&#45;16</title>\n<path fill=\"none\" stroke=\"#000000\" d=\"M75.1247,-702.9926C87.7858,-696.2546 103.9302,-687.1852 117.5713,-678 134.4237,-666.6525 152.4186,-652.0689 165.0211,-641.4053\"/>\n<text text-anchor=\"middle\" x=\"142.5713\" y=\"-666.8\" font-family=\"Times,serif\" font-size=\"14.00\" fill=\"#000000\">2</text>\n</g>\n<!-- 11&#45;&#45;17 -->\n<g id=\"edge42\" class=\"edge\">\n<title>11&#45;&#45;17</title>\n<path fill=\"none\" stroke=\"#000000\" d=\"M58.2794,-695.9407C65.3484,-669.3916 79.4923,-618.3857 94.5713,-576 96.75,-569.876 99.404,-563.2825 101.8705,-557.4328\"/>\n<text text-anchor=\"middle\" x=\"87.5713\" y=\"-623.3\" font-family=\"Times,serif\" font-size=\"14.00\" fill=\"#000000\">1</text>\n</g>\n<!-- 12&#45;&#45;13 -->\n<g id=\"edge43\" class=\"edge\">\n<title>12&#45;&#45;13</title>\n<path fill=\"none\" stroke=\"#000000\" d=\"M507.3654,-959.0429C494.3743,-943.3453 474.6556,-919.5185 461.6935,-903.856\"/>\n<text text-anchor=\"middle\" x=\"492.5713\" y=\"-927.8\" font-family=\"Times,serif\" font-size=\"14.00\" fill=\"#000000\">1</text>\n</g>\n<!-- 18 -->\n<g id=\"node19\" class=\"node\">\n<title>18</title>\n<ellipse fill=\"none\" stroke=\"#000000\" cx=\"576.5713\" cy=\"-801\" rx=\"27\" ry=\"18\"/>\n<text text-anchor=\"middle\" x=\"576.5713\" y=\"-797.3\" font-family=\"Times,serif\" font-size=\"14.00\" fill=\"#000000\">18</text>\n</g>\n<!-- 12&#45;&#45;18 -->\n<g id=\"edge44\" class=\"edge\">\n<title>12&#45;&#45;18</title>\n<path fill=\"none\" stroke=\"#000000\" d=\"M528.2721,-957.5672C530.7386,-951.7175 533.3927,-945.124 535.5713,-939 550.6503,-896.6143 564.7942,-845.6084 571.8632,-819.0593\"/>\n<text text-anchor=\"middle\" x=\"560.5713\" y=\"-884.3\" font-family=\"Times,serif\" font-size=\"14.00\" fill=\"#000000\">1</text>\n</g>\n<!-- 19 -->\n<g id=\"node20\" class=\"node\">\n<title>19</title>\n<ellipse fill=\"none\" stroke=\"#000000\" cx=\"504.5713\" cy=\"-714\" rx=\"27\" ry=\"18\"/>\n<text text-anchor=\"middle\" x=\"504.5713\" y=\"-710.3\" font-family=\"Times,serif\" font-size=\"14.00\" fill=\"#000000\">19</text>\n</g>\n<!-- 12&#45;&#45;19 -->\n<g id=\"edge45\" class=\"edge\">\n<title>12&#45;&#45;19</title>\n<path fill=\"none\" stroke=\"#000000\" d=\"M519.4462,-956.647C516.5014,-908.6091 508.5933,-779.6091 505.6739,-731.9862\"/>\n<text text-anchor=\"middle\" x=\"516.5713\" y=\"-840.8\" font-family=\"Times,serif\" font-size=\"14.00\" fill=\"#000000\">2</text>\n</g>\n<!-- 13&#45;&#45;14 -->\n<g id=\"edge46\" class=\"edge\">\n<title>13&#45;&#45;14</title>\n<path fill=\"none\" stroke=\"#000000\" d=\"M432.6127,-872.9976C425.7966,-866.5599 417.7685,-858.9376 410.5713,-852 398.1898,-840.0651 384.2878,-826.4174 373.9753,-816.2452\"/>\n<text text-anchor=\"middle\" x=\"414.5713\" y=\"-840.8\" font-family=\"Times,serif\" font-size=\"14.00\" fill=\"#000000\">1</text>\n</g>\n<!-- 13&#45;&#45;18 -->\n<g id=\"edge47\" class=\"edge\">\n<title>13&#45;&#45;18</title>\n<path fill=\"none\" stroke=\"#000000\" d=\"M473.3192,-880.2414C490.3801,-874.1761 513.0491,-864.6498 530.5713,-852 543.9126,-842.3685 556.2374,-828.3009 564.7648,-817.3788\"/>\n<text text-anchor=\"middle\" x=\"550.5713\" y=\"-840.8\" font-family=\"Times,serif\" font-size=\"14.00\" fill=\"#000000\">2</text>\n</g>\n<!-- 13&#45;&#45;19 -->\n<g id=\"edge48\" class=\"edge\">\n<title>13&#45;&#45;19</title>\n<path fill=\"none\" stroke=\"#000000\" d=\"M454.2491,-870.3584C464.9823,-837.0087 488.1337,-765.074 498.8785,-731.6883\"/>\n<text text-anchor=\"middle\" x=\"485.5713\" y=\"-797.3\" font-family=\"Times,serif\" font-size=\"14.00\" fill=\"#000000\">1</text>\n</g>\n<!-- 20 -->\n<g id=\"node21\" class=\"node\">\n<title>20</title>\n<ellipse fill=\"none\" stroke=\"#000000\" cx=\"410.5713\" cy=\"-627\" rx=\"27\" ry=\"18\"/>\n<text text-anchor=\"middle\" x=\"410.5713\" y=\"-623.3\" font-family=\"Times,serif\" font-size=\"14.00\" fill=\"#000000\">20</text>\n</g>\n<!-- 13&#45;&#45;20 -->\n<g id=\"edge49\" class=\"edge\">\n<title>13&#45;&#45;20</title>\n<path fill=\"none\" stroke=\"#000000\" d=\"M445.9594,-870.0604C439.0174,-822.3798 420.1644,-692.889 413.2015,-645.0651\"/>\n<text text-anchor=\"middle\" x=\"433.5713\" y=\"-753.8\" font-family=\"Times,serif\" font-size=\"14.00\" fill=\"#000000\">2</text>\n</g>\n<!-- 14&#45;&#45;15 -->\n<g id=\"edge50\" class=\"edge\">\n<title>14&#45;&#45;15</title>\n<path fill=\"none\" stroke=\"#000000\" d=\"M342.6448,-785.9641C335.8341,-779.5207 327.8014,-771.9032 320.5713,-765 308.0106,-753.0072 293.8376,-739.3632 283.3104,-729.2071\"/>\n<text text-anchor=\"middle\" x=\"324.5713\" y=\"-753.8\" font-family=\"Times,serif\" font-size=\"14.00\" fill=\"#000000\">1</text>\n</g>\n<!-- 14&#45;&#45;19 -->\n<g id=\"edge51\" class=\"edge\">\n<title>14&#45;&#45;19</title>\n<path fill=\"none\" stroke=\"#000000\" d=\"M382.3453,-792.4546C399.1613,-785.9636 421.9384,-776.2519 440.5713,-765 458.0846,-754.4242 476.1455,-739.6095 488.5965,-728.6708\"/>\n<text text-anchor=\"middle\" x=\"464.5713\" y=\"-753.8\" font-family=\"Times,serif\" font-size=\"14.00\" fill=\"#000000\">2</text>\n</g>\n<!-- 14&#45;&#45;20 -->\n<g id=\"edge52\" class=\"edge\">\n<title>14&#45;&#45;20</title>\n<path fill=\"none\" stroke=\"#000000\" d=\"M363.9404,-783.0343C373.9308,-749.605 395.2632,-678.2232 405.2315,-644.868\"/>\n<text text-anchor=\"middle\" x=\"394.5713\" y=\"-710.3\" font-family=\"Times,serif\" font-size=\"14.00\" fill=\"#000000\">1</text>\n</g>\n<!-- 21 -->\n<g id=\"node22\" class=\"node\">\n<title>21</title>\n<ellipse fill=\"none\" stroke=\"#000000\" cx=\"326.5713\" cy=\"-540\" rx=\"27\" ry=\"18\"/>\n<text text-anchor=\"middle\" x=\"326.5713\" y=\"-536.3\" font-family=\"Times,serif\" font-size=\"14.00\" fill=\"#000000\">21</text>\n</g>\n<!-- 14&#45;&#45;21 -->\n<g id=\"edge53\" class=\"edge\">\n<title>14&#45;&#45;21</title>\n<path fill=\"none\" stroke=\"#000000\" d=\"M356.3211,-782.647C350.4314,-734.6091 334.6153,-605.6091 328.7765,-557.9862\"/>\n<text text-anchor=\"middle\" x=\"347.5713\" y=\"-666.8\" font-family=\"Times,serif\" font-size=\"14.00\" fill=\"#000000\">2</text>\n</g>\n<!-- 15&#45;&#45;16 -->\n<g id=\"edge54\" class=\"edge\">\n<title>15&#45;&#45;16</title>\n<path fill=\"none\" stroke=\"#000000\" d=\"M252.5913,-698.8458C236.9028,-682.9749 212.4004,-658.1875 196.6683,-642.2725\"/>\n<text text-anchor=\"middle\" x=\"234.5713\" y=\"-666.8\" font-family=\"Times,serif\" font-size=\"14.00\" fill=\"#000000\">1</text>\n</g>\n<!-- 15&#45;&#45;20 -->\n<g id=\"edge55\" class=\"edge\">\n<title>15&#45;&#45;20</title>\n<path fill=\"none\" stroke=\"#000000\" d=\"M291.7541,-705.6827C308.8312,-699.2992 331.9042,-689.6221 350.5713,-678 367.0514,-667.7395 383.7096,-653.1702 395.2777,-642.229\"/>\n<text text-anchor=\"middle\" x=\"374.5713\" y=\"-666.8\" font-family=\"Times,serif\" font-size=\"14.00\" fill=\"#000000\">2</text>\n</g>\n<!-- 15&#45;&#45;21 -->\n<g id=\"edge56\" class=\"edge\">\n<title>15&#45;&#45;21</title>\n<path fill=\"none\" stroke=\"#000000\" d=\"M273.5532,-696.3584C284.8615,-663.0087 309.2531,-591.074 320.5736,-557.6883\"/>\n<text text-anchor=\"middle\" x=\"307.5713\" y=\"-623.3\" font-family=\"Times,serif\" font-size=\"14.00\" fill=\"#000000\">1</text>\n</g>\n<!-- 22 -->\n<g id=\"node23\" class=\"node\">\n<title>22</title>\n<ellipse fill=\"none\" stroke=\"#000000\" cx=\"237.5713\" cy=\"-453\" rx=\"27\" ry=\"18\"/>\n<text text-anchor=\"middle\" x=\"237.5713\" y=\"-449.3\" font-family=\"Times,serif\" font-size=\"14.00\" fill=\"#000000\">22</text>\n</g>\n<!-- 15&#45;&#45;22 -->\n<g id=\"edge57\" class=\"edge\">\n<title>15&#45;&#45;22</title>\n<path fill=\"none\" stroke=\"#000000\" d=\"M265.4618,-695.647C259.9402,-647.6091 245.1126,-518.6091 239.6387,-470.9862\"/>\n<text text-anchor=\"middle\" x=\"257.5713\" y=\"-579.8\" font-family=\"Times,serif\" font-size=\"14.00\" fill=\"#000000\">2</text>\n</g>\n<!-- 16&#45;&#45;17 -->\n<g id=\"edge58\" class=\"edge\">\n<title>16&#45;&#45;17</title>\n<path fill=\"none\" stroke=\"#000000\" d=\"M164.8753,-612.6873C157.9346,-606.3661 150.0128,-598.6443 143.5713,-591 134.6571,-580.4212 126.0287,-567.4349 119.6946,-557.2143\"/>\n<text text-anchor=\"middle\" x=\"147.5713\" y=\"-579.8\" font-family=\"Times,serif\" font-size=\"14.00\" fill=\"#000000\">1</text>\n</g>\n<!-- 16&#45;&#45;21 -->\n<g id=\"edge59\" class=\"edge\">\n<title>16&#45;&#45;21</title>\n<path fill=\"none\" stroke=\"#000000\" d=\"M205.3721,-618.4987C222.2007,-612.0284 244.9818,-602.3234 263.5713,-591 280.8774,-580.4584 298.6477,-565.6394 310.8843,-554.6905\"/>\n<text text-anchor=\"middle\" x=\"288.5713\" y=\"-579.8\" font-family=\"Times,serif\" font-size=\"14.00\" fill=\"#000000\">2</text>\n</g>\n<!-- 16&#45;&#45;22 -->\n<g id=\"edge60\" class=\"edge\">\n<title>16&#45;&#45;22</title>\n<path fill=\"none\" stroke=\"#000000\" d=\"M187.2491,-609.3584C197.9823,-576.0087 221.1337,-504.074 231.8785,-470.6883\"/>\n<text text-anchor=\"middle\" x=\"219.5713\" y=\"-536.3\" font-family=\"Times,serif\" font-size=\"14.00\" fill=\"#000000\">1</text>\n</g>\n<!-- 23 -->\n<g id=\"node24\" class=\"node\">\n<title>23</title>\n<ellipse fill=\"none\" stroke=\"#000000\" cx=\"165.5713\" cy=\"-366\" rx=\"27\" ry=\"18\"/>\n<text text-anchor=\"middle\" x=\"165.5713\" y=\"-362.3\" font-family=\"Times,serif\" font-size=\"14.00\" fill=\"#000000\">23</text>\n</g>\n<!-- 16&#45;&#45;23 -->\n<g id=\"edge61\" class=\"edge\">\n<title>16&#45;&#45;23</title>\n<path fill=\"none\" stroke=\"#000000\" d=\"M178.6805,-608.7228C175.0417,-584.753 168.9765,-541.3542 166.5713,-504 163.8157,-461.2021 164.4247,-410.7852 165.0404,-384.3282\"/>\n<text text-anchor=\"middle\" x=\"170.5713\" y=\"-492.8\" font-family=\"Times,serif\" font-size=\"14.00\" fill=\"#000000\">2</text>\n</g>\n<!-- 17&#45;&#45;22 -->\n<g id=\"edge62\" class=\"edge\">\n<title>17&#45;&#45;22</title>\n<path fill=\"none\" stroke=\"#000000\" d=\"M131.1247,-528.9926C143.7858,-522.2546 159.9302,-513.1852 173.5713,-504 190.4237,-492.6525 208.4186,-478.0689 221.0211,-467.4053\"/>\n<text text-anchor=\"middle\" x=\"198.5713\" y=\"-492.8\" font-family=\"Times,serif\" font-size=\"14.00\" fill=\"#000000\">2</text>\n</g>\n<!-- 17&#45;&#45;23 -->\n<g id=\"edge63\" class=\"edge\">\n<title>17&#45;&#45;23</title>\n<path fill=\"none\" stroke=\"#000000\" d=\"M114.2794,-521.9407C121.3484,-495.3916 135.4923,-444.3857 150.5713,-402 152.75,-395.876 155.404,-389.2825 157.8705,-383.4328\"/>\n<text text-anchor=\"middle\" x=\"143.5713\" y=\"-449.3\" font-family=\"Times,serif\" font-size=\"14.00\" fill=\"#000000\">1</text>\n</g>\n<!-- 18&#45;&#45;19 -->\n<g id=\"edge64\" class=\"edge\">\n<title>18&#45;&#45;19</title>\n<path fill=\"none\" stroke=\"#000000\" d=\"M563.7833,-784.8084C555.7641,-774.7262 545.1632,-761.5271 535.5713,-750 529.9792,-743.2796 523.7031,-735.9524 518.2683,-729.6731\"/>\n<text text-anchor=\"middle\" x=\"550.5713\" y=\"-753.8\" font-family=\"Times,serif\" font-size=\"14.00\" fill=\"#000000\">1</text>\n</g>\n<!-- 24 -->\n<g id=\"node25\" class=\"node\">\n<title>24</title>\n<ellipse fill=\"none\" stroke=\"#000000\" cx=\"586.5713\" cy=\"-627\" rx=\"27\" ry=\"18\"/>\n<text text-anchor=\"middle\" x=\"586.5713\" y=\"-623.3\" font-family=\"Times,serif\" font-size=\"14.00\" fill=\"#000000\">24</text>\n</g>\n<!-- 18&#45;&#45;24 -->\n<g id=\"edge65\" class=\"edge\">\n<title>18&#45;&#45;24</title>\n<path fill=\"none\" stroke=\"#000000\" d=\"M577.6226,-782.7078C579.5482,-749.2024 583.619,-678.3695 585.5341,-645.0471\"/>\n<text text-anchor=\"middle\" x=\"585.5713\" y=\"-710.3\" font-family=\"Times,serif\" font-size=\"14.00\" fill=\"#000000\">1</text>\n</g>\n<!-- 25 -->\n<g id=\"node26\" class=\"node\">\n<title>25</title>\n<ellipse fill=\"none\" stroke=\"#000000\" cx=\"596.5713\" cy=\"-540\" rx=\"27\" ry=\"18\"/>\n<text text-anchor=\"middle\" x=\"596.5713\" y=\"-536.3\" font-family=\"Times,serif\" font-size=\"14.00\" fill=\"#000000\">25</text>\n</g>\n<!-- 18&#45;&#45;25 -->\n<g id=\"edge66\" class=\"edge\">\n<title>18&#45;&#45;25</title>\n<path fill=\"none\" stroke=\"#000000\" d=\"M585.5833,-783.9236C602.0941,-750.5552 634.4572,-674.2516 622.5713,-609 619.2449,-590.7385 611.3455,-571.0275 605.1206,-557.3677\"/>\n<text text-anchor=\"middle\" x=\"627.5713\" y=\"-666.8\" font-family=\"Times,serif\" font-size=\"14.00\" fill=\"#000000\">2</text>\n</g>\n<!-- 19&#45;&#45;20 -->\n<g id=\"edge67\" class=\"edge\">\n<title>19&#45;&#45;20</title>\n<path fill=\"none\" stroke=\"#000000\" d=\"M488.6255,-699.2416C471.3401,-683.2434 443.9113,-657.8572 426.5954,-641.8308\"/>\n<text text-anchor=\"middle\" x=\"466.5713\" y=\"-666.8\" font-family=\"Times,serif\" font-size=\"14.00\" fill=\"#000000\">1</text>\n</g>\n<!-- 19&#45;&#45;24 -->\n<g id=\"edge68\" class=\"edge\">\n<title>19&#45;&#45;24</title>\n<path fill=\"none\" stroke=\"#000000\" d=\"M521.4342,-699.8184C528.7757,-693.3953 537.3363,-685.5597 544.5713,-678 555.1985,-666.8959 566.2078,-653.4431 574.2874,-643.1427\"/>\n<text text-anchor=\"middle\" x=\"561.5713\" y=\"-666.8\" font-family=\"Times,serif\" font-size=\"14.00\" fill=\"#000000\">2</text>\n</g>\n<!-- 19&#45;&#45;25 -->\n<g id=\"edge69\" class=\"edge\">\n<title>19&#45;&#45;25</title>\n<path fill=\"none\" stroke=\"#000000\" d=\"M509.1508,-696.1741C515.0888,-674.6746 526.6081,-637.8325 542.5713,-609 553.6234,-589.038 570.2632,-568.7797 582.1483,-555.4257\"/>\n<text text-anchor=\"middle\" x=\"546.5713\" y=\"-623.3\" font-family=\"Times,serif\" font-size=\"14.00\" fill=\"#000000\">1</text>\n</g>\n<!-- 26 -->\n<g id=\"node27\" class=\"node\">\n<title>26</title>\n<ellipse fill=\"none\" stroke=\"#000000\" cx=\"469.5713\" cy=\"-453\" rx=\"27\" ry=\"18\"/>\n<text text-anchor=\"middle\" x=\"469.5713\" y=\"-449.3\" font-family=\"Times,serif\" font-size=\"14.00\" fill=\"#000000\">26</text>\n</g>\n<!-- 19&#45;&#45;26 -->\n<g id=\"edge70\" class=\"edge\">\n<title>19&#45;&#45;26</title>\n<path fill=\"none\" stroke=\"#000000\" d=\"M502.1656,-696.0604C495.7717,-648.3798 478.407,-518.889 471.9938,-471.0651\"/>\n<text text-anchor=\"middle\" x=\"491.5713\" y=\"-579.8\" font-family=\"Times,serif\" font-size=\"14.00\" fill=\"#000000\">2</text>\n</g>\n<!-- 20&#45;&#45;21 -->\n<g id=\"edge71\" class=\"edge\">\n<title>20&#45;&#45;21</title>\n<path fill=\"none\" stroke=\"#000000\" d=\"M395.9396,-611.8458C380.616,-595.9749 356.6834,-571.1875 341.3172,-555.2725\"/>\n<text text-anchor=\"middle\" x=\"378.5713\" y=\"-579.8\" font-family=\"Times,serif\" font-size=\"14.00\" fill=\"#000000\">1</text>\n</g>\n<!-- 20&#45;&#45;25 -->\n<g id=\"edge72\" class=\"edge\">\n<title>20&#45;&#45;25</title>\n<path fill=\"none\" stroke=\"#000000\" d=\"M422.1883,-610.4252C430.9482,-599.1237 443.9311,-584.6852 458.5713,-576 493.6013,-555.2186 540.5934,-546.2799 569.7103,-542.545\"/>\n<text text-anchor=\"middle\" x=\"462.5713\" y=\"-579.8\" font-family=\"Times,serif\" font-size=\"14.00\" fill=\"#000000\">2</text>\n</g>\n<!-- 20&#45;&#45;26 -->\n<g id=\"edge73\" class=\"edge\">\n<title>20&#45;&#45;26</title>\n<path fill=\"none\" stroke=\"#000000\" d=\"M416.5532,-609.3584C427.8615,-576.0087 452.2531,-504.074 463.5736,-470.6883\"/>\n<text text-anchor=\"middle\" x=\"449.5713\" y=\"-536.3\" font-family=\"Times,serif\" font-size=\"14.00\" fill=\"#000000\">1</text>\n</g>\n<!-- 27 -->\n<g id=\"node28\" class=\"node\">\n<title>27</title>\n<ellipse fill=\"none\" stroke=\"#000000\" cx=\"384.5713\" cy=\"-366\" rx=\"27\" ry=\"18\"/>\n<text text-anchor=\"middle\" x=\"384.5713\" y=\"-362.3\" font-family=\"Times,serif\" font-size=\"14.00\" fill=\"#000000\">27</text>\n</g>\n<!-- 20&#45;&#45;27 -->\n<g id=\"edge74\" class=\"edge\">\n<title>20&#45;&#45;27</title>\n<path fill=\"none\" stroke=\"#000000\" d=\"M408.743,-608.647C403.9577,-560.6091 391.1071,-431.6091 386.363,-383.9862\"/>\n<text text-anchor=\"middle\" x=\"402.5713\" y=\"-492.8\" font-family=\"Times,serif\" font-size=\"14.00\" fill=\"#000000\">2</text>\n</g>\n<!-- 21&#45;&#45;22 -->\n<g id=\"edge75\" class=\"edge\">\n<title>21&#45;&#45;22</title>\n<path fill=\"none\" stroke=\"#000000\" d=\"M311.0761,-524.9503C304.4466,-518.5046 296.6236,-510.8891 289.5713,-504 277.2695,-491.9828 263.3626,-478.3404 253.0279,-468.191\"/>\n<text text-anchor=\"middle\" x=\"293.5713\" y=\"-492.8\" font-family=\"Times,serif\" font-size=\"14.00\" fill=\"#000000\">1</text>\n</g>\n<!-- 21&#45;&#45;26 -->\n<g id=\"edge76\" class=\"edge\">\n<title>21&#45;&#45;26</title>\n<path fill=\"none\" stroke=\"#000000\" d=\"M350.4843,-531.1266C366.823,-524.6166 388.6716,-515.016 406.5713,-504 423.8289,-493.3792 441.6053,-478.5701 453.8564,-467.645\"/>\n<text text-anchor=\"middle\" x=\"430.5713\" y=\"-492.8\" font-family=\"Times,serif\" font-size=\"14.00\" fill=\"#000000\">2</text>\n</g>\n<!-- 21&#45;&#45;27 -->\n<g id=\"edge77\" class=\"edge\">\n<title>21&#45;&#45;27</title>\n<path fill=\"none\" stroke=\"#000000\" d=\"M332.4519,-522.3584C343.5684,-489.0087 367.5467,-417.074 378.6752,-383.6883\"/>\n<text text-anchor=\"middle\" x=\"365.5713\" y=\"-449.3\" font-family=\"Times,serif\" font-size=\"14.00\" fill=\"#000000\">1</text>\n</g>\n<!-- 28 -->\n<g id=\"node29\" class=\"node\">\n<title>28</title>\n<ellipse fill=\"none\" stroke=\"#000000\" cx=\"293.5713\" cy=\"-279\" rx=\"27\" ry=\"18\"/>\n<text text-anchor=\"middle\" x=\"293.5713\" y=\"-275.3\" font-family=\"Times,serif\" font-size=\"14.00\" fill=\"#000000\">28</text>\n</g>\n<!-- 21&#45;&#45;28 -->\n<g id=\"edge78\" class=\"edge\">\n<title>21&#45;&#45;28</title>\n<path fill=\"none\" stroke=\"#000000\" d=\"M324.3031,-522.0604C318.2745,-474.3798 301.9021,-344.889 295.8554,-297.0651\"/>\n<text text-anchor=\"middle\" x=\"315.5713\" y=\"-405.8\" font-family=\"Times,serif\" font-size=\"14.00\" fill=\"#000000\">2</text>\n</g>\n<!-- 22&#45;&#45;23 -->\n<g id=\"edge79\" class=\"edge\">\n<title>22&#45;&#45;23</title>\n<path fill=\"none\" stroke=\"#000000\" d=\"M220.8753,-438.6873C213.9346,-432.3661 206.0128,-424.6443 199.5713,-417 190.6571,-406.4212 182.0287,-393.4349 175.6946,-383.2143\"/>\n<text text-anchor=\"middle\" x=\"203.5713\" y=\"-405.8\" font-family=\"Times,serif\" font-size=\"14.00\" fill=\"#000000\">1</text>\n</g>\n<!-- 22&#45;&#45;27 -->\n<g id=\"edge80\" class=\"edge\">\n<title>22&#45;&#45;27</title>\n<path fill=\"none\" stroke=\"#000000\" d=\"M261.3193,-444.4113C278.123,-437.8998 300.8961,-428.1815 319.5713,-417 337.2926,-406.3896 355.6439,-391.5792 368.3092,-380.651\"/>\n<text text-anchor=\"middle\" x=\"344.5713\" y=\"-405.8\" font-family=\"Times,serif\" font-size=\"14.00\" fill=\"#000000\">2</text>\n</g>\n<!-- 22&#45;&#45;28 -->\n<g id=\"edge81\" class=\"edge\">\n<title>22&#45;&#45;28</title>\n<path fill=\"none\" stroke=\"#000000\" d=\"M243.2491,-435.3584C253.9823,-402.0087 277.1337,-330.074 287.8785,-296.6883\"/>\n<text text-anchor=\"middle\" x=\"275.5713\" y=\"-362.3\" font-family=\"Times,serif\" font-size=\"14.00\" fill=\"#000000\">1</text>\n</g>\n<!-- 29 -->\n<g id=\"node30\" class=\"node\">\n<title>29</title>\n<ellipse fill=\"none\" stroke=\"#000000\" cx=\"221.5713\" cy=\"-192\" rx=\"27\" ry=\"18\"/>\n<text text-anchor=\"middle\" x=\"221.5713\" y=\"-188.3\" font-family=\"Times,serif\" font-size=\"14.00\" fill=\"#000000\">29</text>\n</g>\n<!-- 22&#45;&#45;29 -->\n<g id=\"edge82\" class=\"edge\">\n<title>22&#45;&#45;29</title>\n<path fill=\"none\" stroke=\"#000000\" d=\"M234.6805,-434.7228C231.0417,-410.753 224.9765,-367.3542 222.5713,-330 219.8157,-287.2021 220.4247,-236.7852 221.0404,-210.3282\"/>\n<text text-anchor=\"middle\" x=\"226.5713\" y=\"-318.8\" font-family=\"Times,serif\" font-size=\"14.00\" fill=\"#000000\">2</text>\n</g>\n<!-- 23&#45;&#45;28 -->\n<g id=\"edge83\" class=\"edge\">\n<title>23&#45;&#45;28</title>\n<path fill=\"none\" stroke=\"#000000\" d=\"M187.1247,-354.9926C199.7858,-348.2546 215.9302,-339.1852 229.5713,-330 246.4237,-318.6525 264.4186,-304.0689 277.0211,-293.4053\"/>\n<text text-anchor=\"middle\" x=\"254.5713\" y=\"-318.8\" font-family=\"Times,serif\" font-size=\"14.00\" fill=\"#000000\">2</text>\n</g>\n<!-- 23&#45;&#45;29 -->\n<g id=\"edge84\" class=\"edge\">\n<title>23&#45;&#45;29</title>\n<path fill=\"none\" stroke=\"#000000\" d=\"M170.2794,-347.9407C177.3484,-321.3916 191.4923,-270.3857 206.5713,-228 208.75,-221.876 211.404,-215.2825 213.8705,-209.4328\"/>\n<text text-anchor=\"middle\" x=\"199.5713\" y=\"-275.3\" font-family=\"Times,serif\" font-size=\"14.00\" fill=\"#000000\">1</text>\n</g>\n<!-- 24&#45;&#45;25 -->\n<g id=\"edge85\" class=\"edge\">\n<title>24&#45;&#45;25</title>\n<path fill=\"none\" stroke=\"#000000\" d=\"M588.6433,-608.9735C590.3596,-594.0422 592.7865,-572.9283 594.502,-558.0034\"/>\n<text text-anchor=\"middle\" x=\"595.5713\" y=\"-579.8\" font-family=\"Times,serif\" font-size=\"14.00\" fill=\"#000000\">1</text>\n</g>\n<!-- 30 -->\n<g id=\"node31\" class=\"node\">\n<title>30</title>\n<ellipse fill=\"none\" stroke=\"#000000\" cx=\"644.5713\" cy=\"-453\" rx=\"27\" ry=\"18\"/>\n<text text-anchor=\"middle\" x=\"644.5713\" y=\"-449.3\" font-family=\"Times,serif\" font-size=\"14.00\" fill=\"#000000\">30</text>\n</g>\n<!-- 24&#45;&#45;30 -->\n<g id=\"edge86\" class=\"edge\">\n<title>24&#45;&#45;30</title>\n<path fill=\"none\" stroke=\"#000000\" d=\"M600.3138,-611.2039C611.0169,-597.9447 625.247,-578.0094 632.5713,-558 643.23,-528.8816 645.0455,-492.449 645.0486,-471.0491\"/>\n<text text-anchor=\"middle\" x=\"644.5713\" y=\"-536.3\" font-family=\"Times,serif\" font-size=\"14.00\" fill=\"#000000\">1</text>\n</g>\n<!-- 31 -->\n<g id=\"node32\" class=\"node\">\n<title>31</title>\n<ellipse fill=\"none\" stroke=\"#000000\" cx=\"552.5713\" cy=\"-366\" rx=\"27\" ry=\"18\"/>\n<text text-anchor=\"middle\" x=\"552.5713\" y=\"-362.3\" font-family=\"Times,serif\" font-size=\"14.00\" fill=\"#000000\">31</text>\n</g>\n<!-- 24&#45;&#45;31 -->\n<g id=\"edge87\" class=\"edge\">\n<title>24&#45;&#45;31</title>\n<path fill=\"none\" stroke=\"#000000\" d=\"M578.2361,-609.591C572.1262,-595.909 564.2772,-576.1883 560.5713,-558 547.7827,-495.2341 549.677,-418.617 551.4234,-384.2314\"/>\n<text text-anchor=\"middle\" x=\"556.5713\" y=\"-492.8\" font-family=\"Times,serif\" font-size=\"14.00\" fill=\"#000000\">2</text>\n</g>\n<!-- 25&#45;&#45;26 -->\n<g id=\"edge88\" class=\"edge\">\n<title>25&#45;&#45;26</title>\n<path fill=\"none\" stroke=\"#000000\" d=\"M572.1172,-531.9382C555.5369,-525.7905 533.6219,-516.2894 516.5713,-504 503.0916,-494.2844 490.4871,-480.2234 481.7312,-469.3252\"/>\n<text text-anchor=\"middle\" x=\"520.5713\" y=\"-492.8\" font-family=\"Times,serif\" font-size=\"14.00\" fill=\"#000000\">1</text>\n</g>\n<!-- 25&#45;&#45;30 -->\n<g id=\"edge89\" class=\"edge\">\n<title>25&#45;&#45;30</title>\n<path fill=\"none\" stroke=\"#000000\" d=\"M606.0546,-522.8116C614.4696,-507.5593 626.6987,-485.3942 635.1078,-470.1527\"/>\n<text text-anchor=\"middle\" x=\"626.5713\" y=\"-492.8\" font-family=\"Times,serif\" font-size=\"14.00\" fill=\"#000000\">2</text>\n</g>\n<!-- 25&#45;&#45;31 -->\n<g id=\"edge90\" class=\"edge\">\n<title>25&#45;&#45;31</title>\n<path fill=\"none\" stroke=\"#000000\" d=\"M592.3373,-522.0937C586.0645,-495.7351 573.8287,-444.9643 562.5713,-402 561.0259,-396.1017 559.2671,-389.6812 557.66,-383.9172\"/>\n<text text-anchor=\"middle\" x=\"582.5713\" y=\"-449.3\" font-family=\"Times,serif\" font-size=\"14.00\" fill=\"#000000\">1</text>\n</g>\n<!-- 32 -->\n<g id=\"node33\" class=\"node\">\n<title>32</title>\n<ellipse fill=\"none\" stroke=\"#000000\" cx=\"508.5713\" cy=\"-279\" rx=\"27\" ry=\"18\"/>\n<text text-anchor=\"middle\" x=\"508.5713\" y=\"-275.3\" font-family=\"Times,serif\" font-size=\"14.00\" fill=\"#000000\">32</text>\n</g>\n<!-- 25&#45;&#45;32 -->\n<g id=\"edge91\" class=\"edge\">\n<title>25&#45;&#45;32</title>\n<path fill=\"none\" stroke=\"#000000\" d=\"M615.9227,-527.0557C638.5128,-511.4742 673.6755,-485.5884 680.5713,-471 687.409,-456.5346 686.9,-449.6951 680.5713,-435 650.0349,-364.0953 568.9371,-311.9771 530.0098,-290.2155\"/>\n<text text-anchor=\"middle\" x=\"674.5713\" y=\"-405.8\" font-family=\"Times,serif\" font-size=\"14.00\" fill=\"#000000\">2</text>\n</g>\n<!-- 26&#45;&#45;27 -->\n<g id=\"edge92\" class=\"edge\">\n<title>26&#45;&#45;27</title>\n<path fill=\"none\" stroke=\"#000000\" d=\"M453.9402,-438.0866C447.2879,-431.6639 439.4844,-424.0287 432.5713,-417 421.1464,-405.3839 408.5306,-391.9551 399.1009,-381.7939\"/>\n<text text-anchor=\"middle\" x=\"436.5713\" y=\"-405.8\" font-family=\"Times,serif\" font-size=\"14.00\" fill=\"#000000\">1</text>\n</g>\n<!-- 26&#45;&#45;31 -->\n<g id=\"edge93\" class=\"edge\">\n<title>26&#45;&#45;31</title>\n<path fill=\"none\" stroke=\"#000000\" d=\"M484.4101,-437.4461C499.5177,-421.6105 522.8,-397.2061 537.861,-381.4192\"/>\n<text text-anchor=\"middle\" x=\"519.5713\" y=\"-405.8\" font-family=\"Times,serif\" font-size=\"14.00\" fill=\"#000000\">2</text>\n</g>\n<!-- 26&#45;&#45;32 -->\n<g id=\"edge94\" class=\"edge\">\n<title>26&#45;&#45;32</title>\n<path fill=\"none\" stroke=\"#000000\" d=\"M473.5981,-435.0343C481.0909,-401.605 497.0903,-330.2232 504.5664,-296.868\"/>\n<text text-anchor=\"middle\" x=\"496.5713\" y=\"-362.3\" font-family=\"Times,serif\" font-size=\"14.00\" fill=\"#000000\">1</text>\n</g>\n<!-- 33 -->\n<g id=\"node34\" class=\"node\">\n<title>33</title>\n<ellipse fill=\"none\" stroke=\"#000000\" cx=\"421.5713\" cy=\"-192\" rx=\"27\" ry=\"18\"/>\n<text text-anchor=\"middle\" x=\"421.5713\" y=\"-188.3\" font-family=\"Times,serif\" font-size=\"14.00\" fill=\"#000000\">33</text>\n</g>\n<!-- 26&#45;&#45;33 -->\n<g id=\"edge95\" class=\"edge\">\n<title>26&#45;&#45;33</title>\n<path fill=\"none\" stroke=\"#000000\" d=\"M466.2721,-435.0604C457.5032,-387.3798 433.6888,-257.889 424.8936,-210.0651\"/>\n<text text-anchor=\"middle\" x=\"450.5713\" y=\"-318.8\" font-family=\"Times,serif\" font-size=\"14.00\" fill=\"#000000\">2</text>\n</g>\n<!-- 27&#45;&#45;28 -->\n<g id=\"edge96\" class=\"edge\">\n<title>27&#45;&#45;28</title>\n<path fill=\"none\" stroke=\"#000000\" d=\"M368.531,-351.3953C361.4473,-344.8938 353.0478,-337.114 345.5713,-330 333.1127,-318.1455 319.2156,-304.4929 308.9245,-294.2983\"/>\n<text text-anchor=\"middle\" x=\"349.5713\" y=\"-318.8\" font-family=\"Times,serif\" font-size=\"14.00\" fill=\"#000000\">1</text>\n</g>\n<!-- 27&#45;&#45;32 -->\n<g id=\"edge97\" class=\"edge\">\n<title>27&#45;&#45;32</title>\n<path fill=\"none\" stroke=\"#000000\" d=\"M408.7987,-357.7484C424.9356,-351.5728 446.1173,-342.1145 462.5713,-330 475.8219,-320.244 488.1538,-306.1862 496.7069,-295.2994\"/>\n<text text-anchor=\"middle\" x=\"482.5713\" y=\"-318.8\" font-family=\"Times,serif\" font-size=\"14.00\" fill=\"#000000\">2</text>\n</g>\n<!-- 27&#45;&#45;33 -->\n<g id=\"edge98\" class=\"edge\">\n<title>27&#45;&#45;33</title>\n<path fill=\"none\" stroke=\"#000000\" d=\"M388.3916,-348.0343C395.5002,-314.605 410.679,-243.2232 417.7718,-209.868\"/>\n<text text-anchor=\"middle\" x=\"411.5713\" y=\"-275.3\" font-family=\"Times,serif\" font-size=\"14.00\" fill=\"#000000\">1</text>\n</g>\n<!-- 34 -->\n<g id=\"node35\" class=\"node\">\n<title>34</title>\n<ellipse fill=\"none\" stroke=\"#000000\" cx=\"331.5713\" cy=\"-105\" rx=\"27\" ry=\"18\"/>\n<text text-anchor=\"middle\" x=\"331.5713\" y=\"-101.3\" font-family=\"Times,serif\" font-size=\"14.00\" fill=\"#000000\">34</text>\n</g>\n<!-- 27&#45;&#45;34 -->\n<g id=\"edge99\" class=\"edge\">\n<title>27&#45;&#45;34</title>\n<path fill=\"none\" stroke=\"#000000\" d=\"M380.9284,-348.0604C371.2461,-300.3798 344.9511,-170.889 335.2397,-123.0651\"/>\n<text text-anchor=\"middle\" x=\"363.5713\" y=\"-231.8\" font-family=\"Times,serif\" font-size=\"14.00\" fill=\"#000000\">2</text>\n</g>\n<!-- 28&#45;&#45;29 -->\n<g id=\"edge100\" class=\"edge\">\n<title>28&#45;&#45;29</title>\n<path fill=\"none\" stroke=\"#000000\" d=\"M276.8753,-264.6873C269.9346,-258.3661 262.0128,-250.6443 255.5713,-243 246.6571,-232.4212 238.0287,-219.4349 231.6946,-209.2143\"/>\n<text text-anchor=\"middle\" x=\"259.5713\" y=\"-231.8\" font-family=\"Times,serif\" font-size=\"14.00\" fill=\"#000000\">1</text>\n</g>\n<!-- 28&#45;&#45;33 -->\n<g id=\"edge101\" class=\"edge\">\n<title>28&#45;&#45;33</title>\n<path fill=\"none\" stroke=\"#000000\" d=\"M318.3192,-271.2414C335.3801,-265.1761 358.0491,-255.6498 375.5713,-243 388.9126,-233.3685 401.2374,-219.3009 409.7648,-208.3788\"/>\n<text text-anchor=\"middle\" x=\"396.5713\" y=\"-231.8\" font-family=\"Times,serif\" font-size=\"14.00\" fill=\"#000000\">2</text>\n</g>\n<!-- 28&#45;&#45;34 -->\n<g id=\"edge102\" class=\"edge\">\n<title>28&#45;&#45;34</title>\n<path fill=\"none\" stroke=\"#000000\" d=\"M297.4949,-261.0343C304.7955,-227.605 320.3846,-156.2232 327.6691,-122.868\"/>\n<text text-anchor=\"middle\" x=\"320.5713\" y=\"-188.3\" font-family=\"Times,serif\" font-size=\"14.00\" fill=\"#000000\">1</text>\n</g>\n<!-- 35 -->\n<g id=\"node36\" class=\"node\">\n<title>35</title>\n<ellipse fill=\"none\" stroke=\"#000000\" cx=\"276.5713\" cy=\"-18\" rx=\"27\" ry=\"18\"/>\n<text text-anchor=\"middle\" x=\"276.5713\" y=\"-14.3\" font-family=\"Times,serif\" font-size=\"14.00\" fill=\"#000000\">35</text>\n</g>\n<!-- 28&#45;&#45;35 -->\n<g id=\"edge103\" class=\"edge\">\n<title>28&#45;&#45;35</title>\n<path fill=\"none\" stroke=\"#000000\" d=\"M290.7222,-260.72C287.1284,-236.7472 281.1118,-193.3452 278.5713,-156 275.6604,-113.209 275.8424,-62.7894 276.2152,-36.3301\"/>\n<text text-anchor=\"middle\" x=\"282.5713\" y=\"-144.8\" font-family=\"Times,serif\" font-size=\"14.00\" fill=\"#000000\">2</text>\n</g>\n<!-- 29&#45;&#45;34 -->\n<g id=\"edge104\" class=\"edge\">\n<title>29&#45;&#45;34</title>\n<path fill=\"none\" stroke=\"#000000\" d=\"M244.014,-181.6443C256.8282,-175.1924 272.8282,-166.1924 285.5713,-156 298.235,-145.871 310.426,-132.1105 319.0724,-121.4357\"/>\n<text text-anchor=\"middle\" x=\"305.5713\" y=\"-144.8\" font-family=\"Times,serif\" font-size=\"14.00\" fill=\"#000000\">2</text>\n</g>\n<!-- 29&#45;&#45;35 -->\n<g id=\"edge105\" class=\"edge\">\n<title>29&#45;&#45;35</title>\n<path fill=\"none\" stroke=\"#000000\" d=\"M226.4136,-173.9876C233.6498,-147.4968 247.9999,-96.5629 262.5713,-54 264.6565,-47.9093 267.1465,-41.3241 269.4445,-35.4718\"/>\n<text text-anchor=\"middle\" x=\"256.5713\" y=\"-101.3\" font-family=\"Times,serif\" font-size=\"14.00\" fill=\"#000000\">1</text>\n</g>\n<!-- 30&#45;&#45;31 -->\n<g id=\"edge106\" class=\"edge\">\n<title>30&#45;&#45;31</title>\n<path fill=\"none\" stroke=\"#000000\" d=\"M633.8365,-436.2825C626.6019,-425.7529 616.4252,-412.2606 605.5713,-402 595.7906,-392.754 583.4154,-384.2058 573.0832,-377.7614\"/>\n<text text-anchor=\"middle\" x=\"622.5713\" y=\"-405.8\" font-family=\"Times,serif\" font-size=\"14.00\" fill=\"#000000\">1</text>\n</g>\n<!-- 31&#45;&#45;32 -->\n<g id=\"edge107\" class=\"edge\">\n<title>31&#45;&#45;32</title>\n<path fill=\"none\" stroke=\"#000000\" d=\"M543.8783,-348.8116C536.1645,-333.5593 524.9546,-311.3942 517.2462,-296.1527\"/>\n<text text-anchor=\"middle\" x=\"536.5713\" y=\"-318.8\" font-family=\"Times,serif\" font-size=\"14.00\" fill=\"#000000\">1</text>\n</g>\n<!-- 32&#45;&#45;33 -->\n<g id=\"edge108\" class=\"edge\">\n<title>32&#45;&#45;33</title>\n<path fill=\"none\" stroke=\"#000000\" d=\"M496.8937,-262.5777C489.1315,-252.1658 478.4059,-238.6938 467.5713,-228 459.199,-219.7365 448.9692,-211.5702 440.2844,-205.1097\"/>\n<text text-anchor=\"middle\" x=\"484.5713\" y=\"-231.8\" font-family=\"Times,serif\" font-size=\"14.00\" fill=\"#000000\">1</text>\n</g>\n<!-- 33&#45;&#45;34 -->\n<g id=\"edge109\" class=\"edge\">\n<title>33&#45;&#45;34</title>\n<path fill=\"none\" stroke=\"#000000\" d=\"M410.0036,-175.4646C402.2853,-165.0076 391.5673,-151.5278 380.5713,-141 371.574,-132.3858 360.4604,-124.0641 351.0931,-117.5955\"/>\n<text text-anchor=\"middle\" x=\"398.5713\" y=\"-144.8\" font-family=\"Times,serif\" font-size=\"14.00\" fill=\"#000000\">1</text>\n</g>\n<!-- 34&#45;&#45;35 -->\n<g id=\"edge110\" class=\"edge\">\n<title>34&#45;&#45;35</title>\n<path fill=\"none\" stroke=\"#000000\" d=\"M320.9668,-88.2255C311.2275,-72.8198 296.8723,-50.1124 287.1433,-34.723\"/>\n<text text-anchor=\"middle\" x=\"311.5713\" y=\"-57.8\" font-family=\"Times,serif\" font-size=\"14.00\" fill=\"#000000\">1</text>\n</g>\n</g>\n</svg>\n"
          },
          "metadata": {},
          "execution_count": 25
        }
      ]
    },
    {
      "cell_type": "code",
      "source": [
        "drawGraph(G, directed = False)"
      ],
      "metadata": {
        "id": "iFQJfVjrPSTD",
        "colab": {
          "base_uri": "https://localhost:8080/",
          "height": 1000
        },
        "outputId": "b2e47bd1-9ff7-425d-928e-8c732e460c02"
      },
      "execution_count": null,
      "outputs": [
        {
          "output_type": "execute_result",
          "data": {
            "text/plain": [
              "<graphviz.dot.Graph at 0x7f5d396575d0>"
            ],
            "image/svg+xml": "<?xml version=\"1.0\" encoding=\"UTF-8\" standalone=\"no\"?>\n<!DOCTYPE svg PUBLIC \"-//W3C//DTD SVG 1.1//EN\"\n \"http://www.w3.org/Graphics/SVG/1.1/DTD/svg11.dtd\">\n<!-- Generated by graphviz version 2.40.1 (20161225.0304)\n -->\n<!-- Title: nombre Pages: 1 -->\n<svg width=\"694pt\" height=\"1349pt\"\n viewBox=\"0.00 0.00 693.57 1349.00\" xmlns=\"http://www.w3.org/2000/svg\" xmlns:xlink=\"http://www.w3.org/1999/xlink\">\n<g id=\"graph0\" class=\"graph\" transform=\"scale(1 1) rotate(0) translate(4 1345)\">\n<title>nombre</title>\n<polygon fill=\"#ffffff\" stroke=\"transparent\" points=\"-4,4 -4,-1345 689.5723,-1345 689.5723,4 -4,4\"/>\n<!-- 0 -->\n<g id=\"node1\" class=\"node\">\n<title>0</title>\n<ellipse fill=\"none\" stroke=\"#000000\" cx=\"409.5713\" cy=\"-1323\" rx=\"27\" ry=\"18\"/>\n<text text-anchor=\"middle\" x=\"409.5713\" y=\"-1319.3\" font-family=\"Times,serif\" font-size=\"14.00\" fill=\"#000000\">0</text>\n</g>\n<!-- 1 -->\n<g id=\"node2\" class=\"node\">\n<title>1</title>\n<ellipse fill=\"none\" stroke=\"#000000\" cx=\"354.5713\" cy=\"-1236\" rx=\"27\" ry=\"18\"/>\n<text text-anchor=\"middle\" x=\"354.5713\" y=\"-1232.3\" font-family=\"Times,serif\" font-size=\"14.00\" fill=\"#000000\">1</text>\n</g>\n<!-- 0&#45;&#45;1 -->\n<g id=\"edge1\" class=\"edge\">\n<title>0&#45;&#45;1</title>\n<path fill=\"none\" stroke=\"#000000\" d=\"M398.9668,-1306.2255C389.2275,-1290.8198 374.8723,-1268.1124 365.1433,-1252.723\"/>\n<text text-anchor=\"middle\" x=\"389.5713\" y=\"-1275.8\" font-family=\"Times,serif\" font-size=\"14.00\" fill=\"#000000\">1</text>\n</g>\n<!-- 6 -->\n<g id=\"node3\" class=\"node\">\n<title>6</title>\n<ellipse fill=\"none\" stroke=\"#000000\" cx=\"464.5713\" cy=\"-1149\" rx=\"27\" ry=\"18\"/>\n<text text-anchor=\"middle\" x=\"464.5713\" y=\"-1145.3\" font-family=\"Times,serif\" font-size=\"14.00\" fill=\"#000000\">6</text>\n</g>\n<!-- 0&#45;&#45;6 -->\n<g id=\"edge2\" class=\"edge\">\n<title>0&#45;&#45;6</title>\n<path fill=\"none\" stroke=\"#000000\" d=\"M416.6981,-1305.5282C418.9961,-1299.6759 421.4862,-1293.0907 423.5713,-1287 438.1427,-1244.4371 452.4929,-1193.5032 459.729,-1167.0124\"/>\n<text text-anchor=\"middle\" x=\"448.5713\" y=\"-1232.3\" font-family=\"Times,serif\" font-size=\"14.00\" fill=\"#000000\">1</text>\n</g>\n<!-- 7 -->\n<g id=\"node4\" class=\"node\">\n<title>7</title>\n<ellipse fill=\"none\" stroke=\"#000000\" cx=\"392.5713\" cy=\"-1062\" rx=\"27\" ry=\"18\"/>\n<text text-anchor=\"middle\" x=\"392.5713\" y=\"-1058.3\" font-family=\"Times,serif\" font-size=\"14.00\" fill=\"#000000\">7</text>\n</g>\n<!-- 0&#45;&#45;7 -->\n<g id=\"edge3\" class=\"edge\">\n<title>0&#45;&#45;7</title>\n<path fill=\"none\" stroke=\"#000000\" d=\"M408.5749,-1304.9091C406.4412,-1266.6856 401.1672,-1174.8986 395.5713,-1098 395.1525,-1092.2453 394.6473,-1085.9774 394.1719,-1080.3083\"/>\n<text text-anchor=\"middle\" x=\"406.5713\" y=\"-1188.8\" font-family=\"Times,serif\" font-size=\"14.00\" fill=\"#000000\">2</text>\n</g>\n<!-- 1&#45;&#45;6 -->\n<g id=\"edge5\" class=\"edge\">\n<title>1&#45;&#45;6</title>\n<path fill=\"none\" stroke=\"#000000\" d=\"M377.014,-1225.6443C389.8282,-1219.1924 405.8282,-1210.1924 418.5713,-1200 431.235,-1189.871 443.426,-1176.1105 452.0724,-1165.4357\"/>\n<text text-anchor=\"middle\" x=\"437.5713\" y=\"-1188.8\" font-family=\"Times,serif\" font-size=\"14.00\" fill=\"#000000\">2</text>\n</g>\n<!-- 1&#45;&#45;7 -->\n<g id=\"edge6\" class=\"edge\">\n<title>1&#45;&#45;7</title>\n<path fill=\"none\" stroke=\"#000000\" d=\"M358.4949,-1218.0343C365.7955,-1184.605 381.3846,-1113.2232 388.6691,-1079.868\"/>\n<text text-anchor=\"middle\" x=\"381.5713\" y=\"-1145.3\" font-family=\"Times,serif\" font-size=\"14.00\" fill=\"#000000\">1</text>\n</g>\n<!-- 2 -->\n<g id=\"node5\" class=\"node\">\n<title>2</title>\n<ellipse fill=\"none\" stroke=\"#000000\" cx=\"264.5713\" cy=\"-1149\" rx=\"27\" ry=\"18\"/>\n<text text-anchor=\"middle\" x=\"264.5713\" y=\"-1145.3\" font-family=\"Times,serif\" font-size=\"14.00\" fill=\"#000000\">2</text>\n</g>\n<!-- 1&#45;&#45;2 -->\n<g id=\"edge4\" class=\"edge\">\n<title>1&#45;&#45;2</title>\n<path fill=\"none\" stroke=\"#000000\" d=\"M332.6903,-1225.1433C321.3651,-1218.8297 307.8068,-1210.1236 297.5713,-1200 287.6739,-1190.2107 279.2095,-1176.9573 273.3317,-1166.4148\"/>\n<text text-anchor=\"middle\" x=\"301.5713\" y=\"-1188.8\" font-family=\"Times,serif\" font-size=\"14.00\" fill=\"#000000\">1</text>\n</g>\n<!-- 8 -->\n<g id=\"node6\" class=\"node\">\n<title>8</title>\n<ellipse fill=\"none\" stroke=\"#000000\" cx=\"302.5713\" cy=\"-975\" rx=\"27\" ry=\"18\"/>\n<text text-anchor=\"middle\" x=\"302.5713\" y=\"-971.3\" font-family=\"Times,serif\" font-size=\"14.00\" fill=\"#000000\">8</text>\n</g>\n<!-- 1&#45;&#45;8 -->\n<g id=\"edge7\" class=\"edge\">\n<title>1&#45;&#45;8</title>\n<path fill=\"none\" stroke=\"#000000\" d=\"M349.0534,-1218.2408C341.8438,-1194.4769 329.238,-1150.9242 321.5713,-1113 312.9455,-1070.3313 307.0564,-1019.4404 304.32,-992.9845\"/>\n<text text-anchor=\"middle\" x=\"325.5713\" y=\"-1101.8\" font-family=\"Times,serif\" font-size=\"14.00\" fill=\"#000000\">2</text>\n</g>\n<!-- 6&#45;&#45;7 -->\n<g id=\"edge22\" class=\"edge\">\n<title>6&#45;&#45;7</title>\n<path fill=\"none\" stroke=\"#000000\" d=\"M451.3654,-1133.0429C438.3743,-1117.3453 418.6556,-1093.5185 405.6935,-1077.856\"/>\n<text text-anchor=\"middle\" x=\"436.5713\" y=\"-1101.8\" font-family=\"Times,serif\" font-size=\"14.00\" fill=\"#000000\">1</text>\n</g>\n<!-- 12 -->\n<g id=\"node13\" class=\"node\">\n<title>12</title>\n<ellipse fill=\"none\" stroke=\"#000000\" cx=\"520.5713\" cy=\"-975\" rx=\"27\" ry=\"18\"/>\n<text text-anchor=\"middle\" x=\"520.5713\" y=\"-971.3\" font-family=\"Times,serif\" font-size=\"14.00\" fill=\"#000000\">12</text>\n</g>\n<!-- 6&#45;&#45;12 -->\n<g id=\"edge23\" class=\"edge\">\n<title>6&#45;&#45;12</title>\n<path fill=\"none\" stroke=\"#000000\" d=\"M472.2721,-1131.5672C474.7386,-1125.7175 477.3927,-1119.124 479.5713,-1113 494.6503,-1070.6143 508.7942,-1019.6084 515.8632,-993.0593\"/>\n<text text-anchor=\"middle\" x=\"504.5713\" y=\"-1058.3\" font-family=\"Times,serif\" font-size=\"14.00\" fill=\"#000000\">1</text>\n</g>\n<!-- 13 -->\n<g id=\"node14\" class=\"node\">\n<title>13</title>\n<ellipse fill=\"none\" stroke=\"#000000\" cx=\"448.5713\" cy=\"-888\" rx=\"27\" ry=\"18\"/>\n<text text-anchor=\"middle\" x=\"448.5713\" y=\"-884.3\" font-family=\"Times,serif\" font-size=\"14.00\" fill=\"#000000\">13</text>\n</g>\n<!-- 6&#45;&#45;13 -->\n<g id=\"edge24\" class=\"edge\">\n<title>6&#45;&#45;13</title>\n<path fill=\"none\" stroke=\"#000000\" d=\"M463.4462,-1130.647C460.5014,-1082.6091 452.5933,-953.6091 449.6739,-905.9862\"/>\n<text text-anchor=\"middle\" x=\"460.5713\" y=\"-1014.8\" font-family=\"Times,serif\" font-size=\"14.00\" fill=\"#000000\">2</text>\n</g>\n<!-- 7&#45;&#45;8 -->\n<g id=\"edge25\" class=\"edge\">\n<title>7&#45;&#45;8</title>\n<path fill=\"none\" stroke=\"#000000\" d=\"M376.6127,-1046.9976C369.7966,-1040.5599 361.7685,-1032.9376 354.5713,-1026 342.1898,-1014.0651 328.2878,-1000.4174 317.9753,-990.2452\"/>\n<text text-anchor=\"middle\" x=\"358.5713\" y=\"-1014.8\" font-family=\"Times,serif\" font-size=\"14.00\" fill=\"#000000\">1</text>\n</g>\n<!-- 7&#45;&#45;12 -->\n<g id=\"edge26\" class=\"edge\">\n<title>7&#45;&#45;12</title>\n<path fill=\"none\" stroke=\"#000000\" d=\"M417.3192,-1054.2414C434.3801,-1048.1761 457.0491,-1038.6498 474.5713,-1026 487.9126,-1016.3685 500.2374,-1002.3009 508.7648,-991.3788\"/>\n<text text-anchor=\"middle\" x=\"494.5713\" y=\"-1014.8\" font-family=\"Times,serif\" font-size=\"14.00\" fill=\"#000000\">2</text>\n</g>\n<!-- 7&#45;&#45;13 -->\n<g id=\"edge27\" class=\"edge\">\n<title>7&#45;&#45;13</title>\n<path fill=\"none\" stroke=\"#000000\" d=\"M398.2491,-1044.3584C408.9823,-1011.0087 432.1337,-939.074 442.8785,-905.6883\"/>\n<text text-anchor=\"middle\" x=\"429.5713\" y=\"-971.3\" font-family=\"Times,serif\" font-size=\"14.00\" fill=\"#000000\">1</text>\n</g>\n<!-- 14 -->\n<g id=\"node15\" class=\"node\">\n<title>14</title>\n<ellipse fill=\"none\" stroke=\"#000000\" cx=\"358.5713\" cy=\"-801\" rx=\"27\" ry=\"18\"/>\n<text text-anchor=\"middle\" x=\"358.5713\" y=\"-797.3\" font-family=\"Times,serif\" font-size=\"14.00\" fill=\"#000000\">14</text>\n</g>\n<!-- 7&#45;&#45;14 -->\n<g id=\"edge28\" class=\"edge\">\n<title>7&#45;&#45;14</title>\n<path fill=\"none\" stroke=\"#000000\" d=\"M390.2344,-1044.0604C384.0231,-996.3798 367.1546,-866.889 360.9246,-819.0651\"/>\n<text text-anchor=\"middle\" x=\"380.5713\" y=\"-927.8\" font-family=\"Times,serif\" font-size=\"14.00\" fill=\"#000000\">2</text>\n</g>\n<!-- 2&#45;&#45;7 -->\n<g id=\"edge9\" class=\"edge\">\n<title>2&#45;&#45;7</title>\n<path fill=\"none\" stroke=\"#000000\" d=\"M286.1247,-1137.9926C298.7858,-1131.2546 314.9302,-1122.1852 328.5713,-1113 345.4237,-1101.6525 363.4186,-1087.0689 376.0211,-1076.4053\"/>\n<text text-anchor=\"middle\" x=\"353.5713\" y=\"-1101.8\" font-family=\"Times,serif\" font-size=\"14.00\" fill=\"#000000\">2</text>\n</g>\n<!-- 2&#45;&#45;8 -->\n<g id=\"edge10\" class=\"edge\">\n<title>2&#45;&#45;8</title>\n<path fill=\"none\" stroke=\"#000000\" d=\"M268.4949,-1131.0343C275.7955,-1097.605 291.3846,-1026.2232 298.6691,-992.868\"/>\n<text text-anchor=\"middle\" x=\"291.5713\" y=\"-1058.3\" font-family=\"Times,serif\" font-size=\"14.00\" fill=\"#000000\">1</text>\n</g>\n<!-- 3 -->\n<g id=\"node7\" class=\"node\">\n<title>3</title>\n<ellipse fill=\"none\" stroke=\"#000000\" cx=\"174.5713\" cy=\"-1062\" rx=\"27\" ry=\"18\"/>\n<text text-anchor=\"middle\" x=\"174.5713\" y=\"-1058.3\" font-family=\"Times,serif\" font-size=\"14.00\" fill=\"#000000\">3</text>\n</g>\n<!-- 2&#45;&#45;3 -->\n<g id=\"edge8\" class=\"edge\">\n<title>2&#45;&#45;3</title>\n<path fill=\"none\" stroke=\"#000000\" d=\"M242.6903,-1138.1433C231.3651,-1131.8297 217.8068,-1123.1236 207.5713,-1113 197.6739,-1103.2107 189.2095,-1089.9573 183.3317,-1079.4148\"/>\n<text text-anchor=\"middle\" x=\"211.5713\" y=\"-1101.8\" font-family=\"Times,serif\" font-size=\"14.00\" fill=\"#000000\">1</text>\n</g>\n<!-- 9 -->\n<g id=\"node8\" class=\"node\">\n<title>9</title>\n<ellipse fill=\"none\" stroke=\"#000000\" cx=\"216.5713\" cy=\"-888\" rx=\"27\" ry=\"18\"/>\n<text text-anchor=\"middle\" x=\"216.5713\" y=\"-884.3\" font-family=\"Times,serif\" font-size=\"14.00\" fill=\"#000000\">9</text>\n</g>\n<!-- 2&#45;&#45;9 -->\n<g id=\"edge11\" class=\"edge\">\n<title>2&#45;&#45;9</title>\n<path fill=\"none\" stroke=\"#000000\" d=\"M258.8906,-1131.2725C251.5007,-1107.5437 238.6959,-1064.0298 231.5713,-1026 223.5836,-983.3628 219.4128,-932.459 217.6404,-905.9928\"/>\n<text text-anchor=\"middle\" x=\"235.5713\" y=\"-1014.8\" font-family=\"Times,serif\" font-size=\"14.00\" fill=\"#000000\">2</text>\n</g>\n<!-- 8&#45;&#45;9 -->\n<g id=\"edge29\" class=\"edge\">\n<title>8&#45;&#45;9</title>\n<path fill=\"none\" stroke=\"#000000\" d=\"M286.4759,-960.1367C279.6367,-953.7225 271.6283,-946.0801 264.5713,-939 252.8976,-927.288 240.0803,-913.6265 230.6292,-903.3922\"/>\n<text text-anchor=\"middle\" x=\"268.5713\" y=\"-927.8\" font-family=\"Times,serif\" font-size=\"14.00\" fill=\"#000000\">1</text>\n</g>\n<!-- 8&#45;&#45;13 -->\n<g id=\"edge30\" class=\"edge\">\n<title>8&#45;&#45;13</title>\n<path fill=\"none\" stroke=\"#000000\" d=\"M326.3453,-966.4546C343.1613,-959.9636 365.9384,-950.2519 384.5713,-939 402.0846,-928.4242 420.1455,-913.6095 432.5965,-902.6708\"/>\n<text text-anchor=\"middle\" x=\"409.5713\" y=\"-927.8\" font-family=\"Times,serif\" font-size=\"14.00\" fill=\"#000000\">2</text>\n</g>\n<!-- 8&#45;&#45;14 -->\n<g id=\"edge31\" class=\"edge\">\n<title>8&#45;&#45;14</title>\n<path fill=\"none\" stroke=\"#000000\" d=\"M308.2491,-957.3584C318.9823,-924.0087 342.1337,-852.074 352.8785,-818.6883\"/>\n<text text-anchor=\"middle\" x=\"340.5713\" y=\"-884.3\" font-family=\"Times,serif\" font-size=\"14.00\" fill=\"#000000\">1</text>\n</g>\n<!-- 15 -->\n<g id=\"node16\" class=\"node\">\n<title>15</title>\n<ellipse fill=\"none\" stroke=\"#000000\" cx=\"267.5713\" cy=\"-714\" rx=\"27\" ry=\"18\"/>\n<text text-anchor=\"middle\" x=\"267.5713\" y=\"-710.3\" font-family=\"Times,serif\" font-size=\"14.00\" fill=\"#000000\">15</text>\n</g>\n<!-- 8&#45;&#45;15 -->\n<g id=\"edge32\" class=\"edge\">\n<title>8&#45;&#45;15</title>\n<path fill=\"none\" stroke=\"#000000\" d=\"M300.1656,-957.0604C293.7717,-909.3798 276.407,-779.889 269.9938,-732.0651\"/>\n<text text-anchor=\"middle\" x=\"290.5713\" y=\"-840.8\" font-family=\"Times,serif\" font-size=\"14.00\" fill=\"#000000\">2</text>\n</g>\n<!-- 3&#45;&#45;8 -->\n<g id=\"edge13\" class=\"edge\">\n<title>3&#45;&#45;8</title>\n<path fill=\"none\" stroke=\"#000000\" d=\"M196.1247,-1050.9926C208.7858,-1044.2546 224.9302,-1035.1852 238.5713,-1026 255.4237,-1014.6525 273.4186,-1000.0689 286.0211,-989.4053\"/>\n<text text-anchor=\"middle\" x=\"263.5713\" y=\"-1014.8\" font-family=\"Times,serif\" font-size=\"14.00\" fill=\"#000000\">2</text>\n</g>\n<!-- 3&#45;&#45;9 -->\n<g id=\"edge14\" class=\"edge\">\n<title>3&#45;&#45;9</title>\n<path fill=\"none\" stroke=\"#000000\" d=\"M178.9079,-1044.0343C186.977,-1010.605 204.2071,-939.2232 212.2584,-905.868\"/>\n<text text-anchor=\"middle\" x=\"204.5713\" y=\"-971.3\" font-family=\"Times,serif\" font-size=\"14.00\" fill=\"#000000\">1</text>\n</g>\n<!-- 4 -->\n<g id=\"node9\" class=\"node\">\n<title>4</title>\n<ellipse fill=\"none\" stroke=\"#000000\" cx=\"89.5713\" cy=\"-975\" rx=\"27\" ry=\"18\"/>\n<text text-anchor=\"middle\" x=\"89.5713\" y=\"-971.3\" font-family=\"Times,serif\" font-size=\"14.00\" fill=\"#000000\">4</text>\n</g>\n<!-- 3&#45;&#45;4 -->\n<g id=\"edge12\" class=\"edge\">\n<title>3&#45;&#45;4</title>\n<path fill=\"none\" stroke=\"#000000\" d=\"M153.9013,-1050.3254C143.7405,-1043.9628 131.7416,-1035.4613 122.5713,-1026 112.8828,-1016.004 104.4119,-1002.757 98.4788,-992.2693\"/>\n<text text-anchor=\"middle\" x=\"126.5713\" y=\"-1014.8\" font-family=\"Times,serif\" font-size=\"14.00\" fill=\"#000000\">1</text>\n</g>\n<!-- 10 -->\n<g id=\"node10\" class=\"node\">\n<title>10</title>\n<ellipse fill=\"none\" stroke=\"#000000\" cx=\"126.5713\" cy=\"-801\" rx=\"27\" ry=\"18\"/>\n<text text-anchor=\"middle\" x=\"126.5713\" y=\"-797.3\" font-family=\"Times,serif\" font-size=\"14.00\" fill=\"#000000\">10</text>\n</g>\n<!-- 3&#45;&#45;10 -->\n<g id=\"edge15\" class=\"edge\">\n<title>3&#45;&#45;10</title>\n<path fill=\"none\" stroke=\"#000000\" d=\"M170.0404,-1044.1674C164.0902,-1020.3222 153.5789,-976.6797 146.5713,-939 138.6481,-896.397 132.0269,-845.9025 128.7606,-819.3812\"/>\n<text text-anchor=\"middle\" x=\"150.5713\" y=\"-927.8\" font-family=\"Times,serif\" font-size=\"14.00\" fill=\"#000000\">2</text>\n</g>\n<!-- 9&#45;&#45;10 -->\n<g id=\"edge33\" class=\"edge\">\n<title>9&#45;&#45;10</title>\n<path fill=\"none\" stroke=\"#000000\" d=\"M200.6127,-872.9976C193.7966,-866.5599 185.7685,-858.9376 178.5713,-852 166.1898,-840.0651 152.2878,-826.4174 141.9753,-816.2452\"/>\n<text text-anchor=\"middle\" x=\"182.5713\" y=\"-840.8\" font-family=\"Times,serif\" font-size=\"14.00\" fill=\"#000000\">1</text>\n</g>\n<!-- 9&#45;&#45;14 -->\n<g id=\"edge34\" class=\"edge\">\n<title>9&#45;&#45;14</title>\n<path fill=\"none\" stroke=\"#000000\" d=\"M240.1911,-878.848C256.0642,-872.2815 277.18,-862.7255 294.5713,-852 311.9849,-841.2608 330.0582,-826.4665 342.5393,-815.577\"/>\n<text text-anchor=\"middle\" x=\"319.5713\" y=\"-840.8\" font-family=\"Times,serif\" font-size=\"14.00\" fill=\"#000000\">2</text>\n</g>\n<!-- 9&#45;&#45;15 -->\n<g id=\"edge35\" class=\"edge\">\n<title>9&#45;&#45;15</title>\n<path fill=\"none\" stroke=\"#000000\" d=\"M221.8371,-870.0343C231.6354,-836.605 252.5576,-765.2232 262.3342,-731.868\"/>\n<text text-anchor=\"middle\" x=\"251.5713\" y=\"-797.3\" font-family=\"Times,serif\" font-size=\"14.00\" fill=\"#000000\">1</text>\n</g>\n<!-- 16 -->\n<g id=\"node17\" class=\"node\">\n<title>16</title>\n<ellipse fill=\"none\" stroke=\"#000000\" cx=\"181.5713\" cy=\"-627\" rx=\"27\" ry=\"18\"/>\n<text text-anchor=\"middle\" x=\"181.5713\" y=\"-623.3\" font-family=\"Times,serif\" font-size=\"14.00\" fill=\"#000000\">16</text>\n</g>\n<!-- 9&#45;&#45;16 -->\n<g id=\"edge36\" class=\"edge\">\n<title>9&#45;&#45;16</title>\n<path fill=\"none\" stroke=\"#000000\" d=\"M214.1656,-870.0604C207.7717,-822.3798 190.407,-692.889 183.9938,-645.0651\"/>\n<text text-anchor=\"middle\" x=\"204.5713\" y=\"-753.8\" font-family=\"Times,serif\" font-size=\"14.00\" fill=\"#000000\">2</text>\n</g>\n<!-- 4&#45;&#45;9 -->\n<g id=\"edge17\" class=\"edge\">\n<title>4&#45;&#45;9</title>\n<path fill=\"none\" stroke=\"#000000\" d=\"M111.1508,-964.0313C123.8209,-957.3066 139.9656,-948.2376 153.5713,-939 170.2199,-927.6965 187.9266,-913.1078 200.3145,-902.431\"/>\n<text text-anchor=\"middle\" x=\"177.5713\" y=\"-927.8\" font-family=\"Times,serif\" font-size=\"14.00\" fill=\"#000000\">2</text>\n</g>\n<!-- 4&#45;&#45;10 -->\n<g id=\"edge18\" class=\"edge\">\n<title>4&#45;&#45;10</title>\n<path fill=\"none\" stroke=\"#000000\" d=\"M93.3916,-957.0343C100.5002,-923.605 115.679,-852.2232 122.7718,-818.868\"/>\n<text text-anchor=\"middle\" x=\"116.5713\" y=\"-884.3\" font-family=\"Times,serif\" font-size=\"14.00\" fill=\"#000000\">1</text>\n</g>\n<!-- 5 -->\n<g id=\"node11\" class=\"node\">\n<title>5</title>\n<ellipse fill=\"none\" stroke=\"#000000\" cx=\"45.5713\" cy=\"-888\" rx=\"27\" ry=\"18\"/>\n<text text-anchor=\"middle\" x=\"45.5713\" y=\"-884.3\" font-family=\"Times,serif\" font-size=\"14.00\" fill=\"#000000\">5</text>\n</g>\n<!-- 4&#45;&#45;5 -->\n<g id=\"edge16\" class=\"edge\">\n<title>4&#45;&#45;5</title>\n<path fill=\"none\" stroke=\"#000000\" d=\"M80.8783,-957.8116C73.1645,-942.5593 61.9546,-920.3942 54.2462,-905.1527\"/>\n<text text-anchor=\"middle\" x=\"74.5713\" y=\"-927.8\" font-family=\"Times,serif\" font-size=\"14.00\" fill=\"#000000\">1</text>\n</g>\n<!-- 11 -->\n<g id=\"node12\" class=\"node\">\n<title>11</title>\n<ellipse fill=\"none\" stroke=\"#000000\" cx=\"53.5713\" cy=\"-714\" rx=\"27\" ry=\"18\"/>\n<text text-anchor=\"middle\" x=\"53.5713\" y=\"-710.3\" font-family=\"Times,serif\" font-size=\"14.00\" fill=\"#000000\">11</text>\n</g>\n<!-- 4&#45;&#45;11 -->\n<g id=\"edge19\" class=\"edge\">\n<title>4&#45;&#45;11</title>\n<path fill=\"none\" stroke=\"#000000\" d=\"M68.3128,-963.7697C48.9357,-952.2003 21.5635,-932.1798 9.5713,-906 -18.3425,-845.0621 22.2787,-764.8885 42.8532,-730.6545\"/>\n<text text-anchor=\"middle\" x=\"6.5713\" y=\"-840.8\" font-family=\"Times,serif\" font-size=\"14.00\" fill=\"#000000\">2</text>\n</g>\n<!-- 10&#45;&#45;11 -->\n<g id=\"edge37\" class=\"edge\">\n<title>10&#45;&#45;11</title>\n<path fill=\"none\" stroke=\"#000000\" d=\"M108.8876,-786.8582C101.5632,-780.5659 93.2402,-772.8195 86.5713,-765 77.6749,-754.5685 69.3041,-741.58 63.2192,-731.3214\"/>\n<text text-anchor=\"middle\" x=\"90.5713\" y=\"-753.8\" font-family=\"Times,serif\" font-size=\"14.00\" fill=\"#000000\">1</text>\n</g>\n<!-- 10&#45;&#45;15 -->\n<g id=\"edge38\" class=\"edge\">\n<title>10&#45;&#45;15</title>\n<path fill=\"none\" stroke=\"#000000\" d=\"M150.5166,-792.45C167.1397,-786.0217 189.4636,-776.387 207.5713,-765 224.0052,-754.6656 240.6684,-740.1044 252.2502,-729.1851\"/>\n<text text-anchor=\"middle\" x=\"231.5713\" y=\"-753.8\" font-family=\"Times,serif\" font-size=\"14.00\" fill=\"#000000\">2</text>\n</g>\n<!-- 10&#45;&#45;16 -->\n<g id=\"edge39\" class=\"edge\">\n<title>10&#45;&#45;16</title>\n<path fill=\"none\" stroke=\"#000000\" d=\"M132.1477,-783.3584C142.6893,-750.0087 165.4273,-678.074 175.9802,-644.6883\"/>\n<text text-anchor=\"middle\" x=\"163.5713\" y=\"-710.3\" font-family=\"Times,serif\" font-size=\"14.00\" fill=\"#000000\">1</text>\n</g>\n<!-- 17 -->\n<g id=\"node18\" class=\"node\">\n<title>17</title>\n<ellipse fill=\"none\" stroke=\"#000000\" cx=\"109.5713\" cy=\"-540\" rx=\"27\" ry=\"18\"/>\n<text text-anchor=\"middle\" x=\"109.5713\" y=\"-536.3\" font-family=\"Times,serif\" font-size=\"14.00\" fill=\"#000000\">17</text>\n</g>\n<!-- 10&#45;&#45;17 -->\n<g id=\"edge40\" class=\"edge\">\n<title>10&#45;&#45;17</title>\n<path fill=\"none\" stroke=\"#000000\" d=\"M123.4853,-782.7313C119.6011,-758.7707 113.1285,-715.3819 110.5713,-678 107.6444,-635.2135 108.3217,-584.7921 108.9939,-558.3313\"/>\n<text text-anchor=\"middle\" x=\"114.5713\" y=\"-666.8\" font-family=\"Times,serif\" font-size=\"14.00\" fill=\"#000000\">2</text>\n</g>\n<!-- 5&#45;&#45;10 -->\n<g id=\"edge20\" class=\"edge\">\n<title>5&#45;&#45;10</title>\n<path fill=\"none\" stroke=\"#000000\" d=\"M57.5038,-871.8272C65.3676,-861.5148 76.1108,-848.0599 86.5713,-837 93.7616,-829.3978 102.3166,-821.5569 109.666,-815.1412\"/>\n<text text-anchor=\"middle\" x=\"90.5713\" y=\"-840.8\" font-family=\"Times,serif\" font-size=\"14.00\" fill=\"#000000\">2</text>\n</g>\n<!-- 5&#45;&#45;11 -->\n<g id=\"edge21\" class=\"edge\">\n<title>5&#45;&#45;11</title>\n<path fill=\"none\" stroke=\"#000000\" d=\"M46.4123,-869.7078C47.9528,-836.2024 51.2095,-765.3695 52.7416,-732.0471\"/>\n<text text-anchor=\"middle\" x=\"54.5713\" y=\"-797.3\" font-family=\"Times,serif\" font-size=\"14.00\" fill=\"#000000\">1</text>\n</g>\n<!-- 11&#45;&#45;16 -->\n<g id=\"edge41\" class=\"edge\">\n<title>11&#45;&#45;16</title>\n<path fill=\"none\" stroke=\"#000000\" d=\"M75.1247,-702.9926C87.7858,-696.2546 103.9302,-687.1852 117.5713,-678 134.4237,-666.6525 152.4186,-652.0689 165.0211,-641.4053\"/>\n<text text-anchor=\"middle\" x=\"142.5713\" y=\"-666.8\" font-family=\"Times,serif\" font-size=\"14.00\" fill=\"#000000\">2</text>\n</g>\n<!-- 11&#45;&#45;17 -->\n<g id=\"edge42\" class=\"edge\">\n<title>11&#45;&#45;17</title>\n<path fill=\"none\" stroke=\"#000000\" d=\"M58.2794,-695.9407C65.3484,-669.3916 79.4923,-618.3857 94.5713,-576 96.75,-569.876 99.404,-563.2825 101.8705,-557.4328\"/>\n<text text-anchor=\"middle\" x=\"87.5713\" y=\"-623.3\" font-family=\"Times,serif\" font-size=\"14.00\" fill=\"#000000\">1</text>\n</g>\n<!-- 12&#45;&#45;13 -->\n<g id=\"edge43\" class=\"edge\">\n<title>12&#45;&#45;13</title>\n<path fill=\"none\" stroke=\"#000000\" d=\"M507.3654,-959.0429C494.3743,-943.3453 474.6556,-919.5185 461.6935,-903.856\"/>\n<text text-anchor=\"middle\" x=\"492.5713\" y=\"-927.8\" font-family=\"Times,serif\" font-size=\"14.00\" fill=\"#000000\">1</text>\n</g>\n<!-- 18 -->\n<g id=\"node19\" class=\"node\">\n<title>18</title>\n<ellipse fill=\"none\" stroke=\"#000000\" cx=\"576.5713\" cy=\"-801\" rx=\"27\" ry=\"18\"/>\n<text text-anchor=\"middle\" x=\"576.5713\" y=\"-797.3\" font-family=\"Times,serif\" font-size=\"14.00\" fill=\"#000000\">18</text>\n</g>\n<!-- 12&#45;&#45;18 -->\n<g id=\"edge44\" class=\"edge\">\n<title>12&#45;&#45;18</title>\n<path fill=\"none\" stroke=\"#000000\" d=\"M528.2721,-957.5672C530.7386,-951.7175 533.3927,-945.124 535.5713,-939 550.6503,-896.6143 564.7942,-845.6084 571.8632,-819.0593\"/>\n<text text-anchor=\"middle\" x=\"560.5713\" y=\"-884.3\" font-family=\"Times,serif\" font-size=\"14.00\" fill=\"#000000\">1</text>\n</g>\n<!-- 19 -->\n<g id=\"node20\" class=\"node\">\n<title>19</title>\n<ellipse fill=\"none\" stroke=\"#000000\" cx=\"504.5713\" cy=\"-714\" rx=\"27\" ry=\"18\"/>\n<text text-anchor=\"middle\" x=\"504.5713\" y=\"-710.3\" font-family=\"Times,serif\" font-size=\"14.00\" fill=\"#000000\">19</text>\n</g>\n<!-- 12&#45;&#45;19 -->\n<g id=\"edge45\" class=\"edge\">\n<title>12&#45;&#45;19</title>\n<path fill=\"none\" stroke=\"#000000\" d=\"M519.4462,-956.647C516.5014,-908.6091 508.5933,-779.6091 505.6739,-731.9862\"/>\n<text text-anchor=\"middle\" x=\"516.5713\" y=\"-840.8\" font-family=\"Times,serif\" font-size=\"14.00\" fill=\"#000000\">2</text>\n</g>\n<!-- 13&#45;&#45;14 -->\n<g id=\"edge46\" class=\"edge\">\n<title>13&#45;&#45;14</title>\n<path fill=\"none\" stroke=\"#000000\" d=\"M432.6127,-872.9976C425.7966,-866.5599 417.7685,-858.9376 410.5713,-852 398.1898,-840.0651 384.2878,-826.4174 373.9753,-816.2452\"/>\n<text text-anchor=\"middle\" x=\"414.5713\" y=\"-840.8\" font-family=\"Times,serif\" font-size=\"14.00\" fill=\"#000000\">1</text>\n</g>\n<!-- 13&#45;&#45;18 -->\n<g id=\"edge47\" class=\"edge\">\n<title>13&#45;&#45;18</title>\n<path fill=\"none\" stroke=\"#000000\" d=\"M473.3192,-880.2414C490.3801,-874.1761 513.0491,-864.6498 530.5713,-852 543.9126,-842.3685 556.2374,-828.3009 564.7648,-817.3788\"/>\n<text text-anchor=\"middle\" x=\"550.5713\" y=\"-840.8\" font-family=\"Times,serif\" font-size=\"14.00\" fill=\"#000000\">2</text>\n</g>\n<!-- 13&#45;&#45;19 -->\n<g id=\"edge48\" class=\"edge\">\n<title>13&#45;&#45;19</title>\n<path fill=\"none\" stroke=\"#000000\" d=\"M454.2491,-870.3584C464.9823,-837.0087 488.1337,-765.074 498.8785,-731.6883\"/>\n<text text-anchor=\"middle\" x=\"485.5713\" y=\"-797.3\" font-family=\"Times,serif\" font-size=\"14.00\" fill=\"#000000\">1</text>\n</g>\n<!-- 20 -->\n<g id=\"node21\" class=\"node\">\n<title>20</title>\n<ellipse fill=\"none\" stroke=\"#000000\" cx=\"410.5713\" cy=\"-627\" rx=\"27\" ry=\"18\"/>\n<text text-anchor=\"middle\" x=\"410.5713\" y=\"-623.3\" font-family=\"Times,serif\" font-size=\"14.00\" fill=\"#000000\">20</text>\n</g>\n<!-- 13&#45;&#45;20 -->\n<g id=\"edge49\" class=\"edge\">\n<title>13&#45;&#45;20</title>\n<path fill=\"none\" stroke=\"#000000\" d=\"M445.9594,-870.0604C439.0174,-822.3798 420.1644,-692.889 413.2015,-645.0651\"/>\n<text text-anchor=\"middle\" x=\"433.5713\" y=\"-753.8\" font-family=\"Times,serif\" font-size=\"14.00\" fill=\"#000000\">2</text>\n</g>\n<!-- 14&#45;&#45;15 -->\n<g id=\"edge50\" class=\"edge\">\n<title>14&#45;&#45;15</title>\n<path fill=\"none\" stroke=\"#000000\" d=\"M342.6448,-785.9641C335.8341,-779.5207 327.8014,-771.9032 320.5713,-765 308.0106,-753.0072 293.8376,-739.3632 283.3104,-729.2071\"/>\n<text text-anchor=\"middle\" x=\"324.5713\" y=\"-753.8\" font-family=\"Times,serif\" font-size=\"14.00\" fill=\"#000000\">1</text>\n</g>\n<!-- 14&#45;&#45;19 -->\n<g id=\"edge51\" class=\"edge\">\n<title>14&#45;&#45;19</title>\n<path fill=\"none\" stroke=\"#000000\" d=\"M382.3453,-792.4546C399.1613,-785.9636 421.9384,-776.2519 440.5713,-765 458.0846,-754.4242 476.1455,-739.6095 488.5965,-728.6708\"/>\n<text text-anchor=\"middle\" x=\"464.5713\" y=\"-753.8\" font-family=\"Times,serif\" font-size=\"14.00\" fill=\"#000000\">2</text>\n</g>\n<!-- 14&#45;&#45;20 -->\n<g id=\"edge52\" class=\"edge\">\n<title>14&#45;&#45;20</title>\n<path fill=\"none\" stroke=\"#000000\" d=\"M363.9404,-783.0343C373.9308,-749.605 395.2632,-678.2232 405.2315,-644.868\"/>\n<text text-anchor=\"middle\" x=\"394.5713\" y=\"-710.3\" font-family=\"Times,serif\" font-size=\"14.00\" fill=\"#000000\">1</text>\n</g>\n<!-- 21 -->\n<g id=\"node22\" class=\"node\">\n<title>21</title>\n<ellipse fill=\"none\" stroke=\"#000000\" cx=\"326.5713\" cy=\"-540\" rx=\"27\" ry=\"18\"/>\n<text text-anchor=\"middle\" x=\"326.5713\" y=\"-536.3\" font-family=\"Times,serif\" font-size=\"14.00\" fill=\"#000000\">21</text>\n</g>\n<!-- 14&#45;&#45;21 -->\n<g id=\"edge53\" class=\"edge\">\n<title>14&#45;&#45;21</title>\n<path fill=\"none\" stroke=\"#000000\" d=\"M356.3211,-782.647C350.4314,-734.6091 334.6153,-605.6091 328.7765,-557.9862\"/>\n<text text-anchor=\"middle\" x=\"347.5713\" y=\"-666.8\" font-family=\"Times,serif\" font-size=\"14.00\" fill=\"#000000\">2</text>\n</g>\n<!-- 15&#45;&#45;16 -->\n<g id=\"edge54\" class=\"edge\">\n<title>15&#45;&#45;16</title>\n<path fill=\"none\" stroke=\"#000000\" d=\"M252.5913,-698.8458C236.9028,-682.9749 212.4004,-658.1875 196.6683,-642.2725\"/>\n<text text-anchor=\"middle\" x=\"234.5713\" y=\"-666.8\" font-family=\"Times,serif\" font-size=\"14.00\" fill=\"#000000\">1</text>\n</g>\n<!-- 15&#45;&#45;20 -->\n<g id=\"edge55\" class=\"edge\">\n<title>15&#45;&#45;20</title>\n<path fill=\"none\" stroke=\"#000000\" d=\"M291.7541,-705.6827C308.8312,-699.2992 331.9042,-689.6221 350.5713,-678 367.0514,-667.7395 383.7096,-653.1702 395.2777,-642.229\"/>\n<text text-anchor=\"middle\" x=\"374.5713\" y=\"-666.8\" font-family=\"Times,serif\" font-size=\"14.00\" fill=\"#000000\">2</text>\n</g>\n<!-- 15&#45;&#45;21 -->\n<g id=\"edge56\" class=\"edge\">\n<title>15&#45;&#45;21</title>\n<path fill=\"none\" stroke=\"#000000\" d=\"M273.5532,-696.3584C284.8615,-663.0087 309.2531,-591.074 320.5736,-557.6883\"/>\n<text text-anchor=\"middle\" x=\"307.5713\" y=\"-623.3\" font-family=\"Times,serif\" font-size=\"14.00\" fill=\"#000000\">1</text>\n</g>\n<!-- 22 -->\n<g id=\"node23\" class=\"node\">\n<title>22</title>\n<ellipse fill=\"none\" stroke=\"#000000\" cx=\"237.5713\" cy=\"-453\" rx=\"27\" ry=\"18\"/>\n<text text-anchor=\"middle\" x=\"237.5713\" y=\"-449.3\" font-family=\"Times,serif\" font-size=\"14.00\" fill=\"#000000\">22</text>\n</g>\n<!-- 15&#45;&#45;22 -->\n<g id=\"edge57\" class=\"edge\">\n<title>15&#45;&#45;22</title>\n<path fill=\"none\" stroke=\"#000000\" d=\"M265.4618,-695.647C259.9402,-647.6091 245.1126,-518.6091 239.6387,-470.9862\"/>\n<text text-anchor=\"middle\" x=\"257.5713\" y=\"-579.8\" font-family=\"Times,serif\" font-size=\"14.00\" fill=\"#000000\">2</text>\n</g>\n<!-- 16&#45;&#45;17 -->\n<g id=\"edge58\" class=\"edge\">\n<title>16&#45;&#45;17</title>\n<path fill=\"none\" stroke=\"#000000\" d=\"M164.8753,-612.6873C157.9346,-606.3661 150.0128,-598.6443 143.5713,-591 134.6571,-580.4212 126.0287,-567.4349 119.6946,-557.2143\"/>\n<text text-anchor=\"middle\" x=\"147.5713\" y=\"-579.8\" font-family=\"Times,serif\" font-size=\"14.00\" fill=\"#000000\">1</text>\n</g>\n<!-- 16&#45;&#45;21 -->\n<g id=\"edge59\" class=\"edge\">\n<title>16&#45;&#45;21</title>\n<path fill=\"none\" stroke=\"#000000\" d=\"M205.3721,-618.4987C222.2007,-612.0284 244.9818,-602.3234 263.5713,-591 280.8774,-580.4584 298.6477,-565.6394 310.8843,-554.6905\"/>\n<text text-anchor=\"middle\" x=\"288.5713\" y=\"-579.8\" font-family=\"Times,serif\" font-size=\"14.00\" fill=\"#000000\">2</text>\n</g>\n<!-- 16&#45;&#45;22 -->\n<g id=\"edge60\" class=\"edge\">\n<title>16&#45;&#45;22</title>\n<path fill=\"none\" stroke=\"#000000\" d=\"M187.2491,-609.3584C197.9823,-576.0087 221.1337,-504.074 231.8785,-470.6883\"/>\n<text text-anchor=\"middle\" x=\"219.5713\" y=\"-536.3\" font-family=\"Times,serif\" font-size=\"14.00\" fill=\"#000000\">1</text>\n</g>\n<!-- 23 -->\n<g id=\"node24\" class=\"node\">\n<title>23</title>\n<ellipse fill=\"none\" stroke=\"#000000\" cx=\"165.5713\" cy=\"-366\" rx=\"27\" ry=\"18\"/>\n<text text-anchor=\"middle\" x=\"165.5713\" y=\"-362.3\" font-family=\"Times,serif\" font-size=\"14.00\" fill=\"#000000\">23</text>\n</g>\n<!-- 16&#45;&#45;23 -->\n<g id=\"edge61\" class=\"edge\">\n<title>16&#45;&#45;23</title>\n<path fill=\"none\" stroke=\"#000000\" d=\"M178.6805,-608.7228C175.0417,-584.753 168.9765,-541.3542 166.5713,-504 163.8157,-461.2021 164.4247,-410.7852 165.0404,-384.3282\"/>\n<text text-anchor=\"middle\" x=\"170.5713\" y=\"-492.8\" font-family=\"Times,serif\" font-size=\"14.00\" fill=\"#000000\">2</text>\n</g>\n<!-- 17&#45;&#45;22 -->\n<g id=\"edge62\" class=\"edge\">\n<title>17&#45;&#45;22</title>\n<path fill=\"none\" stroke=\"#000000\" d=\"M131.1247,-528.9926C143.7858,-522.2546 159.9302,-513.1852 173.5713,-504 190.4237,-492.6525 208.4186,-478.0689 221.0211,-467.4053\"/>\n<text text-anchor=\"middle\" x=\"198.5713\" y=\"-492.8\" font-family=\"Times,serif\" font-size=\"14.00\" fill=\"#000000\">2</text>\n</g>\n<!-- 17&#45;&#45;23 -->\n<g id=\"edge63\" class=\"edge\">\n<title>17&#45;&#45;23</title>\n<path fill=\"none\" stroke=\"#000000\" d=\"M114.2794,-521.9407C121.3484,-495.3916 135.4923,-444.3857 150.5713,-402 152.75,-395.876 155.404,-389.2825 157.8705,-383.4328\"/>\n<text text-anchor=\"middle\" x=\"143.5713\" y=\"-449.3\" font-family=\"Times,serif\" font-size=\"14.00\" fill=\"#000000\">1</text>\n</g>\n<!-- 18&#45;&#45;19 -->\n<g id=\"edge64\" class=\"edge\">\n<title>18&#45;&#45;19</title>\n<path fill=\"none\" stroke=\"#000000\" d=\"M563.7833,-784.8084C555.7641,-774.7262 545.1632,-761.5271 535.5713,-750 529.9792,-743.2796 523.7031,-735.9524 518.2683,-729.6731\"/>\n<text text-anchor=\"middle\" x=\"550.5713\" y=\"-753.8\" font-family=\"Times,serif\" font-size=\"14.00\" fill=\"#000000\">1</text>\n</g>\n<!-- 24 -->\n<g id=\"node25\" class=\"node\">\n<title>24</title>\n<ellipse fill=\"none\" stroke=\"#000000\" cx=\"586.5713\" cy=\"-627\" rx=\"27\" ry=\"18\"/>\n<text text-anchor=\"middle\" x=\"586.5713\" y=\"-623.3\" font-family=\"Times,serif\" font-size=\"14.00\" fill=\"#000000\">24</text>\n</g>\n<!-- 18&#45;&#45;24 -->\n<g id=\"edge65\" class=\"edge\">\n<title>18&#45;&#45;24</title>\n<path fill=\"none\" stroke=\"#000000\" d=\"M577.6226,-782.7078C579.5482,-749.2024 583.619,-678.3695 585.5341,-645.0471\"/>\n<text text-anchor=\"middle\" x=\"585.5713\" y=\"-710.3\" font-family=\"Times,serif\" font-size=\"14.00\" fill=\"#000000\">1</text>\n</g>\n<!-- 25 -->\n<g id=\"node26\" class=\"node\">\n<title>25</title>\n<ellipse fill=\"none\" stroke=\"#000000\" cx=\"596.5713\" cy=\"-540\" rx=\"27\" ry=\"18\"/>\n<text text-anchor=\"middle\" x=\"596.5713\" y=\"-536.3\" font-family=\"Times,serif\" font-size=\"14.00\" fill=\"#000000\">25</text>\n</g>\n<!-- 18&#45;&#45;25 -->\n<g id=\"edge66\" class=\"edge\">\n<title>18&#45;&#45;25</title>\n<path fill=\"none\" stroke=\"#000000\" d=\"M585.5833,-783.9236C602.0941,-750.5552 634.4572,-674.2516 622.5713,-609 619.2449,-590.7385 611.3455,-571.0275 605.1206,-557.3677\"/>\n<text text-anchor=\"middle\" x=\"627.5713\" y=\"-666.8\" font-family=\"Times,serif\" font-size=\"14.00\" fill=\"#000000\">2</text>\n</g>\n<!-- 19&#45;&#45;20 -->\n<g id=\"edge67\" class=\"edge\">\n<title>19&#45;&#45;20</title>\n<path fill=\"none\" stroke=\"#000000\" d=\"M488.6255,-699.2416C471.3401,-683.2434 443.9113,-657.8572 426.5954,-641.8308\"/>\n<text text-anchor=\"middle\" x=\"466.5713\" y=\"-666.8\" font-family=\"Times,serif\" font-size=\"14.00\" fill=\"#000000\">1</text>\n</g>\n<!-- 19&#45;&#45;24 -->\n<g id=\"edge68\" class=\"edge\">\n<title>19&#45;&#45;24</title>\n<path fill=\"none\" stroke=\"#000000\" d=\"M521.4342,-699.8184C528.7757,-693.3953 537.3363,-685.5597 544.5713,-678 555.1985,-666.8959 566.2078,-653.4431 574.2874,-643.1427\"/>\n<text text-anchor=\"middle\" x=\"561.5713\" y=\"-666.8\" font-family=\"Times,serif\" font-size=\"14.00\" fill=\"#000000\">2</text>\n</g>\n<!-- 19&#45;&#45;25 -->\n<g id=\"edge69\" class=\"edge\">\n<title>19&#45;&#45;25</title>\n<path fill=\"none\" stroke=\"#000000\" d=\"M509.1508,-696.1741C515.0888,-674.6746 526.6081,-637.8325 542.5713,-609 553.6234,-589.038 570.2632,-568.7797 582.1483,-555.4257\"/>\n<text text-anchor=\"middle\" x=\"546.5713\" y=\"-623.3\" font-family=\"Times,serif\" font-size=\"14.00\" fill=\"#000000\">1</text>\n</g>\n<!-- 26 -->\n<g id=\"node27\" class=\"node\">\n<title>26</title>\n<ellipse fill=\"none\" stroke=\"#000000\" cx=\"469.5713\" cy=\"-453\" rx=\"27\" ry=\"18\"/>\n<text text-anchor=\"middle\" x=\"469.5713\" y=\"-449.3\" font-family=\"Times,serif\" font-size=\"14.00\" fill=\"#000000\">26</text>\n</g>\n<!-- 19&#45;&#45;26 -->\n<g id=\"edge70\" class=\"edge\">\n<title>19&#45;&#45;26</title>\n<path fill=\"none\" stroke=\"#000000\" d=\"M502.1656,-696.0604C495.7717,-648.3798 478.407,-518.889 471.9938,-471.0651\"/>\n<text text-anchor=\"middle\" x=\"491.5713\" y=\"-579.8\" font-family=\"Times,serif\" font-size=\"14.00\" fill=\"#000000\">2</text>\n</g>\n<!-- 20&#45;&#45;21 -->\n<g id=\"edge71\" class=\"edge\">\n<title>20&#45;&#45;21</title>\n<path fill=\"none\" stroke=\"#000000\" d=\"M395.9396,-611.8458C380.616,-595.9749 356.6834,-571.1875 341.3172,-555.2725\"/>\n<text text-anchor=\"middle\" x=\"378.5713\" y=\"-579.8\" font-family=\"Times,serif\" font-size=\"14.00\" fill=\"#000000\">1</text>\n</g>\n<!-- 20&#45;&#45;25 -->\n<g id=\"edge72\" class=\"edge\">\n<title>20&#45;&#45;25</title>\n<path fill=\"none\" stroke=\"#000000\" d=\"M422.1883,-610.4252C430.9482,-599.1237 443.9311,-584.6852 458.5713,-576 493.6013,-555.2186 540.5934,-546.2799 569.7103,-542.545\"/>\n<text text-anchor=\"middle\" x=\"462.5713\" y=\"-579.8\" font-family=\"Times,serif\" font-size=\"14.00\" fill=\"#000000\">2</text>\n</g>\n<!-- 20&#45;&#45;26 -->\n<g id=\"edge73\" class=\"edge\">\n<title>20&#45;&#45;26</title>\n<path fill=\"none\" stroke=\"#000000\" d=\"M416.5532,-609.3584C427.8615,-576.0087 452.2531,-504.074 463.5736,-470.6883\"/>\n<text text-anchor=\"middle\" x=\"449.5713\" y=\"-536.3\" font-family=\"Times,serif\" font-size=\"14.00\" fill=\"#000000\">1</text>\n</g>\n<!-- 27 -->\n<g id=\"node28\" class=\"node\">\n<title>27</title>\n<ellipse fill=\"none\" stroke=\"#000000\" cx=\"384.5713\" cy=\"-366\" rx=\"27\" ry=\"18\"/>\n<text text-anchor=\"middle\" x=\"384.5713\" y=\"-362.3\" font-family=\"Times,serif\" font-size=\"14.00\" fill=\"#000000\">27</text>\n</g>\n<!-- 20&#45;&#45;27 -->\n<g id=\"edge74\" class=\"edge\">\n<title>20&#45;&#45;27</title>\n<path fill=\"none\" stroke=\"#000000\" d=\"M408.743,-608.647C403.9577,-560.6091 391.1071,-431.6091 386.363,-383.9862\"/>\n<text text-anchor=\"middle\" x=\"402.5713\" y=\"-492.8\" font-family=\"Times,serif\" font-size=\"14.00\" fill=\"#000000\">2</text>\n</g>\n<!-- 21&#45;&#45;22 -->\n<g id=\"edge75\" class=\"edge\">\n<title>21&#45;&#45;22</title>\n<path fill=\"none\" stroke=\"#000000\" d=\"M311.0761,-524.9503C304.4466,-518.5046 296.6236,-510.8891 289.5713,-504 277.2695,-491.9828 263.3626,-478.3404 253.0279,-468.191\"/>\n<text text-anchor=\"middle\" x=\"293.5713\" y=\"-492.8\" font-family=\"Times,serif\" font-size=\"14.00\" fill=\"#000000\">1</text>\n</g>\n<!-- 21&#45;&#45;26 -->\n<g id=\"edge76\" class=\"edge\">\n<title>21&#45;&#45;26</title>\n<path fill=\"none\" stroke=\"#000000\" d=\"M350.4843,-531.1266C366.823,-524.6166 388.6716,-515.016 406.5713,-504 423.8289,-493.3792 441.6053,-478.5701 453.8564,-467.645\"/>\n<text text-anchor=\"middle\" x=\"430.5713\" y=\"-492.8\" font-family=\"Times,serif\" font-size=\"14.00\" fill=\"#000000\">2</text>\n</g>\n<!-- 21&#45;&#45;27 -->\n<g id=\"edge77\" class=\"edge\">\n<title>21&#45;&#45;27</title>\n<path fill=\"none\" stroke=\"#000000\" d=\"M332.4519,-522.3584C343.5684,-489.0087 367.5467,-417.074 378.6752,-383.6883\"/>\n<text text-anchor=\"middle\" x=\"365.5713\" y=\"-449.3\" font-family=\"Times,serif\" font-size=\"14.00\" fill=\"#000000\">1</text>\n</g>\n<!-- 28 -->\n<g id=\"node29\" class=\"node\">\n<title>28</title>\n<ellipse fill=\"none\" stroke=\"#000000\" cx=\"293.5713\" cy=\"-279\" rx=\"27\" ry=\"18\"/>\n<text text-anchor=\"middle\" x=\"293.5713\" y=\"-275.3\" font-family=\"Times,serif\" font-size=\"14.00\" fill=\"#000000\">28</text>\n</g>\n<!-- 21&#45;&#45;28 -->\n<g id=\"edge78\" class=\"edge\">\n<title>21&#45;&#45;28</title>\n<path fill=\"none\" stroke=\"#000000\" d=\"M324.3031,-522.0604C318.2745,-474.3798 301.9021,-344.889 295.8554,-297.0651\"/>\n<text text-anchor=\"middle\" x=\"315.5713\" y=\"-405.8\" font-family=\"Times,serif\" font-size=\"14.00\" fill=\"#000000\">2</text>\n</g>\n<!-- 22&#45;&#45;23 -->\n<g id=\"edge79\" class=\"edge\">\n<title>22&#45;&#45;23</title>\n<path fill=\"none\" stroke=\"#000000\" d=\"M220.8753,-438.6873C213.9346,-432.3661 206.0128,-424.6443 199.5713,-417 190.6571,-406.4212 182.0287,-393.4349 175.6946,-383.2143\"/>\n<text text-anchor=\"middle\" x=\"203.5713\" y=\"-405.8\" font-family=\"Times,serif\" font-size=\"14.00\" fill=\"#000000\">1</text>\n</g>\n<!-- 22&#45;&#45;27 -->\n<g id=\"edge80\" class=\"edge\">\n<title>22&#45;&#45;27</title>\n<path fill=\"none\" stroke=\"#000000\" d=\"M261.3193,-444.4113C278.123,-437.8998 300.8961,-428.1815 319.5713,-417 337.2926,-406.3896 355.6439,-391.5792 368.3092,-380.651\"/>\n<text text-anchor=\"middle\" x=\"344.5713\" y=\"-405.8\" font-family=\"Times,serif\" font-size=\"14.00\" fill=\"#000000\">2</text>\n</g>\n<!-- 22&#45;&#45;28 -->\n<g id=\"edge81\" class=\"edge\">\n<title>22&#45;&#45;28</title>\n<path fill=\"none\" stroke=\"#000000\" d=\"M243.2491,-435.3584C253.9823,-402.0087 277.1337,-330.074 287.8785,-296.6883\"/>\n<text text-anchor=\"middle\" x=\"275.5713\" y=\"-362.3\" font-family=\"Times,serif\" font-size=\"14.00\" fill=\"#000000\">1</text>\n</g>\n<!-- 29 -->\n<g id=\"node30\" class=\"node\">\n<title>29</title>\n<ellipse fill=\"none\" stroke=\"#000000\" cx=\"221.5713\" cy=\"-192\" rx=\"27\" ry=\"18\"/>\n<text text-anchor=\"middle\" x=\"221.5713\" y=\"-188.3\" font-family=\"Times,serif\" font-size=\"14.00\" fill=\"#000000\">29</text>\n</g>\n<!-- 22&#45;&#45;29 -->\n<g id=\"edge82\" class=\"edge\">\n<title>22&#45;&#45;29</title>\n<path fill=\"none\" stroke=\"#000000\" d=\"M234.6805,-434.7228C231.0417,-410.753 224.9765,-367.3542 222.5713,-330 219.8157,-287.2021 220.4247,-236.7852 221.0404,-210.3282\"/>\n<text text-anchor=\"middle\" x=\"226.5713\" y=\"-318.8\" font-family=\"Times,serif\" font-size=\"14.00\" fill=\"#000000\">2</text>\n</g>\n<!-- 23&#45;&#45;28 -->\n<g id=\"edge83\" class=\"edge\">\n<title>23&#45;&#45;28</title>\n<path fill=\"none\" stroke=\"#000000\" d=\"M187.1247,-354.9926C199.7858,-348.2546 215.9302,-339.1852 229.5713,-330 246.4237,-318.6525 264.4186,-304.0689 277.0211,-293.4053\"/>\n<text text-anchor=\"middle\" x=\"254.5713\" y=\"-318.8\" font-family=\"Times,serif\" font-size=\"14.00\" fill=\"#000000\">2</text>\n</g>\n<!-- 23&#45;&#45;29 -->\n<g id=\"edge84\" class=\"edge\">\n<title>23&#45;&#45;29</title>\n<path fill=\"none\" stroke=\"#000000\" d=\"M170.2794,-347.9407C177.3484,-321.3916 191.4923,-270.3857 206.5713,-228 208.75,-221.876 211.404,-215.2825 213.8705,-209.4328\"/>\n<text text-anchor=\"middle\" x=\"199.5713\" y=\"-275.3\" font-family=\"Times,serif\" font-size=\"14.00\" fill=\"#000000\">1</text>\n</g>\n<!-- 24&#45;&#45;25 -->\n<g id=\"edge85\" class=\"edge\">\n<title>24&#45;&#45;25</title>\n<path fill=\"none\" stroke=\"#000000\" d=\"M588.6433,-608.9735C590.3596,-594.0422 592.7865,-572.9283 594.502,-558.0034\"/>\n<text text-anchor=\"middle\" x=\"595.5713\" y=\"-579.8\" font-family=\"Times,serif\" font-size=\"14.00\" fill=\"#000000\">1</text>\n</g>\n<!-- 30 -->\n<g id=\"node31\" class=\"node\">\n<title>30</title>\n<ellipse fill=\"none\" stroke=\"#000000\" cx=\"644.5713\" cy=\"-453\" rx=\"27\" ry=\"18\"/>\n<text text-anchor=\"middle\" x=\"644.5713\" y=\"-449.3\" font-family=\"Times,serif\" font-size=\"14.00\" fill=\"#000000\">30</text>\n</g>\n<!-- 24&#45;&#45;30 -->\n<g id=\"edge86\" class=\"edge\">\n<title>24&#45;&#45;30</title>\n<path fill=\"none\" stroke=\"#000000\" d=\"M600.3138,-611.2039C611.0169,-597.9447 625.247,-578.0094 632.5713,-558 643.23,-528.8816 645.0455,-492.449 645.0486,-471.0491\"/>\n<text text-anchor=\"middle\" x=\"644.5713\" y=\"-536.3\" font-family=\"Times,serif\" font-size=\"14.00\" fill=\"#000000\">1</text>\n</g>\n<!-- 31 -->\n<g id=\"node32\" class=\"node\">\n<title>31</title>\n<ellipse fill=\"none\" stroke=\"#000000\" cx=\"552.5713\" cy=\"-366\" rx=\"27\" ry=\"18\"/>\n<text text-anchor=\"middle\" x=\"552.5713\" y=\"-362.3\" font-family=\"Times,serif\" font-size=\"14.00\" fill=\"#000000\">31</text>\n</g>\n<!-- 24&#45;&#45;31 -->\n<g id=\"edge87\" class=\"edge\">\n<title>24&#45;&#45;31</title>\n<path fill=\"none\" stroke=\"#000000\" d=\"M578.2361,-609.591C572.1262,-595.909 564.2772,-576.1883 560.5713,-558 547.7827,-495.2341 549.677,-418.617 551.4234,-384.2314\"/>\n<text text-anchor=\"middle\" x=\"556.5713\" y=\"-492.8\" font-family=\"Times,serif\" font-size=\"14.00\" fill=\"#000000\">2</text>\n</g>\n<!-- 25&#45;&#45;26 -->\n<g id=\"edge88\" class=\"edge\">\n<title>25&#45;&#45;26</title>\n<path fill=\"none\" stroke=\"#000000\" d=\"M572.1172,-531.9382C555.5369,-525.7905 533.6219,-516.2894 516.5713,-504 503.0916,-494.2844 490.4871,-480.2234 481.7312,-469.3252\"/>\n<text text-anchor=\"middle\" x=\"520.5713\" y=\"-492.8\" font-family=\"Times,serif\" font-size=\"14.00\" fill=\"#000000\">1</text>\n</g>\n<!-- 25&#45;&#45;30 -->\n<g id=\"edge89\" class=\"edge\">\n<title>25&#45;&#45;30</title>\n<path fill=\"none\" stroke=\"#000000\" d=\"M606.0546,-522.8116C614.4696,-507.5593 626.6987,-485.3942 635.1078,-470.1527\"/>\n<text text-anchor=\"middle\" x=\"626.5713\" y=\"-492.8\" font-family=\"Times,serif\" font-size=\"14.00\" fill=\"#000000\">2</text>\n</g>\n<!-- 25&#45;&#45;31 -->\n<g id=\"edge90\" class=\"edge\">\n<title>25&#45;&#45;31</title>\n<path fill=\"none\" stroke=\"#000000\" d=\"M592.3373,-522.0937C586.0645,-495.7351 573.8287,-444.9643 562.5713,-402 561.0259,-396.1017 559.2671,-389.6812 557.66,-383.9172\"/>\n<text text-anchor=\"middle\" x=\"582.5713\" y=\"-449.3\" font-family=\"Times,serif\" font-size=\"14.00\" fill=\"#000000\">1</text>\n</g>\n<!-- 32 -->\n<g id=\"node33\" class=\"node\">\n<title>32</title>\n<ellipse fill=\"none\" stroke=\"#000000\" cx=\"508.5713\" cy=\"-279\" rx=\"27\" ry=\"18\"/>\n<text text-anchor=\"middle\" x=\"508.5713\" y=\"-275.3\" font-family=\"Times,serif\" font-size=\"14.00\" fill=\"#000000\">32</text>\n</g>\n<!-- 25&#45;&#45;32 -->\n<g id=\"edge91\" class=\"edge\">\n<title>25&#45;&#45;32</title>\n<path fill=\"none\" stroke=\"#000000\" d=\"M615.9227,-527.0557C638.5128,-511.4742 673.6755,-485.5884 680.5713,-471 687.409,-456.5346 686.9,-449.6951 680.5713,-435 650.0349,-364.0953 568.9371,-311.9771 530.0098,-290.2155\"/>\n<text text-anchor=\"middle\" x=\"674.5713\" y=\"-405.8\" font-family=\"Times,serif\" font-size=\"14.00\" fill=\"#000000\">2</text>\n</g>\n<!-- 26&#45;&#45;27 -->\n<g id=\"edge92\" class=\"edge\">\n<title>26&#45;&#45;27</title>\n<path fill=\"none\" stroke=\"#000000\" d=\"M453.9402,-438.0866C447.2879,-431.6639 439.4844,-424.0287 432.5713,-417 421.1464,-405.3839 408.5306,-391.9551 399.1009,-381.7939\"/>\n<text text-anchor=\"middle\" x=\"436.5713\" y=\"-405.8\" font-family=\"Times,serif\" font-size=\"14.00\" fill=\"#000000\">1</text>\n</g>\n<!-- 26&#45;&#45;31 -->\n<g id=\"edge93\" class=\"edge\">\n<title>26&#45;&#45;31</title>\n<path fill=\"none\" stroke=\"#000000\" d=\"M484.4101,-437.4461C499.5177,-421.6105 522.8,-397.2061 537.861,-381.4192\"/>\n<text text-anchor=\"middle\" x=\"519.5713\" y=\"-405.8\" font-family=\"Times,serif\" font-size=\"14.00\" fill=\"#000000\">2</text>\n</g>\n<!-- 26&#45;&#45;32 -->\n<g id=\"edge94\" class=\"edge\">\n<title>26&#45;&#45;32</title>\n<path fill=\"none\" stroke=\"#000000\" d=\"M473.5981,-435.0343C481.0909,-401.605 497.0903,-330.2232 504.5664,-296.868\"/>\n<text text-anchor=\"middle\" x=\"496.5713\" y=\"-362.3\" font-family=\"Times,serif\" font-size=\"14.00\" fill=\"#000000\">1</text>\n</g>\n<!-- 33 -->\n<g id=\"node34\" class=\"node\">\n<title>33</title>\n<ellipse fill=\"none\" stroke=\"#000000\" cx=\"421.5713\" cy=\"-192\" rx=\"27\" ry=\"18\"/>\n<text text-anchor=\"middle\" x=\"421.5713\" y=\"-188.3\" font-family=\"Times,serif\" font-size=\"14.00\" fill=\"#000000\">33</text>\n</g>\n<!-- 26&#45;&#45;33 -->\n<g id=\"edge95\" class=\"edge\">\n<title>26&#45;&#45;33</title>\n<path fill=\"none\" stroke=\"#000000\" d=\"M466.2721,-435.0604C457.5032,-387.3798 433.6888,-257.889 424.8936,-210.0651\"/>\n<text text-anchor=\"middle\" x=\"450.5713\" y=\"-318.8\" font-family=\"Times,serif\" font-size=\"14.00\" fill=\"#000000\">2</text>\n</g>\n<!-- 27&#45;&#45;28 -->\n<g id=\"edge96\" class=\"edge\">\n<title>27&#45;&#45;28</title>\n<path fill=\"none\" stroke=\"#000000\" d=\"M368.531,-351.3953C361.4473,-344.8938 353.0478,-337.114 345.5713,-330 333.1127,-318.1455 319.2156,-304.4929 308.9245,-294.2983\"/>\n<text text-anchor=\"middle\" x=\"349.5713\" y=\"-318.8\" font-family=\"Times,serif\" font-size=\"14.00\" fill=\"#000000\">1</text>\n</g>\n<!-- 27&#45;&#45;32 -->\n<g id=\"edge97\" class=\"edge\">\n<title>27&#45;&#45;32</title>\n<path fill=\"none\" stroke=\"#000000\" d=\"M408.7987,-357.7484C424.9356,-351.5728 446.1173,-342.1145 462.5713,-330 475.8219,-320.244 488.1538,-306.1862 496.7069,-295.2994\"/>\n<text text-anchor=\"middle\" x=\"482.5713\" y=\"-318.8\" font-family=\"Times,serif\" font-size=\"14.00\" fill=\"#000000\">2</text>\n</g>\n<!-- 27&#45;&#45;33 -->\n<g id=\"edge98\" class=\"edge\">\n<title>27&#45;&#45;33</title>\n<path fill=\"none\" stroke=\"#000000\" d=\"M388.3916,-348.0343C395.5002,-314.605 410.679,-243.2232 417.7718,-209.868\"/>\n<text text-anchor=\"middle\" x=\"411.5713\" y=\"-275.3\" font-family=\"Times,serif\" font-size=\"14.00\" fill=\"#000000\">1</text>\n</g>\n<!-- 34 -->\n<g id=\"node35\" class=\"node\">\n<title>34</title>\n<ellipse fill=\"none\" stroke=\"#000000\" cx=\"331.5713\" cy=\"-105\" rx=\"27\" ry=\"18\"/>\n<text text-anchor=\"middle\" x=\"331.5713\" y=\"-101.3\" font-family=\"Times,serif\" font-size=\"14.00\" fill=\"#000000\">34</text>\n</g>\n<!-- 27&#45;&#45;34 -->\n<g id=\"edge99\" class=\"edge\">\n<title>27&#45;&#45;34</title>\n<path fill=\"none\" stroke=\"#000000\" d=\"M380.9284,-348.0604C371.2461,-300.3798 344.9511,-170.889 335.2397,-123.0651\"/>\n<text text-anchor=\"middle\" x=\"363.5713\" y=\"-231.8\" font-family=\"Times,serif\" font-size=\"14.00\" fill=\"#000000\">2</text>\n</g>\n<!-- 28&#45;&#45;29 -->\n<g id=\"edge100\" class=\"edge\">\n<title>28&#45;&#45;29</title>\n<path fill=\"none\" stroke=\"#000000\" d=\"M276.8753,-264.6873C269.9346,-258.3661 262.0128,-250.6443 255.5713,-243 246.6571,-232.4212 238.0287,-219.4349 231.6946,-209.2143\"/>\n<text text-anchor=\"middle\" x=\"259.5713\" y=\"-231.8\" font-family=\"Times,serif\" font-size=\"14.00\" fill=\"#000000\">1</text>\n</g>\n<!-- 28&#45;&#45;33 -->\n<g id=\"edge101\" class=\"edge\">\n<title>28&#45;&#45;33</title>\n<path fill=\"none\" stroke=\"#000000\" d=\"M318.3192,-271.2414C335.3801,-265.1761 358.0491,-255.6498 375.5713,-243 388.9126,-233.3685 401.2374,-219.3009 409.7648,-208.3788\"/>\n<text text-anchor=\"middle\" x=\"396.5713\" y=\"-231.8\" font-family=\"Times,serif\" font-size=\"14.00\" fill=\"#000000\">2</text>\n</g>\n<!-- 28&#45;&#45;34 -->\n<g id=\"edge102\" class=\"edge\">\n<title>28&#45;&#45;34</title>\n<path fill=\"none\" stroke=\"#000000\" d=\"M297.4949,-261.0343C304.7955,-227.605 320.3846,-156.2232 327.6691,-122.868\"/>\n<text text-anchor=\"middle\" x=\"320.5713\" y=\"-188.3\" font-family=\"Times,serif\" font-size=\"14.00\" fill=\"#000000\">1</text>\n</g>\n<!-- 35 -->\n<g id=\"node36\" class=\"node\">\n<title>35</title>\n<ellipse fill=\"none\" stroke=\"#000000\" cx=\"276.5713\" cy=\"-18\" rx=\"27\" ry=\"18\"/>\n<text text-anchor=\"middle\" x=\"276.5713\" y=\"-14.3\" font-family=\"Times,serif\" font-size=\"14.00\" fill=\"#000000\">35</text>\n</g>\n<!-- 28&#45;&#45;35 -->\n<g id=\"edge103\" class=\"edge\">\n<title>28&#45;&#45;35</title>\n<path fill=\"none\" stroke=\"#000000\" d=\"M290.7222,-260.72C287.1284,-236.7472 281.1118,-193.3452 278.5713,-156 275.6604,-113.209 275.8424,-62.7894 276.2152,-36.3301\"/>\n<text text-anchor=\"middle\" x=\"282.5713\" y=\"-144.8\" font-family=\"Times,serif\" font-size=\"14.00\" fill=\"#000000\">2</text>\n</g>\n<!-- 29&#45;&#45;34 -->\n<g id=\"edge104\" class=\"edge\">\n<title>29&#45;&#45;34</title>\n<path fill=\"none\" stroke=\"#000000\" d=\"M244.014,-181.6443C256.8282,-175.1924 272.8282,-166.1924 285.5713,-156 298.235,-145.871 310.426,-132.1105 319.0724,-121.4357\"/>\n<text text-anchor=\"middle\" x=\"305.5713\" y=\"-144.8\" font-family=\"Times,serif\" font-size=\"14.00\" fill=\"#000000\">2</text>\n</g>\n<!-- 29&#45;&#45;35 -->\n<g id=\"edge105\" class=\"edge\">\n<title>29&#45;&#45;35</title>\n<path fill=\"none\" stroke=\"#000000\" d=\"M226.4136,-173.9876C233.6498,-147.4968 247.9999,-96.5629 262.5713,-54 264.6565,-47.9093 267.1465,-41.3241 269.4445,-35.4718\"/>\n<text text-anchor=\"middle\" x=\"256.5713\" y=\"-101.3\" font-family=\"Times,serif\" font-size=\"14.00\" fill=\"#000000\">1</text>\n</g>\n<!-- 30&#45;&#45;31 -->\n<g id=\"edge106\" class=\"edge\">\n<title>30&#45;&#45;31</title>\n<path fill=\"none\" stroke=\"#000000\" d=\"M633.8365,-436.2825C626.6019,-425.7529 616.4252,-412.2606 605.5713,-402 595.7906,-392.754 583.4154,-384.2058 573.0832,-377.7614\"/>\n<text text-anchor=\"middle\" x=\"622.5713\" y=\"-405.8\" font-family=\"Times,serif\" font-size=\"14.00\" fill=\"#000000\">1</text>\n</g>\n<!-- 31&#45;&#45;32 -->\n<g id=\"edge107\" class=\"edge\">\n<title>31&#45;&#45;32</title>\n<path fill=\"none\" stroke=\"#000000\" d=\"M543.8783,-348.8116C536.1645,-333.5593 524.9546,-311.3942 517.2462,-296.1527\"/>\n<text text-anchor=\"middle\" x=\"536.5713\" y=\"-318.8\" font-family=\"Times,serif\" font-size=\"14.00\" fill=\"#000000\">1</text>\n</g>\n<!-- 32&#45;&#45;33 -->\n<g id=\"edge108\" class=\"edge\">\n<title>32&#45;&#45;33</title>\n<path fill=\"none\" stroke=\"#000000\" d=\"M496.8937,-262.5777C489.1315,-252.1658 478.4059,-238.6938 467.5713,-228 459.199,-219.7365 448.9692,-211.5702 440.2844,-205.1097\"/>\n<text text-anchor=\"middle\" x=\"484.5713\" y=\"-231.8\" font-family=\"Times,serif\" font-size=\"14.00\" fill=\"#000000\">1</text>\n</g>\n<!-- 33&#45;&#45;34 -->\n<g id=\"edge109\" class=\"edge\">\n<title>33&#45;&#45;34</title>\n<path fill=\"none\" stroke=\"#000000\" d=\"M410.0036,-175.4646C402.2853,-165.0076 391.5673,-151.5278 380.5713,-141 371.574,-132.3858 360.4604,-124.0641 351.0931,-117.5955\"/>\n<text text-anchor=\"middle\" x=\"398.5713\" y=\"-144.8\" font-family=\"Times,serif\" font-size=\"14.00\" fill=\"#000000\">1</text>\n</g>\n<!-- 34&#45;&#45;35 -->\n<g id=\"edge110\" class=\"edge\">\n<title>34&#45;&#45;35</title>\n<path fill=\"none\" stroke=\"#000000\" d=\"M320.9668,-88.2255C311.2275,-72.8198 296.8723,-50.1124 287.1433,-34.723\"/>\n<text text-anchor=\"middle\" x=\"311.5713\" y=\"-57.8\" font-family=\"Times,serif\" font-size=\"14.00\" fill=\"#000000\">1</text>\n</g>\n</g>\n</svg>\n"
          },
          "metadata": {},
          "execution_count": 26
        }
      ]
    },
    {
      "cell_type": "code",
      "source": [
        "drawGraph(G, h=h)"
      ],
      "metadata": {
        "id": "Jh_5XsveST9b",
        "colab": {
          "base_uri": "https://localhost:8080/",
          "height": 1000
        },
        "outputId": "e778a368-d2a3-4d4f-a76d-58b79244ee01"
      },
      "execution_count": null,
      "outputs": [
        {
          "output_type": "execute_result",
          "data": {
            "text/plain": [
              "<graphviz.dot.Graph at 0x7f5d3965d5d0>"
            ],
            "image/svg+xml": "<?xml version=\"1.0\" encoding=\"UTF-8\" standalone=\"no\"?>\n<!DOCTYPE svg PUBLIC \"-//W3C//DTD SVG 1.1//EN\"\n \"http://www.w3.org/Graphics/SVG/1.1/DTD/svg11.dtd\">\n<!-- Generated by graphviz version 2.40.1 (20161225.0304)\n -->\n<!-- Title: nombre Pages: 1 -->\n<svg width=\"694pt\" height=\"1349pt\"\n viewBox=\"0.00 0.00 693.57 1349.00\" xmlns=\"http://www.w3.org/2000/svg\" xmlns:xlink=\"http://www.w3.org/1999/xlink\">\n<g id=\"graph0\" class=\"graph\" transform=\"scale(1 1) rotate(0) translate(4 1345)\">\n<title>nombre</title>\n<polygon fill=\"#ffffff\" stroke=\"transparent\" points=\"-4,4 -4,-1345 689.5723,-1345 689.5723,4 -4,4\"/>\n<!-- 36 -->\n<g id=\"node1\" class=\"node\">\n<title>36</title>\n<ellipse fill=\"none\" stroke=\"#000000\" cx=\"333.5713\" cy=\"-1323\" rx=\"31.3957\" ry=\"18\"/>\n<text text-anchor=\"middle\" x=\"333.5713\" y=\"-1319.3\" font-family=\"Times,serif\" font-size=\"14.00\" fill=\"#000000\">35(4)</text>\n</g>\n<!-- 0 -->\n<g id=\"node2\" class=\"node\">\n<title>0</title>\n<ellipse fill=\"none\" stroke=\"#000000\" cx=\"409.5713\" cy=\"-1323\" rx=\"27\" ry=\"18\"/>\n<text text-anchor=\"middle\" x=\"409.5713\" y=\"-1319.3\" font-family=\"Times,serif\" font-size=\"14.00\" fill=\"#000000\">0</text>\n</g>\n<!-- 1 -->\n<g id=\"node3\" class=\"node\">\n<title>1</title>\n<ellipse fill=\"none\" stroke=\"#000000\" cx=\"354.5713\" cy=\"-1236\" rx=\"27\" ry=\"18\"/>\n<text text-anchor=\"middle\" x=\"354.5713\" y=\"-1232.3\" font-family=\"Times,serif\" font-size=\"14.00\" fill=\"#000000\">1</text>\n</g>\n<!-- 0&#45;&#45;1 -->\n<g id=\"edge1\" class=\"edge\">\n<title>0&#45;&#45;1</title>\n<path fill=\"none\" stroke=\"#000000\" d=\"M398.9668,-1306.2255C389.2275,-1290.8198 374.8723,-1268.1124 365.1433,-1252.723\"/>\n<text text-anchor=\"middle\" x=\"389.5713\" y=\"-1275.8\" font-family=\"Times,serif\" font-size=\"14.00\" fill=\"#000000\">1</text>\n</g>\n<!-- 6 -->\n<g id=\"node4\" class=\"node\">\n<title>6</title>\n<ellipse fill=\"none\" stroke=\"#000000\" cx=\"464.5713\" cy=\"-1149\" rx=\"27\" ry=\"18\"/>\n<text text-anchor=\"middle\" x=\"464.5713\" y=\"-1145.3\" font-family=\"Times,serif\" font-size=\"14.00\" fill=\"#000000\">6</text>\n</g>\n<!-- 0&#45;&#45;6 -->\n<g id=\"edge2\" class=\"edge\">\n<title>0&#45;&#45;6</title>\n<path fill=\"none\" stroke=\"#000000\" d=\"M416.6981,-1305.5282C418.9961,-1299.6759 421.4862,-1293.0907 423.5713,-1287 438.1427,-1244.4371 452.4929,-1193.5032 459.729,-1167.0124\"/>\n<text text-anchor=\"middle\" x=\"448.5713\" y=\"-1232.3\" font-family=\"Times,serif\" font-size=\"14.00\" fill=\"#000000\">1</text>\n</g>\n<!-- 7 -->\n<g id=\"node5\" class=\"node\">\n<title>7</title>\n<ellipse fill=\"none\" stroke=\"#000000\" cx=\"392.5713\" cy=\"-1062\" rx=\"27\" ry=\"18\"/>\n<text text-anchor=\"middle\" x=\"392.5713\" y=\"-1058.3\" font-family=\"Times,serif\" font-size=\"14.00\" fill=\"#000000\">7</text>\n</g>\n<!-- 0&#45;&#45;7 -->\n<g id=\"edge3\" class=\"edge\">\n<title>0&#45;&#45;7</title>\n<path fill=\"none\" stroke=\"#000000\" d=\"M408.5749,-1304.9091C406.4412,-1266.6856 401.1672,-1174.8986 395.5713,-1098 395.1525,-1092.2453 394.6473,-1085.9774 394.1719,-1080.3083\"/>\n<text text-anchor=\"middle\" x=\"405.5713\" y=\"-1188.8\" font-family=\"Times,serif\" font-size=\"14.00\" fill=\"#000000\">2</text>\n</g>\n<!-- 1&#45;&#45;6 -->\n<g id=\"edge5\" class=\"edge\">\n<title>1&#45;&#45;6</title>\n<path fill=\"none\" stroke=\"#000000\" d=\"M377.014,-1225.6443C389.8282,-1219.1924 405.8282,-1210.1924 418.5713,-1200 431.235,-1189.871 443.426,-1176.1105 452.0724,-1165.4357\"/>\n<text text-anchor=\"middle\" x=\"437.5713\" y=\"-1188.8\" font-family=\"Times,serif\" font-size=\"14.00\" fill=\"#000000\">2</text>\n</g>\n<!-- 1&#45;&#45;7 -->\n<g id=\"edge6\" class=\"edge\">\n<title>1&#45;&#45;7</title>\n<path fill=\"none\" stroke=\"#000000\" d=\"M358.4949,-1218.0343C365.7955,-1184.605 381.3846,-1113.2232 388.6691,-1079.868\"/>\n<text text-anchor=\"middle\" x=\"381.5713\" y=\"-1145.3\" font-family=\"Times,serif\" font-size=\"14.00\" fill=\"#000000\">1</text>\n</g>\n<!-- 2 -->\n<g id=\"node6\" class=\"node\">\n<title>2</title>\n<ellipse fill=\"none\" stroke=\"#000000\" cx=\"264.5713\" cy=\"-1149\" rx=\"27\" ry=\"18\"/>\n<text text-anchor=\"middle\" x=\"264.5713\" y=\"-1145.3\" font-family=\"Times,serif\" font-size=\"14.00\" fill=\"#000000\">2</text>\n</g>\n<!-- 1&#45;&#45;2 -->\n<g id=\"edge4\" class=\"edge\">\n<title>1&#45;&#45;2</title>\n<path fill=\"none\" stroke=\"#000000\" d=\"M332.6903,-1225.1433C321.3651,-1218.8297 307.8068,-1210.1236 297.5713,-1200 287.6739,-1190.2107 279.2095,-1176.9573 273.3317,-1166.4148\"/>\n<text text-anchor=\"middle\" x=\"301.5713\" y=\"-1188.8\" font-family=\"Times,serif\" font-size=\"14.00\" fill=\"#000000\">1</text>\n</g>\n<!-- 8 -->\n<g id=\"node7\" class=\"node\">\n<title>8</title>\n<ellipse fill=\"none\" stroke=\"#000000\" cx=\"302.5713\" cy=\"-975\" rx=\"27\" ry=\"18\"/>\n<text text-anchor=\"middle\" x=\"302.5713\" y=\"-971.3\" font-family=\"Times,serif\" font-size=\"14.00\" fill=\"#000000\">8</text>\n</g>\n<!-- 1&#45;&#45;8 -->\n<g id=\"edge7\" class=\"edge\">\n<title>1&#45;&#45;8</title>\n<path fill=\"none\" stroke=\"#000000\" d=\"M349.0534,-1218.2408C341.8438,-1194.4769 329.238,-1150.9242 321.5713,-1113 312.9455,-1070.3313 307.0564,-1019.4404 304.32,-992.9845\"/>\n<text text-anchor=\"middle\" x=\"325.5713\" y=\"-1101.8\" font-family=\"Times,serif\" font-size=\"14.00\" fill=\"#000000\">2</text>\n</g>\n<!-- 6&#45;&#45;7 -->\n<g id=\"edge22\" class=\"edge\">\n<title>6&#45;&#45;7</title>\n<path fill=\"none\" stroke=\"#000000\" d=\"M451.3654,-1133.0429C438.3743,-1117.3453 418.6556,-1093.5185 405.6935,-1077.856\"/>\n<text text-anchor=\"middle\" x=\"436.5713\" y=\"-1101.8\" font-family=\"Times,serif\" font-size=\"14.00\" fill=\"#000000\">1</text>\n</g>\n<!-- 12 -->\n<g id=\"node14\" class=\"node\">\n<title>12</title>\n<ellipse fill=\"none\" stroke=\"#000000\" cx=\"520.5713\" cy=\"-975\" rx=\"27\" ry=\"18\"/>\n<text text-anchor=\"middle\" x=\"520.5713\" y=\"-971.3\" font-family=\"Times,serif\" font-size=\"14.00\" fill=\"#000000\">12</text>\n</g>\n<!-- 6&#45;&#45;12 -->\n<g id=\"edge23\" class=\"edge\">\n<title>6&#45;&#45;12</title>\n<path fill=\"none\" stroke=\"#000000\" d=\"M472.2721,-1131.5672C474.7386,-1125.7175 477.3927,-1119.124 479.5713,-1113 494.6503,-1070.6143 508.7942,-1019.6084 515.8632,-993.0593\"/>\n<text text-anchor=\"middle\" x=\"504.5713\" y=\"-1058.3\" font-family=\"Times,serif\" font-size=\"14.00\" fill=\"#000000\">1</text>\n</g>\n<!-- 13 -->\n<g id=\"node15\" class=\"node\">\n<title>13</title>\n<ellipse fill=\"none\" stroke=\"#000000\" cx=\"448.5713\" cy=\"-888\" rx=\"27\" ry=\"18\"/>\n<text text-anchor=\"middle\" x=\"448.5713\" y=\"-884.3\" font-family=\"Times,serif\" font-size=\"14.00\" fill=\"#000000\">13</text>\n</g>\n<!-- 6&#45;&#45;13 -->\n<g id=\"edge24\" class=\"edge\">\n<title>6&#45;&#45;13</title>\n<path fill=\"none\" stroke=\"#000000\" d=\"M463.4462,-1130.647C460.5014,-1082.6091 452.5933,-953.6091 449.6739,-905.9862\"/>\n<text text-anchor=\"middle\" x=\"460.5713\" y=\"-1014.8\" font-family=\"Times,serif\" font-size=\"14.00\" fill=\"#000000\">2</text>\n</g>\n<!-- 7&#45;&#45;8 -->\n<g id=\"edge25\" class=\"edge\">\n<title>7&#45;&#45;8</title>\n<path fill=\"none\" stroke=\"#000000\" d=\"M376.6127,-1046.9976C369.7966,-1040.5599 361.7685,-1032.9376 354.5713,-1026 342.1898,-1014.0651 328.2878,-1000.4174 317.9753,-990.2452\"/>\n<text text-anchor=\"middle\" x=\"358.5713\" y=\"-1014.8\" font-family=\"Times,serif\" font-size=\"14.00\" fill=\"#000000\">1</text>\n</g>\n<!-- 7&#45;&#45;12 -->\n<g id=\"edge26\" class=\"edge\">\n<title>7&#45;&#45;12</title>\n<path fill=\"none\" stroke=\"#000000\" d=\"M417.3192,-1054.2414C434.3801,-1048.1761 457.0491,-1038.6498 474.5713,-1026 487.9126,-1016.3685 500.2374,-1002.3009 508.7648,-991.3788\"/>\n<text text-anchor=\"middle\" x=\"494.5713\" y=\"-1014.8\" font-family=\"Times,serif\" font-size=\"14.00\" fill=\"#000000\">2</text>\n</g>\n<!-- 7&#45;&#45;13 -->\n<g id=\"edge27\" class=\"edge\">\n<title>7&#45;&#45;13</title>\n<path fill=\"none\" stroke=\"#000000\" d=\"M398.2491,-1044.3584C408.9823,-1011.0087 432.1337,-939.074 442.8785,-905.6883\"/>\n<text text-anchor=\"middle\" x=\"429.5713\" y=\"-971.3\" font-family=\"Times,serif\" font-size=\"14.00\" fill=\"#000000\">1</text>\n</g>\n<!-- 14 -->\n<g id=\"node16\" class=\"node\">\n<title>14</title>\n<ellipse fill=\"none\" stroke=\"#000000\" cx=\"358.5713\" cy=\"-801\" rx=\"27\" ry=\"18\"/>\n<text text-anchor=\"middle\" x=\"358.5713\" y=\"-797.3\" font-family=\"Times,serif\" font-size=\"14.00\" fill=\"#000000\">14</text>\n</g>\n<!-- 7&#45;&#45;14 -->\n<g id=\"edge28\" class=\"edge\">\n<title>7&#45;&#45;14</title>\n<path fill=\"none\" stroke=\"#000000\" d=\"M390.2344,-1044.0604C384.0231,-996.3798 367.1546,-866.889 360.9246,-819.0651\"/>\n<text text-anchor=\"middle\" x=\"380.5713\" y=\"-927.8\" font-family=\"Times,serif\" font-size=\"14.00\" fill=\"#000000\">2</text>\n</g>\n<!-- 2&#45;&#45;7 -->\n<g id=\"edge9\" class=\"edge\">\n<title>2&#45;&#45;7</title>\n<path fill=\"none\" stroke=\"#000000\" d=\"M286.1247,-1137.9926C298.7858,-1131.2546 314.9302,-1122.1852 328.5713,-1113 345.4237,-1101.6525 363.4186,-1087.0689 376.0211,-1076.4053\"/>\n<text text-anchor=\"middle\" x=\"353.5713\" y=\"-1101.8\" font-family=\"Times,serif\" font-size=\"14.00\" fill=\"#000000\">2</text>\n</g>\n<!-- 2&#45;&#45;8 -->\n<g id=\"edge10\" class=\"edge\">\n<title>2&#45;&#45;8</title>\n<path fill=\"none\" stroke=\"#000000\" d=\"M268.4949,-1131.0343C275.7955,-1097.605 291.3846,-1026.2232 298.6691,-992.868\"/>\n<text text-anchor=\"middle\" x=\"291.5713\" y=\"-1058.3\" font-family=\"Times,serif\" font-size=\"14.00\" fill=\"#000000\">1</text>\n</g>\n<!-- 3 -->\n<g id=\"node8\" class=\"node\">\n<title>3</title>\n<ellipse fill=\"none\" stroke=\"#000000\" cx=\"174.5713\" cy=\"-1062\" rx=\"27\" ry=\"18\"/>\n<text text-anchor=\"middle\" x=\"174.5713\" y=\"-1058.3\" font-family=\"Times,serif\" font-size=\"14.00\" fill=\"#000000\">3</text>\n</g>\n<!-- 2&#45;&#45;3 -->\n<g id=\"edge8\" class=\"edge\">\n<title>2&#45;&#45;3</title>\n<path fill=\"none\" stroke=\"#000000\" d=\"M242.6903,-1138.1433C231.3651,-1131.8297 217.8068,-1123.1236 207.5713,-1113 197.6739,-1103.2107 189.2095,-1089.9573 183.3317,-1079.4148\"/>\n<text text-anchor=\"middle\" x=\"211.5713\" y=\"-1101.8\" font-family=\"Times,serif\" font-size=\"14.00\" fill=\"#000000\">1</text>\n</g>\n<!-- 9 -->\n<g id=\"node9\" class=\"node\">\n<title>9</title>\n<ellipse fill=\"none\" stroke=\"#000000\" cx=\"216.5713\" cy=\"-888\" rx=\"27\" ry=\"18\"/>\n<text text-anchor=\"middle\" x=\"216.5713\" y=\"-884.3\" font-family=\"Times,serif\" font-size=\"14.00\" fill=\"#000000\">9</text>\n</g>\n<!-- 2&#45;&#45;9 -->\n<g id=\"edge11\" class=\"edge\">\n<title>2&#45;&#45;9</title>\n<path fill=\"none\" stroke=\"#000000\" d=\"M258.8906,-1131.2725C251.5007,-1107.5437 238.6959,-1064.0298 231.5713,-1026 223.5836,-983.3628 219.4128,-932.459 217.6404,-905.9928\"/>\n<text text-anchor=\"middle\" x=\"235.5713\" y=\"-1014.8\" font-family=\"Times,serif\" font-size=\"14.00\" fill=\"#000000\">2</text>\n</g>\n<!-- 8&#45;&#45;9 -->\n<g id=\"edge29\" class=\"edge\">\n<title>8&#45;&#45;9</title>\n<path fill=\"none\" stroke=\"#000000\" d=\"M286.4759,-960.1367C279.6367,-953.7225 271.6283,-946.0801 264.5713,-939 252.8976,-927.288 240.0803,-913.6265 230.6292,-903.3922\"/>\n<text text-anchor=\"middle\" x=\"268.5713\" y=\"-927.8\" font-family=\"Times,serif\" font-size=\"14.00\" fill=\"#000000\">1</text>\n</g>\n<!-- 8&#45;&#45;13 -->\n<g id=\"edge30\" class=\"edge\">\n<title>8&#45;&#45;13</title>\n<path fill=\"none\" stroke=\"#000000\" d=\"M326.3453,-966.4546C343.1613,-959.9636 365.9384,-950.2519 384.5713,-939 402.0846,-928.4242 420.1455,-913.6095 432.5965,-902.6708\"/>\n<text text-anchor=\"middle\" x=\"408.5713\" y=\"-927.8\" font-family=\"Times,serif\" font-size=\"14.00\" fill=\"#000000\">2</text>\n</g>\n<!-- 8&#45;&#45;14 -->\n<g id=\"edge31\" class=\"edge\">\n<title>8&#45;&#45;14</title>\n<path fill=\"none\" stroke=\"#000000\" d=\"M308.2491,-957.3584C318.9823,-924.0087 342.1337,-852.074 352.8785,-818.6883\"/>\n<text text-anchor=\"middle\" x=\"340.5713\" y=\"-884.3\" font-family=\"Times,serif\" font-size=\"14.00\" fill=\"#000000\">1</text>\n</g>\n<!-- 15 -->\n<g id=\"node17\" class=\"node\">\n<title>15</title>\n<ellipse fill=\"none\" stroke=\"#000000\" cx=\"267.5713\" cy=\"-714\" rx=\"27\" ry=\"18\"/>\n<text text-anchor=\"middle\" x=\"267.5713\" y=\"-710.3\" font-family=\"Times,serif\" font-size=\"14.00\" fill=\"#000000\">15</text>\n</g>\n<!-- 8&#45;&#45;15 -->\n<g id=\"edge32\" class=\"edge\">\n<title>8&#45;&#45;15</title>\n<path fill=\"none\" stroke=\"#000000\" d=\"M300.1656,-957.0604C293.7717,-909.3798 276.407,-779.889 269.9938,-732.0651\"/>\n<text text-anchor=\"middle\" x=\"290.5713\" y=\"-840.8\" font-family=\"Times,serif\" font-size=\"14.00\" fill=\"#000000\">2</text>\n</g>\n<!-- 3&#45;&#45;8 -->\n<g id=\"edge13\" class=\"edge\">\n<title>3&#45;&#45;8</title>\n<path fill=\"none\" stroke=\"#000000\" d=\"M196.1247,-1050.9926C208.7858,-1044.2546 224.9302,-1035.1852 238.5713,-1026 255.4237,-1014.6525 273.4186,-1000.0689 286.0211,-989.4053\"/>\n<text text-anchor=\"middle\" x=\"263.5713\" y=\"-1014.8\" font-family=\"Times,serif\" font-size=\"14.00\" fill=\"#000000\">2</text>\n</g>\n<!-- 3&#45;&#45;9 -->\n<g id=\"edge14\" class=\"edge\">\n<title>3&#45;&#45;9</title>\n<path fill=\"none\" stroke=\"#000000\" d=\"M178.9079,-1044.0343C186.977,-1010.605 204.2071,-939.2232 212.2584,-905.868\"/>\n<text text-anchor=\"middle\" x=\"204.5713\" y=\"-971.3\" font-family=\"Times,serif\" font-size=\"14.00\" fill=\"#000000\">1</text>\n</g>\n<!-- 4 -->\n<g id=\"node10\" class=\"node\">\n<title>4</title>\n<ellipse fill=\"none\" stroke=\"#000000\" cx=\"89.5713\" cy=\"-975\" rx=\"27\" ry=\"18\"/>\n<text text-anchor=\"middle\" x=\"89.5713\" y=\"-971.3\" font-family=\"Times,serif\" font-size=\"14.00\" fill=\"#000000\">4</text>\n</g>\n<!-- 3&#45;&#45;4 -->\n<g id=\"edge12\" class=\"edge\">\n<title>3&#45;&#45;4</title>\n<path fill=\"none\" stroke=\"#000000\" d=\"M153.9013,-1050.3254C143.7405,-1043.9628 131.7416,-1035.4613 122.5713,-1026 112.8828,-1016.004 104.4119,-1002.757 98.4788,-992.2693\"/>\n<text text-anchor=\"middle\" x=\"126.5713\" y=\"-1014.8\" font-family=\"Times,serif\" font-size=\"14.00\" fill=\"#000000\">1</text>\n</g>\n<!-- 10 -->\n<g id=\"node11\" class=\"node\">\n<title>10</title>\n<ellipse fill=\"none\" stroke=\"#000000\" cx=\"126.5713\" cy=\"-801\" rx=\"27\" ry=\"18\"/>\n<text text-anchor=\"middle\" x=\"126.5713\" y=\"-797.3\" font-family=\"Times,serif\" font-size=\"14.00\" fill=\"#000000\">10</text>\n</g>\n<!-- 3&#45;&#45;10 -->\n<g id=\"edge15\" class=\"edge\">\n<title>3&#45;&#45;10</title>\n<path fill=\"none\" stroke=\"#000000\" d=\"M170.0404,-1044.1674C164.0902,-1020.3222 153.5789,-976.6797 146.5713,-939 138.6481,-896.397 132.0269,-845.9025 128.7606,-819.3812\"/>\n<text text-anchor=\"middle\" x=\"150.5713\" y=\"-927.8\" font-family=\"Times,serif\" font-size=\"14.00\" fill=\"#000000\">2</text>\n</g>\n<!-- 9&#45;&#45;10 -->\n<g id=\"edge33\" class=\"edge\">\n<title>9&#45;&#45;10</title>\n<path fill=\"none\" stroke=\"#000000\" d=\"M200.6127,-872.9976C193.7966,-866.5599 185.7685,-858.9376 178.5713,-852 166.1898,-840.0651 152.2878,-826.4174 141.9753,-816.2452\"/>\n<text text-anchor=\"middle\" x=\"182.5713\" y=\"-840.8\" font-family=\"Times,serif\" font-size=\"14.00\" fill=\"#000000\">1</text>\n</g>\n<!-- 9&#45;&#45;14 -->\n<g id=\"edge34\" class=\"edge\">\n<title>9&#45;&#45;14</title>\n<path fill=\"none\" stroke=\"#000000\" d=\"M240.1911,-878.848C256.0642,-872.2815 277.18,-862.7255 294.5713,-852 311.9849,-841.2608 330.0582,-826.4665 342.5393,-815.577\"/>\n<text text-anchor=\"middle\" x=\"319.5713\" y=\"-840.8\" font-family=\"Times,serif\" font-size=\"14.00\" fill=\"#000000\">2</text>\n</g>\n<!-- 9&#45;&#45;15 -->\n<g id=\"edge35\" class=\"edge\">\n<title>9&#45;&#45;15</title>\n<path fill=\"none\" stroke=\"#000000\" d=\"M221.8371,-870.0343C231.6354,-836.605 252.5576,-765.2232 262.3342,-731.868\"/>\n<text text-anchor=\"middle\" x=\"251.5713\" y=\"-797.3\" font-family=\"Times,serif\" font-size=\"14.00\" fill=\"#000000\">1</text>\n</g>\n<!-- 16 -->\n<g id=\"node18\" class=\"node\">\n<title>16</title>\n<ellipse fill=\"none\" stroke=\"#000000\" cx=\"181.5713\" cy=\"-627\" rx=\"27\" ry=\"18\"/>\n<text text-anchor=\"middle\" x=\"181.5713\" y=\"-623.3\" font-family=\"Times,serif\" font-size=\"14.00\" fill=\"#000000\">16</text>\n</g>\n<!-- 9&#45;&#45;16 -->\n<g id=\"edge36\" class=\"edge\">\n<title>9&#45;&#45;16</title>\n<path fill=\"none\" stroke=\"#000000\" d=\"M214.1656,-870.0604C207.7717,-822.3798 190.407,-692.889 183.9938,-645.0651\"/>\n<text text-anchor=\"middle\" x=\"204.5713\" y=\"-753.8\" font-family=\"Times,serif\" font-size=\"14.00\" fill=\"#000000\">2</text>\n</g>\n<!-- 4&#45;&#45;9 -->\n<g id=\"edge17\" class=\"edge\">\n<title>4&#45;&#45;9</title>\n<path fill=\"none\" stroke=\"#000000\" d=\"M111.1508,-964.0313C123.8209,-957.3066 139.9656,-948.2376 153.5713,-939 170.2199,-927.6965 187.9266,-913.1078 200.3145,-902.431\"/>\n<text text-anchor=\"middle\" x=\"177.5713\" y=\"-927.8\" font-family=\"Times,serif\" font-size=\"14.00\" fill=\"#000000\">2</text>\n</g>\n<!-- 4&#45;&#45;10 -->\n<g id=\"edge18\" class=\"edge\">\n<title>4&#45;&#45;10</title>\n<path fill=\"none\" stroke=\"#000000\" d=\"M93.3916,-957.0343C100.5002,-923.605 115.679,-852.2232 122.7718,-818.868\"/>\n<text text-anchor=\"middle\" x=\"116.5713\" y=\"-884.3\" font-family=\"Times,serif\" font-size=\"14.00\" fill=\"#000000\">1</text>\n</g>\n<!-- 5 -->\n<g id=\"node12\" class=\"node\">\n<title>5</title>\n<ellipse fill=\"none\" stroke=\"#000000\" cx=\"45.5713\" cy=\"-888\" rx=\"27\" ry=\"18\"/>\n<text text-anchor=\"middle\" x=\"45.5713\" y=\"-884.3\" font-family=\"Times,serif\" font-size=\"14.00\" fill=\"#000000\">5</text>\n</g>\n<!-- 4&#45;&#45;5 -->\n<g id=\"edge16\" class=\"edge\">\n<title>4&#45;&#45;5</title>\n<path fill=\"none\" stroke=\"#000000\" d=\"M80.8783,-957.8116C73.1645,-942.5593 61.9546,-920.3942 54.2462,-905.1527\"/>\n<text text-anchor=\"middle\" x=\"74.5713\" y=\"-927.8\" font-family=\"Times,serif\" font-size=\"14.00\" fill=\"#000000\">1</text>\n</g>\n<!-- 11 -->\n<g id=\"node13\" class=\"node\">\n<title>11</title>\n<ellipse fill=\"none\" stroke=\"#000000\" cx=\"53.5713\" cy=\"-714\" rx=\"27\" ry=\"18\"/>\n<text text-anchor=\"middle\" x=\"53.5713\" y=\"-710.3\" font-family=\"Times,serif\" font-size=\"14.00\" fill=\"#000000\">11</text>\n</g>\n<!-- 4&#45;&#45;11 -->\n<g id=\"edge19\" class=\"edge\">\n<title>4&#45;&#45;11</title>\n<path fill=\"none\" stroke=\"#000000\" d=\"M68.3128,-963.7697C48.9357,-952.2003 21.5635,-932.1798 9.5713,-906 -18.3425,-845.0621 22.2787,-764.8885 42.8532,-730.6545\"/>\n<text text-anchor=\"middle\" x=\"6.5713\" y=\"-840.8\" font-family=\"Times,serif\" font-size=\"14.00\" fill=\"#000000\">2</text>\n</g>\n<!-- 10&#45;&#45;11 -->\n<g id=\"edge37\" class=\"edge\">\n<title>10&#45;&#45;11</title>\n<path fill=\"none\" stroke=\"#000000\" d=\"M108.8876,-786.8582C101.5632,-780.5659 93.2402,-772.8195 86.5713,-765 77.6749,-754.5685 69.3041,-741.58 63.2192,-731.3214\"/>\n<text text-anchor=\"middle\" x=\"90.5713\" y=\"-753.8\" font-family=\"Times,serif\" font-size=\"14.00\" fill=\"#000000\">1</text>\n</g>\n<!-- 10&#45;&#45;15 -->\n<g id=\"edge38\" class=\"edge\">\n<title>10&#45;&#45;15</title>\n<path fill=\"none\" stroke=\"#000000\" d=\"M150.5166,-792.45C167.1397,-786.0217 189.4636,-776.387 207.5713,-765 224.0052,-754.6656 240.6684,-740.1044 252.2502,-729.1851\"/>\n<text text-anchor=\"middle\" x=\"231.5713\" y=\"-753.8\" font-family=\"Times,serif\" font-size=\"14.00\" fill=\"#000000\">2</text>\n</g>\n<!-- 10&#45;&#45;16 -->\n<g id=\"edge39\" class=\"edge\">\n<title>10&#45;&#45;16</title>\n<path fill=\"none\" stroke=\"#000000\" d=\"M132.1477,-783.3584C142.6893,-750.0087 165.4273,-678.074 175.9802,-644.6883\"/>\n<text text-anchor=\"middle\" x=\"163.5713\" y=\"-710.3\" font-family=\"Times,serif\" font-size=\"14.00\" fill=\"#000000\">1</text>\n</g>\n<!-- 17 -->\n<g id=\"node19\" class=\"node\">\n<title>17</title>\n<ellipse fill=\"none\" stroke=\"#000000\" cx=\"109.5713\" cy=\"-540\" rx=\"27\" ry=\"18\"/>\n<text text-anchor=\"middle\" x=\"109.5713\" y=\"-536.3\" font-family=\"Times,serif\" font-size=\"14.00\" fill=\"#000000\">17</text>\n</g>\n<!-- 10&#45;&#45;17 -->\n<g id=\"edge40\" class=\"edge\">\n<title>10&#45;&#45;17</title>\n<path fill=\"none\" stroke=\"#000000\" d=\"M123.4853,-782.7313C119.6011,-758.7707 113.1285,-715.3819 110.5713,-678 107.6444,-635.2135 108.3217,-584.7921 108.9939,-558.3313\"/>\n<text text-anchor=\"middle\" x=\"114.5713\" y=\"-666.8\" font-family=\"Times,serif\" font-size=\"14.00\" fill=\"#000000\">2</text>\n</g>\n<!-- 5&#45;&#45;10 -->\n<g id=\"edge20\" class=\"edge\">\n<title>5&#45;&#45;10</title>\n<path fill=\"none\" stroke=\"#000000\" d=\"M57.5038,-871.8272C65.3676,-861.5148 76.1108,-848.0599 86.5713,-837 93.7616,-829.3978 102.3166,-821.5569 109.666,-815.1412\"/>\n<text text-anchor=\"middle\" x=\"90.5713\" y=\"-840.8\" font-family=\"Times,serif\" font-size=\"14.00\" fill=\"#000000\">2</text>\n</g>\n<!-- 5&#45;&#45;11 -->\n<g id=\"edge21\" class=\"edge\">\n<title>5&#45;&#45;11</title>\n<path fill=\"none\" stroke=\"#000000\" d=\"M46.4123,-869.7078C47.9528,-836.2024 51.2095,-765.3695 52.7416,-732.0471\"/>\n<text text-anchor=\"middle\" x=\"54.5713\" y=\"-797.3\" font-family=\"Times,serif\" font-size=\"14.00\" fill=\"#000000\">1</text>\n</g>\n<!-- 11&#45;&#45;16 -->\n<g id=\"edge41\" class=\"edge\">\n<title>11&#45;&#45;16</title>\n<path fill=\"none\" stroke=\"#000000\" d=\"M75.1247,-702.9926C87.7858,-696.2546 103.9302,-687.1852 117.5713,-678 134.4237,-666.6525 152.4186,-652.0689 165.0211,-641.4053\"/>\n<text text-anchor=\"middle\" x=\"142.5713\" y=\"-666.8\" font-family=\"Times,serif\" font-size=\"14.00\" fill=\"#000000\">2</text>\n</g>\n<!-- 11&#45;&#45;17 -->\n<g id=\"edge42\" class=\"edge\">\n<title>11&#45;&#45;17</title>\n<path fill=\"none\" stroke=\"#000000\" d=\"M58.2794,-695.9407C65.3484,-669.3916 79.4923,-618.3857 94.5713,-576 96.75,-569.876 99.404,-563.2825 101.8705,-557.4328\"/>\n<text text-anchor=\"middle\" x=\"87.5713\" y=\"-623.3\" font-family=\"Times,serif\" font-size=\"14.00\" fill=\"#000000\">1</text>\n</g>\n<!-- 12&#45;&#45;13 -->\n<g id=\"edge43\" class=\"edge\">\n<title>12&#45;&#45;13</title>\n<path fill=\"none\" stroke=\"#000000\" d=\"M507.3654,-959.0429C494.3743,-943.3453 474.6556,-919.5185 461.6935,-903.856\"/>\n<text text-anchor=\"middle\" x=\"492.5713\" y=\"-927.8\" font-family=\"Times,serif\" font-size=\"14.00\" fill=\"#000000\">1</text>\n</g>\n<!-- 18 -->\n<g id=\"node20\" class=\"node\">\n<title>18</title>\n<ellipse fill=\"none\" stroke=\"#000000\" cx=\"576.5713\" cy=\"-801\" rx=\"27\" ry=\"18\"/>\n<text text-anchor=\"middle\" x=\"576.5713\" y=\"-797.3\" font-family=\"Times,serif\" font-size=\"14.00\" fill=\"#000000\">18</text>\n</g>\n<!-- 12&#45;&#45;18 -->\n<g id=\"edge44\" class=\"edge\">\n<title>12&#45;&#45;18</title>\n<path fill=\"none\" stroke=\"#000000\" d=\"M528.2721,-957.5672C530.7386,-951.7175 533.3927,-945.124 535.5713,-939 550.6503,-896.6143 564.7942,-845.6084 571.8632,-819.0593\"/>\n<text text-anchor=\"middle\" x=\"560.5713\" y=\"-884.3\" font-family=\"Times,serif\" font-size=\"14.00\" fill=\"#000000\">1</text>\n</g>\n<!-- 19 -->\n<g id=\"node21\" class=\"node\">\n<title>19</title>\n<ellipse fill=\"none\" stroke=\"#000000\" cx=\"504.5713\" cy=\"-714\" rx=\"27\" ry=\"18\"/>\n<text text-anchor=\"middle\" x=\"504.5713\" y=\"-710.3\" font-family=\"Times,serif\" font-size=\"14.00\" fill=\"#000000\">19</text>\n</g>\n<!-- 12&#45;&#45;19 -->\n<g id=\"edge45\" class=\"edge\">\n<title>12&#45;&#45;19</title>\n<path fill=\"none\" stroke=\"#000000\" d=\"M519.4462,-956.647C516.5014,-908.6091 508.5933,-779.6091 505.6739,-731.9862\"/>\n<text text-anchor=\"middle\" x=\"516.5713\" y=\"-840.8\" font-family=\"Times,serif\" font-size=\"14.00\" fill=\"#000000\">2</text>\n</g>\n<!-- 13&#45;&#45;14 -->\n<g id=\"edge46\" class=\"edge\">\n<title>13&#45;&#45;14</title>\n<path fill=\"none\" stroke=\"#000000\" d=\"M432.6127,-872.9976C425.7966,-866.5599 417.7685,-858.9376 410.5713,-852 398.1898,-840.0651 384.2878,-826.4174 373.9753,-816.2452\"/>\n<text text-anchor=\"middle\" x=\"414.5713\" y=\"-840.8\" font-family=\"Times,serif\" font-size=\"14.00\" fill=\"#000000\">1</text>\n</g>\n<!-- 13&#45;&#45;18 -->\n<g id=\"edge47\" class=\"edge\">\n<title>13&#45;&#45;18</title>\n<path fill=\"none\" stroke=\"#000000\" d=\"M473.3192,-880.2414C490.3801,-874.1761 513.0491,-864.6498 530.5713,-852 543.9126,-842.3685 556.2374,-828.3009 564.7648,-817.3788\"/>\n<text text-anchor=\"middle\" x=\"550.5713\" y=\"-840.8\" font-family=\"Times,serif\" font-size=\"14.00\" fill=\"#000000\">2</text>\n</g>\n<!-- 13&#45;&#45;19 -->\n<g id=\"edge48\" class=\"edge\">\n<title>13&#45;&#45;19</title>\n<path fill=\"none\" stroke=\"#000000\" d=\"M454.2491,-870.3584C464.9823,-837.0087 488.1337,-765.074 498.8785,-731.6883\"/>\n<text text-anchor=\"middle\" x=\"485.5713\" y=\"-797.3\" font-family=\"Times,serif\" font-size=\"14.00\" fill=\"#000000\">1</text>\n</g>\n<!-- 20 -->\n<g id=\"node22\" class=\"node\">\n<title>20</title>\n<ellipse fill=\"none\" stroke=\"#000000\" cx=\"410.5713\" cy=\"-627\" rx=\"27\" ry=\"18\"/>\n<text text-anchor=\"middle\" x=\"410.5713\" y=\"-623.3\" font-family=\"Times,serif\" font-size=\"14.00\" fill=\"#000000\">20</text>\n</g>\n<!-- 13&#45;&#45;20 -->\n<g id=\"edge49\" class=\"edge\">\n<title>13&#45;&#45;20</title>\n<path fill=\"none\" stroke=\"#000000\" d=\"M445.9594,-870.0604C439.0174,-822.3798 420.1644,-692.889 413.2015,-645.0651\"/>\n<text text-anchor=\"middle\" x=\"433.5713\" y=\"-753.8\" font-family=\"Times,serif\" font-size=\"14.00\" fill=\"#000000\">2</text>\n</g>\n<!-- 14&#45;&#45;15 -->\n<g id=\"edge50\" class=\"edge\">\n<title>14&#45;&#45;15</title>\n<path fill=\"none\" stroke=\"#000000\" d=\"M342.6448,-785.9641C335.8341,-779.5207 327.8014,-771.9032 320.5713,-765 308.0106,-753.0072 293.8376,-739.3632 283.3104,-729.2071\"/>\n<text text-anchor=\"middle\" x=\"324.5713\" y=\"-753.8\" font-family=\"Times,serif\" font-size=\"14.00\" fill=\"#000000\">1</text>\n</g>\n<!-- 14&#45;&#45;19 -->\n<g id=\"edge51\" class=\"edge\">\n<title>14&#45;&#45;19</title>\n<path fill=\"none\" stroke=\"#000000\" d=\"M382.3453,-792.4546C399.1613,-785.9636 421.9384,-776.2519 440.5713,-765 458.0846,-754.4242 476.1455,-739.6095 488.5965,-728.6708\"/>\n<text text-anchor=\"middle\" x=\"464.5713\" y=\"-753.8\" font-family=\"Times,serif\" font-size=\"14.00\" fill=\"#000000\">2</text>\n</g>\n<!-- 14&#45;&#45;20 -->\n<g id=\"edge52\" class=\"edge\">\n<title>14&#45;&#45;20</title>\n<path fill=\"none\" stroke=\"#000000\" d=\"M363.9404,-783.0343C373.9308,-749.605 395.2632,-678.2232 405.2315,-644.868\"/>\n<text text-anchor=\"middle\" x=\"393.5713\" y=\"-710.3\" font-family=\"Times,serif\" font-size=\"14.00\" fill=\"#000000\">1</text>\n</g>\n<!-- 21 -->\n<g id=\"node23\" class=\"node\">\n<title>21</title>\n<ellipse fill=\"none\" stroke=\"#000000\" cx=\"326.5713\" cy=\"-540\" rx=\"27\" ry=\"18\"/>\n<text text-anchor=\"middle\" x=\"326.5713\" y=\"-536.3\" font-family=\"Times,serif\" font-size=\"14.00\" fill=\"#000000\">21</text>\n</g>\n<!-- 14&#45;&#45;21 -->\n<g id=\"edge53\" class=\"edge\">\n<title>14&#45;&#45;21</title>\n<path fill=\"none\" stroke=\"#000000\" d=\"M356.3211,-782.647C350.4314,-734.6091 334.6153,-605.6091 328.7765,-557.9862\"/>\n<text text-anchor=\"middle\" x=\"347.5713\" y=\"-666.8\" font-family=\"Times,serif\" font-size=\"14.00\" fill=\"#000000\">2</text>\n</g>\n<!-- 15&#45;&#45;16 -->\n<g id=\"edge54\" class=\"edge\">\n<title>15&#45;&#45;16</title>\n<path fill=\"none\" stroke=\"#000000\" d=\"M252.5913,-698.8458C236.9028,-682.9749 212.4004,-658.1875 196.6683,-642.2725\"/>\n<text text-anchor=\"middle\" x=\"234.5713\" y=\"-666.8\" font-family=\"Times,serif\" font-size=\"14.00\" fill=\"#000000\">1</text>\n</g>\n<!-- 15&#45;&#45;20 -->\n<g id=\"edge55\" class=\"edge\">\n<title>15&#45;&#45;20</title>\n<path fill=\"none\" stroke=\"#000000\" d=\"M291.7541,-705.6827C308.8312,-699.2992 331.9042,-689.6221 350.5713,-678 367.0514,-667.7395 383.7096,-653.1702 395.2777,-642.229\"/>\n<text text-anchor=\"middle\" x=\"374.5713\" y=\"-666.8\" font-family=\"Times,serif\" font-size=\"14.00\" fill=\"#000000\">2</text>\n</g>\n<!-- 15&#45;&#45;21 -->\n<g id=\"edge56\" class=\"edge\">\n<title>15&#45;&#45;21</title>\n<path fill=\"none\" stroke=\"#000000\" d=\"M273.5532,-696.3584C284.8615,-663.0087 309.2531,-591.074 320.5736,-557.6883\"/>\n<text text-anchor=\"middle\" x=\"307.5713\" y=\"-623.3\" font-family=\"Times,serif\" font-size=\"14.00\" fill=\"#000000\">1</text>\n</g>\n<!-- 22 -->\n<g id=\"node24\" class=\"node\">\n<title>22</title>\n<ellipse fill=\"none\" stroke=\"#000000\" cx=\"237.5713\" cy=\"-453\" rx=\"27\" ry=\"18\"/>\n<text text-anchor=\"middle\" x=\"237.5713\" y=\"-449.3\" font-family=\"Times,serif\" font-size=\"14.00\" fill=\"#000000\">22</text>\n</g>\n<!-- 15&#45;&#45;22 -->\n<g id=\"edge57\" class=\"edge\">\n<title>15&#45;&#45;22</title>\n<path fill=\"none\" stroke=\"#000000\" d=\"M265.4618,-695.647C259.9402,-647.6091 245.1126,-518.6091 239.6387,-470.9862\"/>\n<text text-anchor=\"middle\" x=\"257.5713\" y=\"-579.8\" font-family=\"Times,serif\" font-size=\"14.00\" fill=\"#000000\">2</text>\n</g>\n<!-- 16&#45;&#45;17 -->\n<g id=\"edge58\" class=\"edge\">\n<title>16&#45;&#45;17</title>\n<path fill=\"none\" stroke=\"#000000\" d=\"M164.8753,-612.6873C157.9346,-606.3661 150.0128,-598.6443 143.5713,-591 134.6571,-580.4212 126.0287,-567.4349 119.6946,-557.2143\"/>\n<text text-anchor=\"middle\" x=\"147.5713\" y=\"-579.8\" font-family=\"Times,serif\" font-size=\"14.00\" fill=\"#000000\">1</text>\n</g>\n<!-- 16&#45;&#45;21 -->\n<g id=\"edge59\" class=\"edge\">\n<title>16&#45;&#45;21</title>\n<path fill=\"none\" stroke=\"#000000\" d=\"M205.3721,-618.4987C222.2007,-612.0284 244.9818,-602.3234 263.5713,-591 280.8774,-580.4584 298.6477,-565.6394 310.8843,-554.6905\"/>\n<text text-anchor=\"middle\" x=\"288.5713\" y=\"-579.8\" font-family=\"Times,serif\" font-size=\"14.00\" fill=\"#000000\">2</text>\n</g>\n<!-- 16&#45;&#45;22 -->\n<g id=\"edge60\" class=\"edge\">\n<title>16&#45;&#45;22</title>\n<path fill=\"none\" stroke=\"#000000\" d=\"M187.2491,-609.3584C197.9823,-576.0087 221.1337,-504.074 231.8785,-470.6883\"/>\n<text text-anchor=\"middle\" x=\"219.5713\" y=\"-536.3\" font-family=\"Times,serif\" font-size=\"14.00\" fill=\"#000000\">1</text>\n</g>\n<!-- 23 -->\n<g id=\"node25\" class=\"node\">\n<title>23</title>\n<ellipse fill=\"none\" stroke=\"#000000\" cx=\"165.5713\" cy=\"-366\" rx=\"27\" ry=\"18\"/>\n<text text-anchor=\"middle\" x=\"165.5713\" y=\"-362.3\" font-family=\"Times,serif\" font-size=\"14.00\" fill=\"#000000\">23</text>\n</g>\n<!-- 16&#45;&#45;23 -->\n<g id=\"edge61\" class=\"edge\">\n<title>16&#45;&#45;23</title>\n<path fill=\"none\" stroke=\"#000000\" d=\"M178.6805,-608.7228C175.0417,-584.753 168.9765,-541.3542 166.5713,-504 163.8157,-461.2021 164.4247,-410.7852 165.0404,-384.3282\"/>\n<text text-anchor=\"middle\" x=\"170.5713\" y=\"-492.8\" font-family=\"Times,serif\" font-size=\"14.00\" fill=\"#000000\">2</text>\n</g>\n<!-- 17&#45;&#45;22 -->\n<g id=\"edge62\" class=\"edge\">\n<title>17&#45;&#45;22</title>\n<path fill=\"none\" stroke=\"#000000\" d=\"M131.1247,-528.9926C143.7858,-522.2546 159.9302,-513.1852 173.5713,-504 190.4237,-492.6525 208.4186,-478.0689 221.0211,-467.4053\"/>\n<text text-anchor=\"middle\" x=\"198.5713\" y=\"-492.8\" font-family=\"Times,serif\" font-size=\"14.00\" fill=\"#000000\">2</text>\n</g>\n<!-- 17&#45;&#45;23 -->\n<g id=\"edge63\" class=\"edge\">\n<title>17&#45;&#45;23</title>\n<path fill=\"none\" stroke=\"#000000\" d=\"M114.2794,-521.9407C121.3484,-495.3916 135.4923,-444.3857 150.5713,-402 152.75,-395.876 155.404,-389.2825 157.8705,-383.4328\"/>\n<text text-anchor=\"middle\" x=\"143.5713\" y=\"-449.3\" font-family=\"Times,serif\" font-size=\"14.00\" fill=\"#000000\">1</text>\n</g>\n<!-- 18&#45;&#45;19 -->\n<g id=\"edge64\" class=\"edge\">\n<title>18&#45;&#45;19</title>\n<path fill=\"none\" stroke=\"#000000\" d=\"M563.7833,-784.8084C555.7641,-774.7262 545.1632,-761.5271 535.5713,-750 529.9792,-743.2796 523.7031,-735.9524 518.2683,-729.6731\"/>\n<text text-anchor=\"middle\" x=\"550.5713\" y=\"-753.8\" font-family=\"Times,serif\" font-size=\"14.00\" fill=\"#000000\">1</text>\n</g>\n<!-- 24 -->\n<g id=\"node26\" class=\"node\">\n<title>24</title>\n<ellipse fill=\"none\" stroke=\"#000000\" cx=\"586.5713\" cy=\"-627\" rx=\"27\" ry=\"18\"/>\n<text text-anchor=\"middle\" x=\"586.5713\" y=\"-623.3\" font-family=\"Times,serif\" font-size=\"14.00\" fill=\"#000000\">24</text>\n</g>\n<!-- 18&#45;&#45;24 -->\n<g id=\"edge65\" class=\"edge\">\n<title>18&#45;&#45;24</title>\n<path fill=\"none\" stroke=\"#000000\" d=\"M577.6226,-782.7078C579.5482,-749.2024 583.619,-678.3695 585.5341,-645.0471\"/>\n<text text-anchor=\"middle\" x=\"585.5713\" y=\"-710.3\" font-family=\"Times,serif\" font-size=\"14.00\" fill=\"#000000\">1</text>\n</g>\n<!-- 25 -->\n<g id=\"node27\" class=\"node\">\n<title>25</title>\n<ellipse fill=\"none\" stroke=\"#000000\" cx=\"596.5713\" cy=\"-540\" rx=\"27\" ry=\"18\"/>\n<text text-anchor=\"middle\" x=\"596.5713\" y=\"-536.3\" font-family=\"Times,serif\" font-size=\"14.00\" fill=\"#000000\">25</text>\n</g>\n<!-- 18&#45;&#45;25 -->\n<g id=\"edge66\" class=\"edge\">\n<title>18&#45;&#45;25</title>\n<path fill=\"none\" stroke=\"#000000\" d=\"M585.5833,-783.9236C602.0941,-750.5552 634.4572,-674.2516 622.5713,-609 619.2449,-590.7385 611.3455,-571.0275 605.1206,-557.3677\"/>\n<text text-anchor=\"middle\" x=\"627.5713\" y=\"-666.8\" font-family=\"Times,serif\" font-size=\"14.00\" fill=\"#000000\">2</text>\n</g>\n<!-- 19&#45;&#45;20 -->\n<g id=\"edge67\" class=\"edge\">\n<title>19&#45;&#45;20</title>\n<path fill=\"none\" stroke=\"#000000\" d=\"M488.6255,-699.2416C471.3401,-683.2434 443.9113,-657.8572 426.5954,-641.8308\"/>\n<text text-anchor=\"middle\" x=\"466.5713\" y=\"-666.8\" font-family=\"Times,serif\" font-size=\"14.00\" fill=\"#000000\">1</text>\n</g>\n<!-- 19&#45;&#45;24 -->\n<g id=\"edge68\" class=\"edge\">\n<title>19&#45;&#45;24</title>\n<path fill=\"none\" stroke=\"#000000\" d=\"M521.4342,-699.8184C528.7757,-693.3953 537.3363,-685.5597 544.5713,-678 555.1985,-666.8959 566.2078,-653.4431 574.2874,-643.1427\"/>\n<text text-anchor=\"middle\" x=\"561.5713\" y=\"-666.8\" font-family=\"Times,serif\" font-size=\"14.00\" fill=\"#000000\">2</text>\n</g>\n<!-- 19&#45;&#45;25 -->\n<g id=\"edge69\" class=\"edge\">\n<title>19&#45;&#45;25</title>\n<path fill=\"none\" stroke=\"#000000\" d=\"M509.1508,-696.1741C515.0888,-674.6746 526.6081,-637.8325 542.5713,-609 553.6234,-589.038 570.2632,-568.7797 582.1483,-555.4257\"/>\n<text text-anchor=\"middle\" x=\"546.5713\" y=\"-623.3\" font-family=\"Times,serif\" font-size=\"14.00\" fill=\"#000000\">1</text>\n</g>\n<!-- 26 -->\n<g id=\"node28\" class=\"node\">\n<title>26</title>\n<ellipse fill=\"none\" stroke=\"#000000\" cx=\"469.5713\" cy=\"-453\" rx=\"27\" ry=\"18\"/>\n<text text-anchor=\"middle\" x=\"469.5713\" y=\"-449.3\" font-family=\"Times,serif\" font-size=\"14.00\" fill=\"#000000\">26</text>\n</g>\n<!-- 19&#45;&#45;26 -->\n<g id=\"edge70\" class=\"edge\">\n<title>19&#45;&#45;26</title>\n<path fill=\"none\" stroke=\"#000000\" d=\"M502.1656,-696.0604C495.7717,-648.3798 478.407,-518.889 471.9938,-471.0651\"/>\n<text text-anchor=\"middle\" x=\"491.5713\" y=\"-579.8\" font-family=\"Times,serif\" font-size=\"14.00\" fill=\"#000000\">2</text>\n</g>\n<!-- 20&#45;&#45;21 -->\n<g id=\"edge71\" class=\"edge\">\n<title>20&#45;&#45;21</title>\n<path fill=\"none\" stroke=\"#000000\" d=\"M395.9396,-611.8458C380.616,-595.9749 356.6834,-571.1875 341.3172,-555.2725\"/>\n<text text-anchor=\"middle\" x=\"378.5713\" y=\"-579.8\" font-family=\"Times,serif\" font-size=\"14.00\" fill=\"#000000\">1</text>\n</g>\n<!-- 20&#45;&#45;25 -->\n<g id=\"edge72\" class=\"edge\">\n<title>20&#45;&#45;25</title>\n<path fill=\"none\" stroke=\"#000000\" d=\"M422.1883,-610.4252C430.9482,-599.1237 443.9311,-584.6852 458.5713,-576 493.6013,-555.2186 540.5934,-546.2799 569.7103,-542.545\"/>\n<text text-anchor=\"middle\" x=\"462.5713\" y=\"-579.8\" font-family=\"Times,serif\" font-size=\"14.00\" fill=\"#000000\">2</text>\n</g>\n<!-- 20&#45;&#45;26 -->\n<g id=\"edge73\" class=\"edge\">\n<title>20&#45;&#45;26</title>\n<path fill=\"none\" stroke=\"#000000\" d=\"M416.5532,-609.3584C427.8615,-576.0087 452.2531,-504.074 463.5736,-470.6883\"/>\n<text text-anchor=\"middle\" x=\"449.5713\" y=\"-536.3\" font-family=\"Times,serif\" font-size=\"14.00\" fill=\"#000000\">1</text>\n</g>\n<!-- 27 -->\n<g id=\"node29\" class=\"node\">\n<title>27</title>\n<ellipse fill=\"none\" stroke=\"#000000\" cx=\"384.5713\" cy=\"-366\" rx=\"27\" ry=\"18\"/>\n<text text-anchor=\"middle\" x=\"384.5713\" y=\"-362.3\" font-family=\"Times,serif\" font-size=\"14.00\" fill=\"#000000\">27</text>\n</g>\n<!-- 20&#45;&#45;27 -->\n<g id=\"edge74\" class=\"edge\">\n<title>20&#45;&#45;27</title>\n<path fill=\"none\" stroke=\"#000000\" d=\"M408.743,-608.647C403.9577,-560.6091 391.1071,-431.6091 386.363,-383.9862\"/>\n<text text-anchor=\"middle\" x=\"401.5713\" y=\"-492.8\" font-family=\"Times,serif\" font-size=\"14.00\" fill=\"#000000\">2</text>\n</g>\n<!-- 21&#45;&#45;22 -->\n<g id=\"edge75\" class=\"edge\">\n<title>21&#45;&#45;22</title>\n<path fill=\"none\" stroke=\"#000000\" d=\"M311.0761,-524.9503C304.4466,-518.5046 296.6236,-510.8891 289.5713,-504 277.2695,-491.9828 263.3626,-478.3404 253.0279,-468.191\"/>\n<text text-anchor=\"middle\" x=\"293.5713\" y=\"-492.8\" font-family=\"Times,serif\" font-size=\"14.00\" fill=\"#000000\">1</text>\n</g>\n<!-- 21&#45;&#45;26 -->\n<g id=\"edge76\" class=\"edge\">\n<title>21&#45;&#45;26</title>\n<path fill=\"none\" stroke=\"#000000\" d=\"M350.4843,-531.1266C366.823,-524.6166 388.6716,-515.016 406.5713,-504 423.8289,-493.3792 441.6053,-478.5701 453.8564,-467.645\"/>\n<text text-anchor=\"middle\" x=\"430.5713\" y=\"-492.8\" font-family=\"Times,serif\" font-size=\"14.00\" fill=\"#000000\">2</text>\n</g>\n<!-- 21&#45;&#45;27 -->\n<g id=\"edge77\" class=\"edge\">\n<title>21&#45;&#45;27</title>\n<path fill=\"none\" stroke=\"#000000\" d=\"M332.4519,-522.3584C343.5684,-489.0087 367.5467,-417.074 378.6752,-383.6883\"/>\n<text text-anchor=\"middle\" x=\"365.5713\" y=\"-449.3\" font-family=\"Times,serif\" font-size=\"14.00\" fill=\"#000000\">1</text>\n</g>\n<!-- 28 -->\n<g id=\"node30\" class=\"node\">\n<title>28</title>\n<ellipse fill=\"none\" stroke=\"#000000\" cx=\"293.5713\" cy=\"-279\" rx=\"27\" ry=\"18\"/>\n<text text-anchor=\"middle\" x=\"293.5713\" y=\"-275.3\" font-family=\"Times,serif\" font-size=\"14.00\" fill=\"#000000\">28</text>\n</g>\n<!-- 21&#45;&#45;28 -->\n<g id=\"edge78\" class=\"edge\">\n<title>21&#45;&#45;28</title>\n<path fill=\"none\" stroke=\"#000000\" d=\"M324.3031,-522.0604C318.2745,-474.3798 301.9021,-344.889 295.8554,-297.0651\"/>\n<text text-anchor=\"middle\" x=\"315.5713\" y=\"-405.8\" font-family=\"Times,serif\" font-size=\"14.00\" fill=\"#000000\">2</text>\n</g>\n<!-- 22&#45;&#45;23 -->\n<g id=\"edge79\" class=\"edge\">\n<title>22&#45;&#45;23</title>\n<path fill=\"none\" stroke=\"#000000\" d=\"M220.8753,-438.6873C213.9346,-432.3661 206.0128,-424.6443 199.5713,-417 190.6571,-406.4212 182.0287,-393.4349 175.6946,-383.2143\"/>\n<text text-anchor=\"middle\" x=\"203.5713\" y=\"-405.8\" font-family=\"Times,serif\" font-size=\"14.00\" fill=\"#000000\">1</text>\n</g>\n<!-- 22&#45;&#45;27 -->\n<g id=\"edge80\" class=\"edge\">\n<title>22&#45;&#45;27</title>\n<path fill=\"none\" stroke=\"#000000\" d=\"M261.3193,-444.4113C278.123,-437.8998 300.8961,-428.1815 319.5713,-417 337.2926,-406.3896 355.6439,-391.5792 368.3092,-380.651\"/>\n<text text-anchor=\"middle\" x=\"344.5713\" y=\"-405.8\" font-family=\"Times,serif\" font-size=\"14.00\" fill=\"#000000\">2</text>\n</g>\n<!-- 22&#45;&#45;28 -->\n<g id=\"edge81\" class=\"edge\">\n<title>22&#45;&#45;28</title>\n<path fill=\"none\" stroke=\"#000000\" d=\"M243.2491,-435.3584C253.9823,-402.0087 277.1337,-330.074 287.8785,-296.6883\"/>\n<text text-anchor=\"middle\" x=\"275.5713\" y=\"-362.3\" font-family=\"Times,serif\" font-size=\"14.00\" fill=\"#000000\">1</text>\n</g>\n<!-- 29 -->\n<g id=\"node31\" class=\"node\">\n<title>29</title>\n<ellipse fill=\"none\" stroke=\"#000000\" cx=\"221.5713\" cy=\"-192\" rx=\"27\" ry=\"18\"/>\n<text text-anchor=\"middle\" x=\"221.5713\" y=\"-188.3\" font-family=\"Times,serif\" font-size=\"14.00\" fill=\"#000000\">29</text>\n</g>\n<!-- 22&#45;&#45;29 -->\n<g id=\"edge82\" class=\"edge\">\n<title>22&#45;&#45;29</title>\n<path fill=\"none\" stroke=\"#000000\" d=\"M234.6805,-434.7228C231.0417,-410.753 224.9765,-367.3542 222.5713,-330 219.8157,-287.2021 220.4247,-236.7852 221.0404,-210.3282\"/>\n<text text-anchor=\"middle\" x=\"226.5713\" y=\"-318.8\" font-family=\"Times,serif\" font-size=\"14.00\" fill=\"#000000\">2</text>\n</g>\n<!-- 23&#45;&#45;28 -->\n<g id=\"edge83\" class=\"edge\">\n<title>23&#45;&#45;28</title>\n<path fill=\"none\" stroke=\"#000000\" d=\"M187.1247,-354.9926C199.7858,-348.2546 215.9302,-339.1852 229.5713,-330 246.4237,-318.6525 264.4186,-304.0689 277.0211,-293.4053\"/>\n<text text-anchor=\"middle\" x=\"254.5713\" y=\"-318.8\" font-family=\"Times,serif\" font-size=\"14.00\" fill=\"#000000\">2</text>\n</g>\n<!-- 23&#45;&#45;29 -->\n<g id=\"edge84\" class=\"edge\">\n<title>23&#45;&#45;29</title>\n<path fill=\"none\" stroke=\"#000000\" d=\"M170.2794,-347.9407C177.3484,-321.3916 191.4923,-270.3857 206.5713,-228 208.75,-221.876 211.404,-215.2825 213.8705,-209.4328\"/>\n<text text-anchor=\"middle\" x=\"199.5713\" y=\"-275.3\" font-family=\"Times,serif\" font-size=\"14.00\" fill=\"#000000\">1</text>\n</g>\n<!-- 24&#45;&#45;25 -->\n<g id=\"edge85\" class=\"edge\">\n<title>24&#45;&#45;25</title>\n<path fill=\"none\" stroke=\"#000000\" d=\"M588.6433,-608.9735C590.3596,-594.0422 592.7865,-572.9283 594.502,-558.0034\"/>\n<text text-anchor=\"middle\" x=\"595.5713\" y=\"-579.8\" font-family=\"Times,serif\" font-size=\"14.00\" fill=\"#000000\">1</text>\n</g>\n<!-- 30 -->\n<g id=\"node32\" class=\"node\">\n<title>30</title>\n<ellipse fill=\"none\" stroke=\"#000000\" cx=\"644.5713\" cy=\"-453\" rx=\"27\" ry=\"18\"/>\n<text text-anchor=\"middle\" x=\"644.5713\" y=\"-449.3\" font-family=\"Times,serif\" font-size=\"14.00\" fill=\"#000000\">30</text>\n</g>\n<!-- 24&#45;&#45;30 -->\n<g id=\"edge86\" class=\"edge\">\n<title>24&#45;&#45;30</title>\n<path fill=\"none\" stroke=\"#000000\" d=\"M600.3138,-611.2039C611.0169,-597.9447 625.247,-578.0094 632.5713,-558 643.23,-528.8816 645.0455,-492.449 645.0486,-471.0491\"/>\n<text text-anchor=\"middle\" x=\"644.5713\" y=\"-536.3\" font-family=\"Times,serif\" font-size=\"14.00\" fill=\"#000000\">1</text>\n</g>\n<!-- 31 -->\n<g id=\"node33\" class=\"node\">\n<title>31</title>\n<ellipse fill=\"none\" stroke=\"#000000\" cx=\"552.5713\" cy=\"-366\" rx=\"27\" ry=\"18\"/>\n<text text-anchor=\"middle\" x=\"552.5713\" y=\"-362.3\" font-family=\"Times,serif\" font-size=\"14.00\" fill=\"#000000\">31</text>\n</g>\n<!-- 24&#45;&#45;31 -->\n<g id=\"edge87\" class=\"edge\">\n<title>24&#45;&#45;31</title>\n<path fill=\"none\" stroke=\"#000000\" d=\"M578.2361,-609.591C572.1262,-595.909 564.2772,-576.1883 560.5713,-558 547.7827,-495.2341 549.677,-418.617 551.4234,-384.2314\"/>\n<text text-anchor=\"middle\" x=\"556.5713\" y=\"-492.8\" font-family=\"Times,serif\" font-size=\"14.00\" fill=\"#000000\">2</text>\n</g>\n<!-- 25&#45;&#45;26 -->\n<g id=\"edge88\" class=\"edge\">\n<title>25&#45;&#45;26</title>\n<path fill=\"none\" stroke=\"#000000\" d=\"M572.1172,-531.9382C555.5369,-525.7905 533.6219,-516.2894 516.5713,-504 503.0916,-494.2844 490.4871,-480.2234 481.7312,-469.3252\"/>\n<text text-anchor=\"middle\" x=\"520.5713\" y=\"-492.8\" font-family=\"Times,serif\" font-size=\"14.00\" fill=\"#000000\">1</text>\n</g>\n<!-- 25&#45;&#45;30 -->\n<g id=\"edge89\" class=\"edge\">\n<title>25&#45;&#45;30</title>\n<path fill=\"none\" stroke=\"#000000\" d=\"M606.0546,-522.8116C614.4696,-507.5593 626.6987,-485.3942 635.1078,-470.1527\"/>\n<text text-anchor=\"middle\" x=\"626.5713\" y=\"-492.8\" font-family=\"Times,serif\" font-size=\"14.00\" fill=\"#000000\">2</text>\n</g>\n<!-- 25&#45;&#45;31 -->\n<g id=\"edge90\" class=\"edge\">\n<title>25&#45;&#45;31</title>\n<path fill=\"none\" stroke=\"#000000\" d=\"M592.3373,-522.0937C586.0645,-495.7351 573.8287,-444.9643 562.5713,-402 561.0259,-396.1017 559.2671,-389.6812 557.66,-383.9172\"/>\n<text text-anchor=\"middle\" x=\"582.5713\" y=\"-449.3\" font-family=\"Times,serif\" font-size=\"14.00\" fill=\"#000000\">1</text>\n</g>\n<!-- 32 -->\n<g id=\"node34\" class=\"node\">\n<title>32</title>\n<ellipse fill=\"none\" stroke=\"#000000\" cx=\"508.5713\" cy=\"-279\" rx=\"27\" ry=\"18\"/>\n<text text-anchor=\"middle\" x=\"508.5713\" y=\"-275.3\" font-family=\"Times,serif\" font-size=\"14.00\" fill=\"#000000\">32</text>\n</g>\n<!-- 25&#45;&#45;32 -->\n<g id=\"edge91\" class=\"edge\">\n<title>25&#45;&#45;32</title>\n<path fill=\"none\" stroke=\"#000000\" d=\"M615.9227,-527.0557C638.5128,-511.4742 673.6755,-485.5884 680.5713,-471 687.409,-456.5346 686.9,-449.6951 680.5713,-435 650.0349,-364.0953 568.9371,-311.9771 530.0098,-290.2155\"/>\n<text text-anchor=\"middle\" x=\"674.5713\" y=\"-405.8\" font-family=\"Times,serif\" font-size=\"14.00\" fill=\"#000000\">2</text>\n</g>\n<!-- 26&#45;&#45;27 -->\n<g id=\"edge92\" class=\"edge\">\n<title>26&#45;&#45;27</title>\n<path fill=\"none\" stroke=\"#000000\" d=\"M453.9402,-438.0866C447.2879,-431.6639 439.4844,-424.0287 432.5713,-417 421.1464,-405.3839 408.5306,-391.9551 399.1009,-381.7939\"/>\n<text text-anchor=\"middle\" x=\"436.5713\" y=\"-405.8\" font-family=\"Times,serif\" font-size=\"14.00\" fill=\"#000000\">1</text>\n</g>\n<!-- 26&#45;&#45;31 -->\n<g id=\"edge93\" class=\"edge\">\n<title>26&#45;&#45;31</title>\n<path fill=\"none\" stroke=\"#000000\" d=\"M484.4101,-437.4461C499.5177,-421.6105 522.8,-397.2061 537.861,-381.4192\"/>\n<text text-anchor=\"middle\" x=\"519.5713\" y=\"-405.8\" font-family=\"Times,serif\" font-size=\"14.00\" fill=\"#000000\">2</text>\n</g>\n<!-- 26&#45;&#45;32 -->\n<g id=\"edge94\" class=\"edge\">\n<title>26&#45;&#45;32</title>\n<path fill=\"none\" stroke=\"#000000\" d=\"M473.5981,-435.0343C481.0909,-401.605 497.0903,-330.2232 504.5664,-296.868\"/>\n<text text-anchor=\"middle\" x=\"496.5713\" y=\"-362.3\" font-family=\"Times,serif\" font-size=\"14.00\" fill=\"#000000\">1</text>\n</g>\n<!-- 33 -->\n<g id=\"node35\" class=\"node\">\n<title>33</title>\n<ellipse fill=\"none\" stroke=\"#000000\" cx=\"421.5713\" cy=\"-192\" rx=\"27\" ry=\"18\"/>\n<text text-anchor=\"middle\" x=\"421.5713\" y=\"-188.3\" font-family=\"Times,serif\" font-size=\"14.00\" fill=\"#000000\">33</text>\n</g>\n<!-- 26&#45;&#45;33 -->\n<g id=\"edge95\" class=\"edge\">\n<title>26&#45;&#45;33</title>\n<path fill=\"none\" stroke=\"#000000\" d=\"M466.2721,-435.0604C457.5032,-387.3798 433.6888,-257.889 424.8936,-210.0651\"/>\n<text text-anchor=\"middle\" x=\"450.5713\" y=\"-318.8\" font-family=\"Times,serif\" font-size=\"14.00\" fill=\"#000000\">2</text>\n</g>\n<!-- 27&#45;&#45;28 -->\n<g id=\"edge96\" class=\"edge\">\n<title>27&#45;&#45;28</title>\n<path fill=\"none\" stroke=\"#000000\" d=\"M368.531,-351.3953C361.4473,-344.8938 353.0478,-337.114 345.5713,-330 333.1127,-318.1455 319.2156,-304.4929 308.9245,-294.2983\"/>\n<text text-anchor=\"middle\" x=\"349.5713\" y=\"-318.8\" font-family=\"Times,serif\" font-size=\"14.00\" fill=\"#000000\">1</text>\n</g>\n<!-- 27&#45;&#45;32 -->\n<g id=\"edge97\" class=\"edge\">\n<title>27&#45;&#45;32</title>\n<path fill=\"none\" stroke=\"#000000\" d=\"M408.7987,-357.7484C424.9356,-351.5728 446.1173,-342.1145 462.5713,-330 475.8219,-320.244 488.1538,-306.1862 496.7069,-295.2994\"/>\n<text text-anchor=\"middle\" x=\"482.5713\" y=\"-318.8\" font-family=\"Times,serif\" font-size=\"14.00\" fill=\"#000000\">2</text>\n</g>\n<!-- 27&#45;&#45;33 -->\n<g id=\"edge98\" class=\"edge\">\n<title>27&#45;&#45;33</title>\n<path fill=\"none\" stroke=\"#000000\" d=\"M388.3916,-348.0343C395.5002,-314.605 410.679,-243.2232 417.7718,-209.868\"/>\n<text text-anchor=\"middle\" x=\"410.5713\" y=\"-275.3\" font-family=\"Times,serif\" font-size=\"14.00\" fill=\"#000000\">1</text>\n</g>\n<!-- 34 -->\n<g id=\"node36\" class=\"node\">\n<title>34</title>\n<ellipse fill=\"none\" stroke=\"#000000\" cx=\"331.5713\" cy=\"-105\" rx=\"27\" ry=\"18\"/>\n<text text-anchor=\"middle\" x=\"331.5713\" y=\"-101.3\" font-family=\"Times,serif\" font-size=\"14.00\" fill=\"#000000\">34</text>\n</g>\n<!-- 27&#45;&#45;34 -->\n<g id=\"edge99\" class=\"edge\">\n<title>27&#45;&#45;34</title>\n<path fill=\"none\" stroke=\"#000000\" d=\"M380.9284,-348.0604C371.2461,-300.3798 344.9511,-170.889 335.2397,-123.0651\"/>\n<text text-anchor=\"middle\" x=\"363.5713\" y=\"-231.8\" font-family=\"Times,serif\" font-size=\"14.00\" fill=\"#000000\">2</text>\n</g>\n<!-- 28&#45;&#45;29 -->\n<g id=\"edge100\" class=\"edge\">\n<title>28&#45;&#45;29</title>\n<path fill=\"none\" stroke=\"#000000\" d=\"M276.8753,-264.6873C269.9346,-258.3661 262.0128,-250.6443 255.5713,-243 246.6571,-232.4212 238.0287,-219.4349 231.6946,-209.2143\"/>\n<text text-anchor=\"middle\" x=\"259.5713\" y=\"-231.8\" font-family=\"Times,serif\" font-size=\"14.00\" fill=\"#000000\">1</text>\n</g>\n<!-- 28&#45;&#45;33 -->\n<g id=\"edge101\" class=\"edge\">\n<title>28&#45;&#45;33</title>\n<path fill=\"none\" stroke=\"#000000\" d=\"M318.3192,-271.2414C335.3801,-265.1761 358.0491,-255.6498 375.5713,-243 388.9126,-233.3685 401.2374,-219.3009 409.7648,-208.3788\"/>\n<text text-anchor=\"middle\" x=\"395.5713\" y=\"-231.8\" font-family=\"Times,serif\" font-size=\"14.00\" fill=\"#000000\">2</text>\n</g>\n<!-- 28&#45;&#45;34 -->\n<g id=\"edge102\" class=\"edge\">\n<title>28&#45;&#45;34</title>\n<path fill=\"none\" stroke=\"#000000\" d=\"M297.4949,-261.0343C304.7955,-227.605 320.3846,-156.2232 327.6691,-122.868\"/>\n<text text-anchor=\"middle\" x=\"320.5713\" y=\"-188.3\" font-family=\"Times,serif\" font-size=\"14.00\" fill=\"#000000\">1</text>\n</g>\n<!-- 35 -->\n<g id=\"node37\" class=\"node\">\n<title>35</title>\n<ellipse fill=\"none\" stroke=\"#000000\" cx=\"276.5713\" cy=\"-18\" rx=\"27\" ry=\"18\"/>\n<text text-anchor=\"middle\" x=\"276.5713\" y=\"-14.3\" font-family=\"Times,serif\" font-size=\"14.00\" fill=\"#000000\">35</text>\n</g>\n<!-- 28&#45;&#45;35 -->\n<g id=\"edge103\" class=\"edge\">\n<title>28&#45;&#45;35</title>\n<path fill=\"none\" stroke=\"#000000\" d=\"M290.7222,-260.72C287.1284,-236.7472 281.1118,-193.3452 278.5713,-156 275.6604,-113.209 275.8424,-62.7894 276.2152,-36.3301\"/>\n<text text-anchor=\"middle\" x=\"282.5713\" y=\"-144.8\" font-family=\"Times,serif\" font-size=\"14.00\" fill=\"#000000\">2</text>\n</g>\n<!-- 29&#45;&#45;34 -->\n<g id=\"edge104\" class=\"edge\">\n<title>29&#45;&#45;34</title>\n<path fill=\"none\" stroke=\"#000000\" d=\"M244.014,-181.6443C256.8282,-175.1924 272.8282,-166.1924 285.5713,-156 298.235,-145.871 310.426,-132.1105 319.0724,-121.4357\"/>\n<text text-anchor=\"middle\" x=\"305.5713\" y=\"-144.8\" font-family=\"Times,serif\" font-size=\"14.00\" fill=\"#000000\">2</text>\n</g>\n<!-- 29&#45;&#45;35 -->\n<g id=\"edge105\" class=\"edge\">\n<title>29&#45;&#45;35</title>\n<path fill=\"none\" stroke=\"#000000\" d=\"M226.4136,-173.9876C233.6498,-147.4968 247.9999,-96.5629 262.5713,-54 264.6565,-47.9093 267.1465,-41.3241 269.4445,-35.4718\"/>\n<text text-anchor=\"middle\" x=\"256.5713\" y=\"-101.3\" font-family=\"Times,serif\" font-size=\"14.00\" fill=\"#000000\">1</text>\n</g>\n<!-- 30&#45;&#45;31 -->\n<g id=\"edge106\" class=\"edge\">\n<title>30&#45;&#45;31</title>\n<path fill=\"none\" stroke=\"#000000\" d=\"M633.8365,-436.2825C626.6019,-425.7529 616.4252,-412.2606 605.5713,-402 595.7906,-392.754 583.4154,-384.2058 573.0832,-377.7614\"/>\n<text text-anchor=\"middle\" x=\"622.5713\" y=\"-405.8\" font-family=\"Times,serif\" font-size=\"14.00\" fill=\"#000000\">1</text>\n</g>\n<!-- 31&#45;&#45;32 -->\n<g id=\"edge107\" class=\"edge\">\n<title>31&#45;&#45;32</title>\n<path fill=\"none\" stroke=\"#000000\" d=\"M543.8783,-348.8116C536.1645,-333.5593 524.9546,-311.3942 517.2462,-296.1527\"/>\n<text text-anchor=\"middle\" x=\"536.5713\" y=\"-318.8\" font-family=\"Times,serif\" font-size=\"14.00\" fill=\"#000000\">1</text>\n</g>\n<!-- 32&#45;&#45;33 -->\n<g id=\"edge108\" class=\"edge\">\n<title>32&#45;&#45;33</title>\n<path fill=\"none\" stroke=\"#000000\" d=\"M496.8937,-262.5777C489.1315,-252.1658 478.4059,-238.6938 467.5713,-228 459.199,-219.7365 448.9692,-211.5702 440.2844,-205.1097\"/>\n<text text-anchor=\"middle\" x=\"484.5713\" y=\"-231.8\" font-family=\"Times,serif\" font-size=\"14.00\" fill=\"#000000\">1</text>\n</g>\n<!-- 33&#45;&#45;34 -->\n<g id=\"edge109\" class=\"edge\">\n<title>33&#45;&#45;34</title>\n<path fill=\"none\" stroke=\"#000000\" d=\"M410.0036,-175.4646C402.2853,-165.0076 391.5673,-151.5278 380.5713,-141 371.574,-132.3858 360.4604,-124.0641 351.0931,-117.5955\"/>\n<text text-anchor=\"middle\" x=\"397.5713\" y=\"-144.8\" font-family=\"Times,serif\" font-size=\"14.00\" fill=\"#000000\">1</text>\n</g>\n<!-- 34&#45;&#45;35 -->\n<g id=\"edge110\" class=\"edge\">\n<title>34&#45;&#45;35</title>\n<path fill=\"none\" stroke=\"#000000\" d=\"M320.9668,-88.2255C311.2275,-72.8198 296.8723,-50.1124 287.1433,-34.723\"/>\n<text text-anchor=\"middle\" x=\"311.5713\" y=\"-57.8\" font-family=\"Times,serif\" font-size=\"14.00\" fill=\"#000000\">1</text>\n</g>\n</g>\n</svg>\n"
          },
          "metadata": {},
          "execution_count": 29
        }
      ]
    },
    {
      "cell_type": "markdown",
      "source": [
        "### Ejercicio 1 sem 2"
      ],
      "metadata": {
        "id": "vn-ZSEoc2_2f"
      }
    },
    {
      "cell_type": "code",
      "source": [
        "import random\n",
        "a = list(range(1,20))\n",
        "random.shuffle(a)\n",
        "print(a)"
      ],
      "metadata": {
        "colab": {
          "base_uri": "https://localhost:8080/"
        },
        "id": "hW96OCOu3FA2",
        "outputId": "befa8aec-f18e-4359-892c-aec07db349ed"
      },
      "execution_count": null,
      "outputs": [
        {
          "output_type": "stream",
          "name": "stdout",
          "text": [
            "[17, 10, 8, 4, 1, 16, 12, 19, 7, 13, 2, 14, 3, 9, 11, 5, 6, 15, 18]\n"
          ]
        }
      ]
    },
    {
      "cell_type": "code",
      "source": [
        "def Bubblesort(a):\n",
        "    n = len(a)\n",
        "\n",
        "    for i in range(n):\n",
        "        for j in range(0, n-i-1):\n",
        "            if a[j] > a[j+1]:\n",
        "                a[j], a[j+1] = a[j+1], a[j]\n",
        "    return a"
      ],
      "metadata": {
        "id": "wro2adZw37Nx"
      },
      "execution_count": null,
      "outputs": []
    },
    {
      "cell_type": "code",
      "source": [
        "b = Bubblesort(a)\n",
        "print(b)"
      ],
      "metadata": {
        "colab": {
          "base_uri": "https://localhost:8080/"
        },
        "id": "UagUkgQU4vQO",
        "outputId": "012927a3-e9f5-4a98-ba19-649cc89e5235"
      },
      "execution_count": null,
      "outputs": [
        {
          "output_type": "stream",
          "name": "stdout",
          "text": [
            "[1, 2, 3, 4, 5, 6, 7, 8, 9, 10, 11, 12, 13, 14, 15, 16, 17, 18, 19]\n"
          ]
        }
      ]
    },
    {
      "cell_type": "markdown",
      "source": [
        "### Ejercicio 2 sem 2"
      ],
      "metadata": {
        "id": "2TqmsOb18VfW"
      }
    },
    {
      "cell_type": "code",
      "source": [
        "def solve(x0, a: list):\n",
        "    res = 0.0\n",
        "    for i, ai in enumerate(reversed(a)):\n",
        "        res += ai * x0 ** i   # ** es potencia \n",
        "        print(f'f(x0) = {ai} x {x0} ^ {i}')             \n",
        "    return res\n",
        "solve(2, [10, 20, 0, 15, 5, 50])"
      ],
      "metadata": {
        "colab": {
          "base_uri": "https://localhost:8080/"
        },
        "id": "Ro4kIBo241Ek",
        "outputId": "2835a815-f099-425e-cbfd-abe4c157652e"
      },
      "execution_count": null,
      "outputs": [
        {
          "output_type": "stream",
          "name": "stdout",
          "text": [
            "f(x0) = 50 x 2 ^ 0\n",
            "f(x0) = 5 x 2 ^ 1\n",
            "f(x0) = 15 x 2 ^ 2\n",
            "f(x0) = 0 x 2 ^ 3\n",
            "f(x0) = 20 x 2 ^ 4\n",
            "f(x0) = 10 x 2 ^ 5\n"
          ]
        },
        {
          "output_type": "execute_result",
          "data": {
            "text/plain": [
              "760.0"
            ]
          },
          "metadata": {},
          "execution_count": 3
        }
      ]
    },
    {
      "cell_type": "markdown",
      "source": [
        "### Ejercicio 4 sem 2"
      ],
      "metadata": {
        "id": "A_WQMFdk9fX9"
      }
    },
    {
      "cell_type": "code",
      "source": [
        "def ida(bote, orilla, compras):\n",
        "    n = len(compras)\n",
        "    "
      ],
      "metadata": {
        "id": "EAqn_SWnozwm"
      },
      "execution_count": null,
      "outputs": []
    },
    {
      "cell_type": "code",
      "source": [
        "compras = [\"Cabra\", \"Lobo\", \"Col\"]\n",
        "bote = [\"Granjero\"]\n",
        "orilla = []\n",
        "solved = False\n",
        "cont = 0\n",
        "\n",
        "while not solved:\n",
        "    cont+=1\n",
        "    print(f'Iteración: {cont}')\n",
        "    print(f'Compras: {compras}')\n",
        "    print(f'bote: {bote}')\n",
        "    print(f'orilla: {orilla}')\n",
        "    if len(orilla) == 3:\n",
        "        solved = True\n",
        "    else:\n",
        "      for i in range(len(compras)):\n",
        "          if compras[i] == 'Cabra':\n",
        "              bote.append(compras[i])\n",
        "              compras.pop(i)\n",
        "              print(f'bote: {bote}')\n",
        "              orilla.append(bote[1])\n",
        "              bote.pop(1)\n",
        "              print(f'bote: {bote}')\n",
        "              print(f'orilla: {orilla}')\n",
        "              break\n",
        "          elif compras[i] == 'Lobo':\n",
        "              bote.append(compras[i])\n",
        "              compras.pop(i)\n",
        "              print(f'bote: {bote}')\n",
        "              orilla.append(bote[1])\n",
        "              bote.pop(1)\n",
        "              print(f'bote: {bote}')\n",
        "              print(f'orilla: {orilla}')\n",
        "              bote.append(orilla[0])\n",
        "              orilla.pop(0)\n",
        "              print(f'bote: {bote}')\n",
        "              print(f'orilla: {orilla}')\n",
        "              break\n",
        "          else:\n",
        "              compras.append(bote[1])\n",
        "              bote.pop(1)\n",
        "              print(f'bote: {bote}')\n",
        "              print(f'orilla: {orilla}')\n",
        "              bote.append(compras[i])\n",
        "              compras.pop(i)\n",
        "              orilla.append(bote[1])\n",
        "              bote.pop(1)\n",
        "              print(f'bote: {bote}')\n",
        "              print(f'orilla: {orilla}')\n",
        "              break\n",
        "         \n"
      ],
      "metadata": {
        "id": "hss86R-d8e8F",
        "colab": {
          "base_uri": "https://localhost:8080/"
        },
        "outputId": "08e0f18e-e34d-45de-d165-63912a639a08"
      },
      "execution_count": null,
      "outputs": [
        {
          "output_type": "stream",
          "name": "stdout",
          "text": [
            "Iteración: 1\n",
            "Compras: ['Cabra', 'Lobo', 'Col']\n",
            "bote: ['Granjero']\n",
            "orilla: []\n",
            "bote: ['Granjero', 'Cabra']\n",
            "bote: ['Granjero']\n",
            "orilla: ['Cabra']\n",
            "Iteración: 2\n",
            "Compras: ['Lobo', 'Col']\n",
            "bote: ['Granjero']\n",
            "orilla: ['Cabra']\n",
            "bote: ['Granjero', 'Lobo']\n",
            "bote: ['Granjero']\n",
            "orilla: ['Cabra', 'Lobo']\n",
            "bote: ['Granjero', 'Cabra']\n",
            "orilla: ['Lobo']\n",
            "Iteración: 3\n",
            "Compras: ['Col']\n",
            "bote: ['Granjero', 'Cabra']\n",
            "orilla: ['Lobo']\n",
            "bote: ['Granjero']\n",
            "orilla: ['Lobo']\n",
            "bote: ['Granjero']\n",
            "orilla: ['Lobo', 'Col']\n",
            "Iteración: 4\n",
            "Compras: ['Cabra']\n",
            "bote: ['Granjero']\n",
            "orilla: ['Lobo', 'Col']\n",
            "bote: ['Granjero', 'Cabra']\n",
            "bote: ['Granjero']\n",
            "orilla: ['Lobo', 'Col', 'Cabra']\n",
            "Iteración: 5\n",
            "Compras: []\n",
            "bote: ['Granjero']\n",
            "orilla: ['Lobo', 'Col', 'Cabra']\n"
          ]
        }
      ]
    },
    {
      "cell_type": "markdown",
      "source": [
        "### Quicksort"
      ],
      "metadata": {
        "id": "HnTQgNdo85St"
      }
    },
    {
      "cell_type": "code",
      "source": [
        "import random"
      ],
      "metadata": {
        "id": "2CypkXO-BdeV"
      },
      "execution_count": null,
      "outputs": []
    },
    {
      "cell_type": "code",
      "source": [
        "def particion(array):\n",
        "    n = len(array)\n",
        "    pivote = array[0]\n",
        "    izq = [] #Van los elementos menores\n",
        "    der = [] #Van los elementos mayores\n",
        "\n",
        "    for i in range(1, n):\n",
        "        if array[i] < pivote: #Si la pos actual es menor q el pivote\n",
        "            izq.append(array[i]) #Se agrega al arreglo de la izq (menores)\n",
        "        else:\n",
        "            der.append(array[i])\n",
        "    return izq, pivote, der\n",
        "\n",
        "def quick_sort(array):\n",
        "    if len(array) < 2:\n",
        "        return array\n",
        "    izq, pivote, der = particion(array)\n",
        "    return quick_sort(izq) +[pivote]+ quick_sort(der)\n",
        "\n",
        " \n",
        " \n",
        "array = [i+1 for i in range(100)] #Empieza de 1 hasta 100\n",
        "random.shuffle(array)\n",
        "print(f'Array: {array}')\n",
        "print(quick_sort(array))\n",
        "\n",
        "\n",
        "\n",
        " "
      ],
      "metadata": {
        "colab": {
          "base_uri": "https://localhost:8080/"
        },
        "id": "5K9LtPrgBBtv",
        "outputId": "8eb39fab-68a1-4098-b3d7-027a05c83741"
      },
      "execution_count": null,
      "outputs": [
        {
          "output_type": "stream",
          "name": "stdout",
          "text": [
            "Array: [91, 58, 37, 77, 47, 57, 3, 95, 33, 2, 7, 96, 51, 28, 81, 44, 76, 12, 24, 21, 93, 84, 94, 31, 14, 8, 86, 11, 69, 32, 83, 9, 36, 30, 46, 87, 17, 1, 54, 49, 82, 62, 43, 98, 29, 72, 34, 74, 26, 55, 97, 61, 79, 100, 39, 89, 53, 59, 50, 92, 67, 6, 15, 18, 80, 35, 71, 65, 10, 78, 4, 27, 70, 85, 23, 52, 20, 25, 16, 63, 41, 13, 88, 45, 60, 90, 66, 40, 64, 56, 22, 73, 99, 75, 38, 48, 42, 5, 68, 19]\n",
            "[1, 2, 3, 4, 5, 6, 7, 8, 9, 10, 11, 12, 13, 14, 15, 16, 17, 18, 19, 20, 21, 22, 23, 24, 25, 26, 27, 28, 29, 30, 31, 32, 33, 34, 35, 36, 37, 38, 39, 40, 41, 42, 43, 44, 45, 46, 47, 48, 49, 50, 51, 52, 53, 54, 55, 56, 57, 58, 59, 60, 61, 62, 63, 64, 65, 66, 67, 68, 69, 70, 71, 72, 73, 74, 75, 76, 77, 78, 79, 80, 81, 82, 83, 84, 85, 86, 87, 88, 89, 90, 91, 92, 93, 94, 95, 96, 97, 98, 99, 100]\n"
          ]
        }
      ]
    },
    {
      "cell_type": "code",
      "source": [
        "def particion(array):\n",
        "    n = len(array)\n",
        "    pivote = array[0]\n",
        "    izq = []\n",
        "    der = []\n",
        "\n",
        "    for i in range(1, n):\n",
        "        if array[i] < pivote:\n",
        "            izq.append(array[i])\n",
        "        else:\n",
        "            der.append(array[i])\n",
        "    return izq, pivote, der\n",
        "\n",
        "def quicksort(array):\n",
        "    if len(array) < 2:\n",
        "        return array\n",
        "    izq, pivote, der = particion(array)\n",
        "\n",
        "    return quicksort(izq) + [pivote] + quicksort(der)  \n",
        "\n",
        "array = [i+1 for i in range(100)]\n",
        "random.shuffle(array)\n",
        "print(f'Array: {array}')\n",
        "print(quicksort(array))"
      ],
      "metadata": {
        "id": "diafQMP3BG9a",
        "colab": {
          "base_uri": "https://localhost:8080/"
        },
        "outputId": "c2ebf3a3-a9b8-402a-f974-a5d051ed0a55"
      },
      "execution_count": null,
      "outputs": [
        {
          "output_type": "stream",
          "name": "stdout",
          "text": [
            "Array: [25, 64, 89, 95, 11, 79, 42, 36, 26, 49, 75, 9, 21, 5, 97, 98, 87, 53, 29, 55, 94, 72, 31, 37, 50, 41, 47, 4, 91, 60, 16, 85, 20, 83, 62, 78, 7, 39, 46, 10, 90, 14, 6, 30, 23, 68, 1, 100, 8, 69, 58, 67, 3, 28, 35, 66, 76, 82, 86, 52, 59, 44, 77, 19, 92, 93, 24, 70, 88, 81, 61, 48, 38, 57, 96, 12, 18, 45, 54, 73, 27, 74, 56, 2, 63, 71, 80, 15, 65, 17, 43, 13, 84, 51, 33, 22, 32, 34, 99, 40]\n",
            "[1, 2, 3, 4, 5, 6, 7, 8, 9, 10, 11, 12, 13, 14, 15, 16, 17, 18, 19, 20, 21, 22, 23, 24, 25, 26, 27, 28, 29, 30, 31, 32, 33, 34, 35, 36, 37, 38, 39, 40, 41, 42, 43, 44, 45, 46, 47, 48, 49, 50, 51, 52, 53, 54, 55, 56, 57, 58, 59, 60, 61, 62, 63, 64, 65, 66, 67, 68, 69, 70, 71, 72, 73, 74, 75, 76, 77, 78, 79, 80, 81, 82, 83, 84, 85, 86, 87, 88, 89, 90, 91, 92, 93, 94, 95, 96, 97, 98, 99, 100]\n"
          ]
        }
      ]
    },
    {
      "cell_type": "code",
      "source": [],
      "metadata": {
        "id": "cRtnMl4mMPcj"
      },
      "execution_count": null,
      "outputs": []
    },
    {
      "cell_type": "markdown",
      "source": [
        "### Grafos para la PC"
      ],
      "metadata": {
        "id": "cZUesDGuM3EJ"
      }
    },
    {
      "cell_type": "code",
      "source": [
        "import numpy as np\n",
        "import graphviz as gv\n",
        "import random\n",
        "\n",
        "list = [1 ,2,4]\n",
        "\n",
        "\n",
        "\n",
        "def randomAM(n, m): #    n = Número de vertices, m = Número de aristas\n",
        "    # 1 si indice es menor que número d aristas. \n",
        "    #Una vez completado el num de aristas se rellena con 0\n",
        "    g = np.array([random.randint(1, 9) if i < m else 0 for i in range(n*n)]) \n",
        "    #g = np.array([1 if i < m else 0 for i in range(n*n)])                                                    \n",
        "    np.random.shuffle(g)\n",
        "\n",
        "    return g.reshape((n,n))\n",
        "\n",
        "g = randomAM(5, 8)\n",
        "\n",
        "\n",
        "print(g)"
      ],
      "metadata": {
        "colab": {
          "base_uri": "https://localhost:8080/"
        },
        "id": "w_AG5z2lM5zB",
        "outputId": "7349994f-be38-4c41-8fd4-7a0f98ad511d"
      },
      "execution_count": null,
      "outputs": [
        {
          "output_type": "stream",
          "name": "stdout",
          "text": [
            "[[0 0 0 0 0]\n",
            " [0 7 0 0 3]\n",
            " [0 9 0 0 0]\n",
            " [4 5 0 0 0]\n",
            " [7 0 0 5 6]]\n"
          ]
        }
      ]
    },
    {
      "cell_type": "code",
      "source": [
        "Vertices = []\n",
        "for i in range(0,5):\n",
        "    Vertices.append(i)\n",
        "print(f'Vertices-> {Vertices}')\n",
        "def listaADY(n, m):\n",
        "    lst = []\n",
        "    for i in range(0, n):\n",
        "        lst.append([(random.randint(0, n-1)) for i in range(random.randint(1, n-2))])\n",
        "    return lst\n",
        "lst = listaADY(5, 8)\n",
        "\n",
        "for l in range(len(lst)):\n",
        "    print(f'{Vertices[l]} -> {lst[l]}')\n"
      ],
      "metadata": {
        "colab": {
          "base_uri": "https://localhost:8080/"
        },
        "id": "U8Rmm0KedIPy",
        "outputId": "9d5f2cca-b687-4bad-9a6f-98504e9ec8af"
      },
      "execution_count": null,
      "outputs": [
        {
          "output_type": "stream",
          "name": "stdout",
          "text": [
            "Vertices-> [0, 1, 2, 3, 4]\n",
            "0 -> [1]\n",
            "1 -> [4, 0, 1]\n",
            "2 -> [3, 3, 3]\n",
            "3 -> [0, 2, 2]\n",
            "4 -> [3, 2, 2]\n"
          ]
        }
      ]
    },
    {
      "cell_type": "code",
      "source": [
        "Grafo = gv.Digraph(\"Grafo proof\")\n",
        "\n",
        "for u in range(len(lst)):\n",
        "    Grafo.node(str(u), str(Vertices[u]))\n",
        "\n",
        "for u in range(len(lst)):\n",
        "  for v in lst[u]:\n",
        "    Grafo.edge(str(u), str(v))\n",
        "\n",
        "print(Grafo)\n",
        "\n",
        "Grafo"
      ],
      "metadata": {
        "id": "IqwwjWQenAVP",
        "colab": {
          "base_uri": "https://localhost:8080/",
          "height": 811
        },
        "outputId": "964d6751-e481-4ed2-a54a-3c76469fe7fe"
      },
      "execution_count": null,
      "outputs": [
        {
          "output_type": "stream",
          "name": "stdout",
          "text": [
            "digraph \"Grafo proof\" {\n",
            "\t0 [label=0]\n",
            "\t1 [label=1]\n",
            "\t2 [label=2]\n",
            "\t3 [label=3]\n",
            "\t4 [label=4]\n",
            "\t0 -> 1\n",
            "\t1 -> 4\n",
            "\t1 -> 0\n",
            "\t1 -> 1\n",
            "\t2 -> 3\n",
            "\t2 -> 3\n",
            "\t2 -> 3\n",
            "\t3 -> 0\n",
            "\t3 -> 2\n",
            "\t3 -> 2\n",
            "\t4 -> 3\n",
            "\t4 -> 2\n",
            "\t4 -> 2\n",
            "}\n"
          ]
        },
        {
          "output_type": "execute_result",
          "data": {
            "text/plain": [
              "<graphviz.dot.Digraph at 0x7f91b53f3bd0>"
            ],
            "image/svg+xml": "<?xml version=\"1.0\" encoding=\"UTF-8\" standalone=\"no\"?>\n<!DOCTYPE svg PUBLIC \"-//W3C//DTD SVG 1.1//EN\"\n \"http://www.w3.org/Graphics/SVG/1.1/DTD/svg11.dtd\">\n<!-- Generated by graphviz version 2.40.1 (20161225.0304)\n -->\n<!-- Title: Grafo proof Pages: 1 -->\n<svg width=\"108pt\" height=\"332pt\"\n viewBox=\"0.00 0.00 107.73 332.00\" xmlns=\"http://www.w3.org/2000/svg\" xmlns:xlink=\"http://www.w3.org/1999/xlink\">\n<g id=\"graph0\" class=\"graph\" transform=\"scale(1 1) rotate(0) translate(4 328)\">\n<title>Grafo proof</title>\n<polygon fill=\"#ffffff\" stroke=\"transparent\" points=\"-4,4 -4,-328 103.7296,-328 103.7296,4 -4,4\"/>\n<!-- 0 -->\n<g id=\"node1\" class=\"node\">\n<title>0</title>\n<ellipse fill=\"none\" stroke=\"#000000\" cx=\"42.4196\" cy=\"-306\" rx=\"27\" ry=\"18\"/>\n<text text-anchor=\"middle\" x=\"42.4196\" y=\"-302.3\" font-family=\"Times,serif\" font-size=\"14.00\" fill=\"#000000\">0</text>\n</g>\n<!-- 1 -->\n<g id=\"node2\" class=\"node\">\n<title>1</title>\n<ellipse fill=\"none\" stroke=\"#000000\" cx=\"42.4196\" cy=\"-234\" rx=\"27\" ry=\"18\"/>\n<text text-anchor=\"middle\" x=\"42.4196\" y=\"-230.3\" font-family=\"Times,serif\" font-size=\"14.00\" fill=\"#000000\">1</text>\n</g>\n<!-- 0&#45;&gt;1 -->\n<g id=\"edge1\" class=\"edge\">\n<title>0&#45;&gt;1</title>\n<path fill=\"none\" stroke=\"#000000\" d=\"M36.5039,-288.2022C35.6994,-280.1807 35.4768,-270.5231 35.8358,-261.5957\"/>\n<polygon fill=\"#000000\" stroke=\"#000000\" points=\"39.3293,-261.8099 36.5246,-251.593 32.3458,-261.3289 39.3293,-261.8099\"/>\n</g>\n<!-- 1&#45;&gt;0 -->\n<g id=\"edge3\" class=\"edge\">\n<title>1&#45;&gt;0</title>\n<path fill=\"none\" stroke=\"#000000\" d=\"M48.3146,-251.593C49.129,-259.5865 49.3616,-269.2363 49.0124,-278.1759\"/>\n<polygon fill=\"#000000\" stroke=\"#000000\" points=\"45.5172,-277.9891 48.3353,-288.2022 52.5013,-278.4608 45.5172,-277.9891\"/>\n</g>\n<!-- 1&#45;&gt;1 -->\n<g id=\"edge4\" class=\"edge\">\n<title>1&#45;&gt;1</title>\n<path fill=\"none\" stroke=\"#000000\" d=\"M62.3146,-246.4321C75.1076,-249.6753 87.4196,-245.5313 87.4196,-234 87.4196,-225.6218 80.9202,-221.1433 72.4591,-220.5644\"/>\n<polygon fill=\"#000000\" stroke=\"#000000\" points=\"71.9215,-217.1004 62.3146,-221.5679 72.6106,-224.0665 71.9215,-217.1004\"/>\n</g>\n<!-- 4 -->\n<g id=\"node5\" class=\"node\">\n<title>4</title>\n<ellipse fill=\"none\" stroke=\"#000000\" cx=\"32.4196\" cy=\"-162\" rx=\"27\" ry=\"18\"/>\n<text text-anchor=\"middle\" x=\"32.4196\" y=\"-158.3\" font-family=\"Times,serif\" font-size=\"14.00\" fill=\"#000000\">4</text>\n</g>\n<!-- 1&#45;&gt;4 -->\n<g id=\"edge2\" class=\"edge\">\n<title>1&#45;&gt;4</title>\n<path fill=\"none\" stroke=\"#000000\" d=\"M39.8962,-215.8314C38.8267,-208.131 37.5549,-198.9743 36.3664,-190.4166\"/>\n<polygon fill=\"#000000\" stroke=\"#000000\" points=\"39.8195,-189.8367 34.977,-180.4133 32.8861,-190.7997 39.8195,-189.8367\"/>\n</g>\n<!-- 2 -->\n<g id=\"node3\" class=\"node\">\n<title>2</title>\n<ellipse fill=\"none\" stroke=\"#000000\" cx=\"27.4196\" cy=\"-90\" rx=\"27\" ry=\"18\"/>\n<text text-anchor=\"middle\" x=\"27.4196\" y=\"-86.3\" font-family=\"Times,serif\" font-size=\"14.00\" fill=\"#000000\">2</text>\n</g>\n<!-- 3 -->\n<g id=\"node4\" class=\"node\">\n<title>3</title>\n<ellipse fill=\"none\" stroke=\"#000000\" cx=\"27.4196\" cy=\"-18\" rx=\"27\" ry=\"18\"/>\n<text text-anchor=\"middle\" x=\"27.4196\" y=\"-14.3\" font-family=\"Times,serif\" font-size=\"14.00\" fill=\"#000000\">3</text>\n</g>\n<!-- 2&#45;&gt;3 -->\n<g id=\"edge5\" class=\"edge\">\n<title>2&#45;&gt;3</title>\n<path fill=\"none\" stroke=\"#000000\" d=\"M6.7543,-78.1107C.1325,-67.6473 -1.2979,-52.1546 2.4632,-39.5185\"/>\n<polygon fill=\"#000000\" stroke=\"#000000\" points=\"5.7629,-40.71 6.5925,-30.1477 -.6428,-37.8872 5.7629,-40.71\"/>\n</g>\n<!-- 2&#45;&gt;3 -->\n<g id=\"edge6\" class=\"edge\">\n<title>2&#45;&gt;3</title>\n<path fill=\"none\" stroke=\"#000000\" d=\"M15.898,-73.6621C13.9846,-65.1306 13.4591,-54.474 14.3215,-44.7753\"/>\n<polygon fill=\"#000000\" stroke=\"#000000\" points=\"17.8,-45.1776 15.802,-34.7729 10.8754,-44.1526 17.8,-45.1776\"/>\n</g>\n<!-- 2&#45;&gt;3 -->\n<g id=\"edge7\" class=\"edge\">\n<title>2&#45;&gt;3</title>\n<path fill=\"none\" stroke=\"#000000\" d=\"M27.4196,-71.8314C27.4196,-64.131 27.4196,-54.9743 27.4196,-46.4166\"/>\n<polygon fill=\"#000000\" stroke=\"#000000\" points=\"30.9197,-46.4132 27.4196,-36.4133 23.9197,-46.4133 30.9197,-46.4132\"/>\n</g>\n<!-- 3&#45;&gt;0 -->\n<g id=\"edge8\" class=\"edge\">\n<title>3&#45;&gt;0</title>\n<path fill=\"none\" stroke=\"#000000\" d=\"M45.6019,-32.0157C57.0142,-41.8885 70.9403,-56.1374 78.4196,-72 105.9266,-130.3384 92.4119,-151.6266 96.4196,-216 97.4138,-231.9691 102.5425,-237.2179 96.4196,-252 90.7997,-265.5677 79.9336,-277.5039 69.4133,-286.6804\"/>\n<polygon fill=\"#000000\" stroke=\"#000000\" points=\"67.0452,-284.0958 61.5284,-293.141 71.4818,-289.5104 67.0452,-284.0958\"/>\n</g>\n<!-- 3&#45;&gt;2 -->\n<g id=\"edge9\" class=\"edge\">\n<title>3&#45;&gt;2</title>\n<path fill=\"none\" stroke=\"#000000\" d=\"M39.0372,-34.7729C40.9036,-43.3754 41.3821,-54.0509 40.4727,-63.7164\"/>\n<polygon fill=\"#000000\" stroke=\"#000000\" points=\"37.004,-63.2459 38.9412,-73.6621 43.9225,-64.3113 37.004,-63.2459\"/>\n</g>\n<!-- 3&#45;&gt;2 -->\n<g id=\"edge10\" class=\"edge\">\n<title>3&#45;&gt;2</title>\n<path fill=\"none\" stroke=\"#000000\" d=\"M48.2467,-30.1477C54.7834,-40.693 56.1287,-56.2029 52.2825,-68.7916\"/>\n<polygon fill=\"#000000\" stroke=\"#000000\" points=\"49.0006,-67.5555 48.0849,-78.1107 55.3831,-70.4303 49.0006,-67.5555\"/>\n</g>\n<!-- 4&#45;&gt;2 -->\n<g id=\"edge12\" class=\"edge\">\n<title>4&#45;&gt;2</title>\n<path fill=\"none\" stroke=\"#000000\" d=\"M25.331,-144.5708C23.9472,-136.5541 23.0344,-126.8454 22.7599,-117.8526\"/>\n<polygon fill=\"#000000\" stroke=\"#000000\" points=\"26.2598,-117.7622 22.7407,-107.7689 19.2598,-117.7755 26.2598,-117.7622\"/>\n</g>\n<!-- 4&#45;&gt;2 -->\n<g id=\"edge13\" class=\"edge\">\n<title>4&#45;&gt;2</title>\n<path fill=\"none\" stroke=\"#000000\" d=\"M37.0994,-144.2022C37.3468,-136.1807 36.8988,-126.5231 35.9198,-117.5957\"/>\n<polygon fill=\"#000000\" stroke=\"#000000\" points=\"39.3734,-117.0192 34.5364,-107.593 32.4394,-117.9783 39.3734,-117.0192\"/>\n</g>\n<!-- 4&#45;&gt;3 -->\n<g id=\"edge11\" class=\"edge\">\n<title>4&#45;&gt;3</title>\n<path fill=\"none\" stroke=\"#000000\" d=\"M44.9252,-145.501C51.8616,-135.2916 59.7991,-121.5786 63.4196,-108 67.5417,-92.5401 68.0562,-87.3135 63.4196,-72 60.1535,-61.2127 53.9432,-50.6108 47.5883,-41.6963\"/>\n<polygon fill=\"#000000\" stroke=\"#000000\" points=\"50.3709,-39.5732 41.5426,-33.7156 44.7911,-43.8001 50.3709,-39.5732\"/>\n</g>\n</g>\n</svg>\n"
          },
          "metadata": {},
          "execution_count": 22
        }
      ]
    },
    {
      "cell_type": "code",
      "source": [],
      "metadata": {
        "id": "iOWIoFFrc7CR"
      },
      "execution_count": null,
      "outputs": []
    },
    {
      "cell_type": "markdown",
      "source": [
        "### Ordenamiento topológico "
      ],
      "metadata": {
        "id": "DMTtijhiSwXR"
      }
    },
    {
      "cell_type": "code",
      "source": [
        "def topsort(G):\n",
        "    n = len(G)\n",
        "    visited = [False]*n\n",
        "    t = []\n",
        "\n",
        "    def dfs(u):\n",
        "        visited[u] = True\n",
        "        for v in G[u]:\n",
        "            if not visited[v]:\n",
        "                dfs(v)\n",
        "        t.insert(0, u)\n",
        "    for u in range(n):\n",
        "        if not visited[u]:\n",
        "            dfs(u)\n",
        "    return t"
      ],
      "metadata": {
        "id": "IWJ6BxYnS3N0"
      },
      "execution_count": null,
      "outputs": []
    },
    {
      "cell_type": "code",
      "source": [
        "%%file 1.in\n",
        "2 3\n",
        "2 3\n",
        "5 6\n",
        "7\n",
        "6\n",
        "-\n",
        "7\n",
        "-"
      ],
      "metadata": {
        "colab": {
          "base_uri": "https://localhost:8080/"
        },
        "id": "chxHZLZAUSq6",
        "outputId": "6fda001d-a305-4d62-f285-af779639687e"
      },
      "execution_count": null,
      "outputs": [
        {
          "output_type": "stream",
          "name": "stdout",
          "text": [
            "Overwriting 1.in\n"
          ]
        }
      ]
    },
    {
      "cell_type": "code",
      "source": [
        "with open('1.in') as f:\n",
        "    G = []\n",
        "    for line in f:\n",
        "        if line.startswith('-'):\n",
        "            G.append([])\n",
        "        else: \n",
        "            G.append([int(x) for x in line.split()])\n",
        "print(G)\n",
        "#topsort(G)"
      ],
      "metadata": {
        "colab": {
          "base_uri": "https://localhost:8080/"
        },
        "id": "tiQ7npuYUZmo",
        "outputId": "7de3b5b0-edf6-48b4-e62e-7e00740c5496"
      },
      "execution_count": null,
      "outputs": [
        {
          "output_type": "stream",
          "name": "stdout",
          "text": [
            "[[3, 2], [1, 2], [2, 3], [10, 12], [1, 2], [3, 1], [3, 4], [5, 4], [3, 5], [4, 6], [5, 2], [2, 1], [7, 1], [1, 2], [9, 10], [8, 9]]\n"
          ]
        }
      ]
    },
    {
      "cell_type": "markdown",
      "source": [
        "### Recuperación semana parcial"
      ],
      "metadata": {
        "id": "v_8EF-BR1yvc"
      }
    },
    {
      "cell_type": "markdown",
      "source": [
        "Primer ejercicio"
      ],
      "metadata": {
        "id": "H9NRtcVd4nhu"
      }
    },
    {
      "cell_type": "code",
      "source": [
        "import random\n",
        "\n",
        "def randomMatrixAdjency(n, m): #n vertices m aristas\n",
        "    G = [None for _ in range(n)]\n",
        "    numEdges = [0]*n\n",
        "    for _ in range(m):\n",
        "      numEdges[random.randint(0, n-1)] += 1\n",
        "    vertices = [i for i in range(n)]\n",
        "    random.shuffle(vertices)\n",
        "    for u in range(n):\n",
        "      G[u] = random.sample(vertices, numEdges[u])\n",
        "    return G"
      ],
      "metadata": {
        "id": "NkrfuK_h121_"
      },
      "execution_count": null,
      "outputs": []
    },
    {
      "cell_type": "code",
      "source": [
        "G = randomMatrixAdjency(10, 20)\n",
        "for l in G:\n",
        "  print(l)"
      ],
      "metadata": {
        "colab": {
          "base_uri": "https://localhost:8080/"
        },
        "id": "V4GcOqjP4AqF",
        "outputId": "ead399a4-c2ac-4d6d-bd48-ef83b1767537"
      },
      "execution_count": null,
      "outputs": [
        {
          "output_type": "stream",
          "name": "stdout",
          "text": [
            "[]\n",
            "[2]\n",
            "[2]\n",
            "[0, 3, 2, 5]\n",
            "[3, 9]\n",
            "[]\n",
            "[2, 7, 9, 1]\n",
            "[3, 2]\n",
            "[9, 1, 4, 8]\n",
            "[6, 3]\n"
          ]
        }
      ]
    },
    {
      "cell_type": "markdown",
      "source": [
        "Primer ejercicio con numpy"
      ],
      "metadata": {
        "id": "FGvlFmRr4qev"
      }
    },
    {
      "cell_type": "code",
      "source": [
        "import numpy as np"
      ],
      "metadata": {
        "id": "AD2xWurT4e1p"
      },
      "execution_count": null,
      "outputs": []
    },
    {
      "cell_type": "code",
      "source": [
        "def randomAM(n, m):\n",
        "  G = np.zeros((n*n), dtype = int)\n",
        "  G[:m] = 1\n",
        "  random.shuffle(G)\n",
        "  return G.reshape((n*n))\n"
      ],
      "metadata": {
        "id": "aFlP3RNV4vwP"
      },
      "execution_count": null,
      "outputs": []
    },
    {
      "cell_type": "code",
      "source": [
        "print(randomAM(10, 20))"
      ],
      "metadata": {
        "colab": {
          "base_uri": "https://localhost:8080/"
        },
        "id": "NR6vIcDZ5AWC",
        "outputId": "e7c524d3-4da9-4988-ac20-d2e6d1bbf51e"
      },
      "execution_count": null,
      "outputs": [
        {
          "output_type": "stream",
          "name": "stdout",
          "text": [
            "[0 0 0 0 0 0 0 0 0 0 1 0 0 0 0 1 0 0 0 0 0 0 0 0 1 0 0 0 1 0 0 0 0 0 0 1 0\n",
            " 0 1 0 0 0 0 1 0 0 0 0 0 0 1 0 0 0 1 0 1 0 0 0 0 1 0 0 0 0 0 0 0 0 0 0 1 0\n",
            " 0 0 1 0 0 0 0 0 1 0 0 0 0 1 0 1 0 0 1 1 1 0 0 0 0 1]\n"
          ]
        }
      ]
    },
    {
      "cell_type": "markdown",
      "source": [
        "### PARCIAL PREGUNTA 1"
      ],
      "metadata": {
        "id": "gqLZ4I8_-maY"
      }
    },
    {
      "cell_type": "code",
      "source": [
        "%%file 1.in\n",
        "10 12\n",
        "1 2\n",
        "3 1\n",
        "3 4\n",
        "5 4\n",
        "3 5\n",
        "4 6\n",
        "5 2\n",
        "2 1\n",
        "7 1\n",
        "1 2\n",
        "9 10\n",
        "8 9"
      ],
      "metadata": {
        "colab": {
          "base_uri": "https://localhost:8080/"
        },
        "id": "PsUVrbpb-qyI",
        "outputId": "0a9eaa64-db63-4a9e-f302-c89fa5d12037"
      },
      "execution_count": null,
      "outputs": [
        {
          "output_type": "stream",
          "name": "stdout",
          "text": [
            "Overwriting 1.in\n"
          ]
        }
      ]
    },
    {
      "cell_type": "code",
      "source": [
        "with open('1.in') as f:\n",
        "    g = []\n",
        "    for line in f:\n",
        "        if line.startswith('-'):\n",
        "            g.append([])\n",
        "        else: \n",
        "            g.append([int(x) for x in line.split()])\n",
        "print(g)"
      ],
      "metadata": {
        "colab": {
          "base_uri": "https://localhost:8080/"
        },
        "id": "ZFuvlXiY-7m4",
        "outputId": "7aa25864-8a8a-4dcd-98bc-3b2d8a40c7cb"
      },
      "execution_count": null,
      "outputs": [
        {
          "output_type": "stream",
          "name": "stdout",
          "text": [
            "[[10, 12], [1, 2], [3, 1], [3, 4], [5, 4], [3, 5], [4, 6], [5, 2], [2, 1], [7, 1], [1, 2], [9, 10], [8, 9]]\n"
          ]
        }
      ]
    },
    {
      "cell_type": "code",
      "source": [
        "import graphviz as gv\n",
        "n = len(g)\n",
        "#for u in range(n):\n",
        " #   print(f\"{u} -> {g[u]}\")\n",
        "\n",
        "\n",
        "\n",
        "G = gv.Digraph(\"grafazo\") #Se crea el grafo\n",
        "for i in range(1,n):#i son los nodos\n",
        "    G.node(str(i)) #Se agregan los nodos al grafo\n",
        "    for j in g[i]: #Se recorre lo que está dentro de cada elemento del arragelo (En este caso son los nodos a los q se apuntan) \n",
        "        G.edge(str(i), str(j)) #Se colocan las aristas, nodo origen (i) y nodo destino (j)\n",
        "\n",
        "print(G) #Se imprime la relación del grafo\n",
        "G #Se dibuja el grafo"
      ],
      "metadata": {
        "colab": {
          "base_uri": "https://localhost:8080/",
          "height": 1000
        },
        "id": "CsnjUIvx-e65",
        "outputId": "4d65eba8-f072-490a-93de-637df66acdb6"
      },
      "execution_count": null,
      "outputs": [
        {
          "output_type": "stream",
          "name": "stdout",
          "text": [
            "digraph grafazo {\n",
            "\t1\n",
            "\t1 -> 1\n",
            "\t1 -> 2\n",
            "\t2\n",
            "\t2 -> 3\n",
            "\t2 -> 1\n",
            "\t3\n",
            "\t3 -> 3\n",
            "\t3 -> 4\n",
            "\t4\n",
            "\t4 -> 5\n",
            "\t4 -> 4\n",
            "\t5\n",
            "\t5 -> 3\n",
            "\t5 -> 5\n",
            "\t6\n",
            "\t6 -> 4\n",
            "\t6 -> 6\n",
            "\t7\n",
            "\t7 -> 5\n",
            "\t7 -> 2\n",
            "\t8\n",
            "\t8 -> 2\n",
            "\t8 -> 1\n",
            "\t9\n",
            "\t9 -> 7\n",
            "\t9 -> 1\n",
            "\t10\n",
            "\t10 -> 1\n",
            "\t10 -> 2\n",
            "\t11\n",
            "\t11 -> 9\n",
            "\t11 -> 10\n",
            "\t12\n",
            "\t12 -> 8\n",
            "\t12 -> 9\n",
            "}\n"
          ]
        },
        {
          "output_type": "execute_result",
          "data": {
            "text/plain": [
              "<graphviz.dot.Digraph at 0x7ff53605fa50>"
            ],
            "image/svg+xml": "<?xml version=\"1.0\" encoding=\"UTF-8\" standalone=\"no\"?>\n<!DOCTYPE svg PUBLIC \"-//W3C//DTD SVG 1.1//EN\"\n \"http://www.w3.org/Graphics/SVG/1.1/DTD/svg11.dtd\">\n<!-- Generated by graphviz version 2.40.1 (20161225.0304)\n -->\n<!-- Title: grafazo Pages: 1 -->\n<svg width=\"262pt\" height=\"476pt\"\n viewBox=\"0.00 0.00 262.00 476.00\" xmlns=\"http://www.w3.org/2000/svg\" xmlns:xlink=\"http://www.w3.org/1999/xlink\">\n<g id=\"graph0\" class=\"graph\" transform=\"scale(1 1) rotate(0) translate(4 472)\">\n<title>grafazo</title>\n<polygon fill=\"#ffffff\" stroke=\"transparent\" points=\"-4,4 -4,-472 258,-472 258,4 -4,4\"/>\n<!-- 1 -->\n<g id=\"node1\" class=\"node\">\n<title>1</title>\n<ellipse fill=\"none\" stroke=\"#000000\" cx=\"111\" cy=\"-306\" rx=\"27\" ry=\"18\"/>\n<text text-anchor=\"middle\" x=\"111\" y=\"-302.3\" font-family=\"Times,serif\" font-size=\"14.00\" fill=\"#000000\">1</text>\n</g>\n<!-- 1&#45;&gt;1 -->\n<g id=\"edge1\" class=\"edge\">\n<title>1&#45;&gt;1</title>\n<path fill=\"none\" stroke=\"#000000\" d=\"M130.895,-318.4321C143.688,-321.6753 156,-317.5313 156,-306 156,-297.6218 149.5006,-293.1433 141.0395,-292.5644\"/>\n<polygon fill=\"#000000\" stroke=\"#000000\" points=\"140.5019,-289.1004 130.895,-293.5679 141.191,-296.0665 140.5019,-289.1004\"/>\n</g>\n<!-- 2 -->\n<g id=\"node2\" class=\"node\">\n<title>2</title>\n<ellipse fill=\"none\" stroke=\"#000000\" cx=\"115\" cy=\"-234\" rx=\"27\" ry=\"18\"/>\n<text text-anchor=\"middle\" x=\"115\" y=\"-230.3\" font-family=\"Times,serif\" font-size=\"14.00\" fill=\"#000000\">2</text>\n</g>\n<!-- 1&#45;&gt;2 -->\n<g id=\"edge2\" class=\"edge\">\n<title>1&#45;&gt;2</title>\n<path fill=\"none\" stroke=\"#000000\" d=\"M106.073,-288.2022C105.7142,-280.1807 106.0281,-270.5231 106.8831,-261.5957\"/>\n<polygon fill=\"#000000\" stroke=\"#000000\" points=\"110.3661,-261.9487 108.1276,-251.593 103.4197,-261.0844 110.3661,-261.9487\"/>\n</g>\n<!-- 2&#45;&gt;1 -->\n<g id=\"edge4\" class=\"edge\">\n<title>2&#45;&gt;1</title>\n<path fill=\"none\" stroke=\"#000000\" d=\"M119.9257,-251.7689C120.2882,-259.8328 119.9701,-269.5547 119.1051,-278.5269\"/>\n<polygon fill=\"#000000\" stroke=\"#000000\" points=\"115.6171,-278.2132 117.8465,-288.5708 122.5628,-279.0836 115.6171,-278.2132\"/>\n</g>\n<!-- 3 -->\n<g id=\"node3\" class=\"node\">\n<title>3</title>\n<ellipse fill=\"none\" stroke=\"#000000\" cx=\"117\" cy=\"-162\" rx=\"27\" ry=\"18\"/>\n<text text-anchor=\"middle\" x=\"117\" y=\"-158.3\" font-family=\"Times,serif\" font-size=\"14.00\" fill=\"#000000\">3</text>\n</g>\n<!-- 2&#45;&gt;3 -->\n<g id=\"edge3\" class=\"edge\">\n<title>2&#45;&gt;3</title>\n<path fill=\"none\" stroke=\"#000000\" d=\"M115.5047,-215.8314C115.7186,-208.131 115.9729,-198.9743 116.2106,-190.4166\"/>\n<polygon fill=\"#000000\" stroke=\"#000000\" points=\"119.7094,-190.5066 116.4885,-180.4133 112.7121,-190.3122 119.7094,-190.5066\"/>\n</g>\n<!-- 3&#45;&gt;3 -->\n<g id=\"edge5\" class=\"edge\">\n<title>3&#45;&gt;3</title>\n<path fill=\"none\" stroke=\"#000000\" d=\"M136.895,-174.4321C149.688,-177.6753 162,-173.5313 162,-162 162,-153.6218 155.5006,-149.1433 147.0395,-148.5644\"/>\n<polygon fill=\"#000000\" stroke=\"#000000\" points=\"146.5019,-145.1004 136.895,-149.5679 147.191,-152.0665 146.5019,-145.1004\"/>\n</g>\n<!-- 4 -->\n<g id=\"node4\" class=\"node\">\n<title>4</title>\n<ellipse fill=\"none\" stroke=\"#000000\" cx=\"66\" cy=\"-90\" rx=\"27\" ry=\"18\"/>\n<text text-anchor=\"middle\" x=\"66\" y=\"-86.3\" font-family=\"Times,serif\" font-size=\"14.00\" fill=\"#000000\">4</text>\n</g>\n<!-- 3&#45;&gt;4 -->\n<g id=\"edge6\" class=\"edge\">\n<title>3&#45;&gt;4</title>\n<path fill=\"none\" stroke=\"#000000\" d=\"M105.4273,-145.6621C99.0628,-136.6768 91.0285,-125.3343 83.8756,-115.2362\"/>\n<polygon fill=\"#000000\" stroke=\"#000000\" points=\"86.5171,-112.9101 77.8808,-106.7729 80.8049,-116.9562 86.5171,-112.9101\"/>\n</g>\n<!-- 4&#45;&gt;4 -->\n<g id=\"edge8\" class=\"edge\">\n<title>4&#45;&gt;4</title>\n<path fill=\"none\" stroke=\"#000000\" d=\"M85.895,-102.4321C98.688,-105.6753 111,-101.5313 111,-90 111,-81.6218 104.5006,-77.1433 96.0395,-76.5644\"/>\n<polygon fill=\"#000000\" stroke=\"#000000\" points=\"95.5019,-73.1004 85.895,-77.5679 96.191,-80.0665 95.5019,-73.1004\"/>\n</g>\n<!-- 5 -->\n<g id=\"node5\" class=\"node\">\n<title>5</title>\n<ellipse fill=\"none\" stroke=\"#000000\" cx=\"139\" cy=\"-18\" rx=\"27\" ry=\"18\"/>\n<text text-anchor=\"middle\" x=\"139\" y=\"-14.3\" font-family=\"Times,serif\" font-size=\"14.00\" fill=\"#000000\">5</text>\n</g>\n<!-- 4&#45;&gt;5 -->\n<g id=\"edge7\" class=\"edge\">\n<title>4&#45;&gt;5</title>\n<path fill=\"none\" stroke=\"#000000\" d=\"M81.1256,-75.0816C91.3345,-65.0125 104.9878,-51.5463 116.4693,-40.2221\"/>\n<polygon fill=\"#000000\" stroke=\"#000000\" points=\"118.9806,-42.6611 123.6426,-33.147 114.0651,-37.6773 118.9806,-42.6611\"/>\n</g>\n<!-- 5&#45;&gt;3 -->\n<g id=\"edge9\" class=\"edge\">\n<title>5&#45;&gt;3</title>\n<path fill=\"none\" stroke=\"#000000\" d=\"M136.2236,-36.1727C132.467,-60.7613 125.7281,-104.8705 121.3103,-133.7871\"/>\n<polygon fill=\"#000000\" stroke=\"#000000\" points=\"117.7923,-133.6395 119.7418,-144.0535 124.712,-134.6968 117.7923,-133.6395\"/>\n</g>\n<!-- 5&#45;&gt;5 -->\n<g id=\"edge10\" class=\"edge\">\n<title>5&#45;&gt;5</title>\n<path fill=\"none\" stroke=\"#000000\" d=\"M158.895,-30.4321C171.688,-33.6753 184,-29.5313 184,-18 184,-9.6218 177.5006,-5.1433 169.0395,-4.5644\"/>\n<polygon fill=\"#000000\" stroke=\"#000000\" points=\"168.5019,-1.1004 158.895,-5.5679 169.191,-8.0665 168.5019,-1.1004\"/>\n</g>\n<!-- 6 -->\n<g id=\"node6\" class=\"node\">\n<title>6</title>\n<ellipse fill=\"none\" stroke=\"#000000\" cx=\"27\" cy=\"-162\" rx=\"27\" ry=\"18\"/>\n<text text-anchor=\"middle\" x=\"27\" y=\"-158.3\" font-family=\"Times,serif\" font-size=\"14.00\" fill=\"#000000\">6</text>\n</g>\n<!-- 6&#45;&gt;4 -->\n<g id=\"edge11\" class=\"edge\">\n<title>6&#45;&gt;4</title>\n<path fill=\"none\" stroke=\"#000000\" d=\"M36.2425,-144.937C40.9537,-136.2393 46.7817,-125.4799 52.0278,-115.7948\"/>\n<polygon fill=\"#000000\" stroke=\"#000000\" points=\"55.1385,-117.4005 56.8239,-106.9405 48.9835,-114.0664 55.1385,-117.4005\"/>\n</g>\n<!-- 6&#45;&gt;6 -->\n<g id=\"edge12\" class=\"edge\">\n<title>6&#45;&gt;6</title>\n<path fill=\"none\" stroke=\"#000000\" d=\"M46.895,-174.4321C59.688,-177.6753 72,-173.5313 72,-162 72,-153.6218 65.5006,-149.1433 57.0395,-148.5644\"/>\n<polygon fill=\"#000000\" stroke=\"#000000\" points=\"56.5019,-145.1004 46.895,-149.5679 57.191,-152.0665 56.5019,-145.1004\"/>\n</g>\n<!-- 7 -->\n<g id=\"node7\" class=\"node\">\n<title>7</title>\n<ellipse fill=\"none\" stroke=\"#000000\" cx=\"201\" cy=\"-306\" rx=\"27\" ry=\"18\"/>\n<text text-anchor=\"middle\" x=\"201\" y=\"-302.3\" font-family=\"Times,serif\" font-size=\"14.00\" fill=\"#000000\">7</text>\n</g>\n<!-- 7&#45;&gt;2 -->\n<g id=\"edge14\" class=\"edge\">\n<title>7&#45;&gt;2</title>\n<path fill=\"none\" stroke=\"#000000\" d=\"M184.0092,-291.7751C171.4058,-281.2234 154.0272,-266.674 139.8632,-254.8157\"/>\n<polygon fill=\"#000000\" stroke=\"#000000\" points=\"141.8699,-251.9311 131.9555,-248.1953 137.3763,-257.2984 141.8699,-251.9311\"/>\n</g>\n<!-- 7&#45;&gt;5 -->\n<g id=\"edge13\" class=\"edge\">\n<title>7&#45;&gt;5</title>\n<path fill=\"none\" stroke=\"#000000\" d=\"M198.0541,-287.943C193.07,-257.938 182.3978,-195.9667 171,-144 163.5205,-109.8985 153.3963,-71.0039 146.5543,-45.5597\"/>\n<polygon fill=\"#000000\" stroke=\"#000000\" points=\"149.9193,-44.5951 143.9287,-35.8565 143.1622,-46.4235 149.9193,-44.5951\"/>\n</g>\n<!-- 8 -->\n<g id=\"node8\" class=\"node\">\n<title>8</title>\n<ellipse fill=\"none\" stroke=\"#000000\" cx=\"83\" cy=\"-378\" rx=\"27\" ry=\"18\"/>\n<text text-anchor=\"middle\" x=\"83\" y=\"-374.3\" font-family=\"Times,serif\" font-size=\"14.00\" fill=\"#000000\">8</text>\n</g>\n<!-- 8&#45;&gt;1 -->\n<g id=\"edge16\" class=\"edge\">\n<title>8&#45;&gt;1</title>\n<path fill=\"none\" stroke=\"#000000\" d=\"M89.778,-360.5708C92.9872,-352.3187 96.8935,-342.2738 100.4758,-333.0623\"/>\n<polygon fill=\"#000000\" stroke=\"#000000\" points=\"103.8248,-334.1069 104.1874,-323.5182 97.3008,-331.5697 103.8248,-334.1069\"/>\n</g>\n<!-- 8&#45;&gt;2 -->\n<g id=\"edge15\" class=\"edge\">\n<title>8&#45;&gt;2</title>\n<path fill=\"none\" stroke=\"#000000\" d=\"M77.3349,-360.2689C72.3548,-341.7626 67.0357,-312.132 75,-288 78.7513,-276.6335 85.9201,-265.7047 93.1648,-256.6883\"/>\n<polygon fill=\"#000000\" stroke=\"#000000\" points=\"95.909,-258.8645 99.7435,-248.9879 90.5868,-254.3175 95.909,-258.8645\"/>\n</g>\n<!-- 9 -->\n<g id=\"node9\" class=\"node\">\n<title>9</title>\n<ellipse fill=\"none\" stroke=\"#000000\" cx=\"155\" cy=\"-378\" rx=\"27\" ry=\"18\"/>\n<text text-anchor=\"middle\" x=\"155\" y=\"-374.3\" font-family=\"Times,serif\" font-size=\"14.00\" fill=\"#000000\">9</text>\n</g>\n<!-- 9&#45;&gt;1 -->\n<g id=\"edge18\" class=\"edge\">\n<title>9&#45;&gt;1</title>\n<path fill=\"none\" stroke=\"#000000\" d=\"M144.7949,-361.3008C139.4304,-352.5224 132.7374,-341.5703 126.7263,-331.7339\"/>\n<polygon fill=\"#000000\" stroke=\"#000000\" points=\"129.6563,-329.8164 121.4553,-323.1086 123.6833,-333.4666 129.6563,-329.8164\"/>\n</g>\n<!-- 9&#45;&gt;7 -->\n<g id=\"edge17\" class=\"edge\">\n<title>9&#45;&gt;7</title>\n<path fill=\"none\" stroke=\"#000000\" d=\"M165.6689,-361.3008C171.3586,-352.3952 178.4777,-341.2524 184.8316,-331.307\"/>\n<polygon fill=\"#000000\" stroke=\"#000000\" points=\"187.9544,-332.92 190.3889,-322.6087 182.0555,-329.1513 187.9544,-332.92\"/>\n</g>\n<!-- 10 -->\n<g id=\"node10\" class=\"node\">\n<title>10</title>\n<ellipse fill=\"none\" stroke=\"#000000\" cx=\"227\" cy=\"-378\" rx=\"27\" ry=\"18\"/>\n<text text-anchor=\"middle\" x=\"227\" y=\"-374.3\" font-family=\"Times,serif\" font-size=\"14.00\" fill=\"#000000\">10</text>\n</g>\n<!-- 10&#45;&gt;1 -->\n<g id=\"edge19\" class=\"edge\">\n<title>10&#45;&gt;1</title>\n<path fill=\"none\" stroke=\"#000000\" d=\"M207.0589,-365.6228C188.4677,-354.0834 160.5361,-336.7465 139.5771,-323.7375\"/>\n<polygon fill=\"#000000\" stroke=\"#000000\" points=\"141.4113,-320.7566 131.0691,-318.4567 137.7197,-326.7041 141.4113,-320.7566\"/>\n</g>\n<!-- 10&#45;&gt;2 -->\n<g id=\"edge20\" class=\"edge\">\n<title>10&#45;&gt;2</title>\n<path fill=\"none\" stroke=\"#000000\" d=\"M235.1179,-360.56C242.8059,-341.2207 251.2373,-309.8714 237,-288 218.2616,-259.214 180.2965,-245.6579 151.6663,-239.3465\"/>\n<polygon fill=\"#000000\" stroke=\"#000000\" points=\"152.0856,-235.8612 141.5937,-237.3342 150.7142,-242.7255 152.0856,-235.8612\"/>\n</g>\n<!-- 11 -->\n<g id=\"node11\" class=\"node\">\n<title>11</title>\n<ellipse fill=\"none\" stroke=\"#000000\" cx=\"209\" cy=\"-450\" rx=\"27\" ry=\"18\"/>\n<text text-anchor=\"middle\" x=\"209\" y=\"-446.3\" font-family=\"Times,serif\" font-size=\"14.00\" fill=\"#000000\">11</text>\n</g>\n<!-- 11&#45;&gt;9 -->\n<g id=\"edge21\" class=\"edge\">\n<title>11&#45;&gt;9</title>\n<path fill=\"none\" stroke=\"#000000\" d=\"M196.7466,-433.6621C189.8423,-424.4564 181.0823,-412.7764 173.3715,-402.4953\"/>\n<polygon fill=\"#000000\" stroke=\"#000000\" points=\"176.005,-400.1733 167.2049,-394.2733 170.405,-404.3733 176.005,-400.1733\"/>\n</g>\n<!-- 11&#45;&gt;10 -->\n<g id=\"edge22\" class=\"edge\">\n<title>11&#45;&gt;10</title>\n<path fill=\"none\" stroke=\"#000000\" d=\"M213.4494,-432.2022C215.4398,-424.2406 217.8332,-414.6671 220.0511,-405.7957\"/>\n<polygon fill=\"#000000\" stroke=\"#000000\" points=\"223.5094,-406.3929 222.5394,-395.8425 216.7184,-404.6951 223.5094,-406.3929\"/>\n</g>\n<!-- 12 -->\n<g id=\"node12\" class=\"node\">\n<title>12</title>\n<ellipse fill=\"none\" stroke=\"#000000\" cx=\"119\" cy=\"-450\" rx=\"27\" ry=\"18\"/>\n<text text-anchor=\"middle\" x=\"119\" y=\"-446.3\" font-family=\"Times,serif\" font-size=\"14.00\" fill=\"#000000\">12</text>\n</g>\n<!-- 12&#45;&gt;8 -->\n<g id=\"edge23\" class=\"edge\">\n<title>12&#45;&gt;8</title>\n<path fill=\"none\" stroke=\"#000000\" d=\"M110.2854,-432.5708C106.0403,-424.0807 100.8464,-413.6929 96.1337,-404.2674\"/>\n<polygon fill=\"#000000\" stroke=\"#000000\" points=\"99.237,-402.6477 91.6343,-395.2687 92.976,-405.7782 99.237,-402.6477\"/>\n</g>\n<!-- 12&#45;&gt;9 -->\n<g id=\"edge24\" class=\"edge\">\n<title>12&#45;&gt;9</title>\n<path fill=\"none\" stroke=\"#000000\" d=\"M127.7146,-432.5708C131.9597,-424.0807 137.1536,-413.6929 141.8663,-404.2674\"/>\n<polygon fill=\"#000000\" stroke=\"#000000\" points=\"145.024,-405.7782 146.3657,-395.2687 138.763,-402.6477 145.024,-405.7782\"/>\n</g>\n</g>\n</svg>\n"
          },
          "metadata": {},
          "execution_count": 21
        }
      ]
    },
    {
      "cell_type": "code",
      "source": [
        "def reverse(G):\n",
        "  n = len(G)\n",
        "  Grev = [[] for _ in range(n)]\n",
        "  for u in range(n):\n",
        "    for v in G[u]:\n",
        "      Grev[v].append(u)\n",
        "  return Grev"
      ],
      "metadata": {
        "id": "Li-YuMue_Hj7"
      },
      "execution_count": null,
      "outputs": []
    },
    {
      "cell_type": "code",
      "source": [
        "def kosaraju(G):\n",
        "  n = len(G)\n",
        "  visited = [False]*n\n",
        "  f = []\n",
        "\n",
        "  # (1) producir grafo reverso\n",
        "  Grev = reverse(G)\n",
        "\n",
        "  # (2) producir orden de finalización con dfs sobre grafo reverso\n",
        "  def dfs1(u):\n",
        "    visited[u] = True\n",
        "    for v in Grev[u]:\n",
        "      if not visited[v]:\n",
        "        dfs1(v)\n",
        "    f.append(u)\n",
        "\n",
        "  # (3) producir componentes\n",
        "  def dfs2(u, cc):\n",
        "    visited[u] = True\n",
        "    for v in G[u]:\n",
        "      if not visited[v]:\n",
        "        dfs2(v, cc)\n",
        "    cc.append(u)\n",
        "\n",
        "  for u in range(n):\n",
        "    if not visited[u]:\n",
        "      dfs1(u)\n",
        "\n",
        "  scc = []\n",
        "  visited = [False]*n\n",
        "  for u in reversed(f):\n",
        "    if not visited[u]:\n",
        "      cc = []\n",
        "      dfs2(u, cc)\n",
        "      scc.append(cc)\n",
        "\n",
        "  return scc"
      ],
      "metadata": {
        "id": "J4h0p8yOAx6o"
      },
      "execution_count": null,
      "outputs": []
    },
    {
      "cell_type": "code",
      "source": [
        "kosaraju(g)"
      ],
      "metadata": {
        "colab": {
          "base_uri": "https://localhost:8080/"
        },
        "id": "vMInLOXHA0pU",
        "outputId": "278db0b2-3789-4455-d9a3-47b85b18da14"
      },
      "execution_count": null,
      "outputs": [
        {
          "output_type": "execute_result",
          "data": {
            "text/plain": [
              "[[5, 4, 3], [6], [2, 1], [10], [8], [7], [9], [12], [11], [0]]"
            ]
          },
          "metadata": {},
          "execution_count": 18
        }
      ]
    },
    {
      "cell_type": "markdown",
      "source": [
        "## The 3n + 1 problem"
      ],
      "metadata": {
        "id": "hLDqA0uXAmip"
      }
    },
    {
      "cell_type": "code",
      "source": [
        "%%file 1.in\n",
        "20 20\n",
        "9999 9999\n",
        "1 9999\n",
        "340 3000\n",
        "3000 340\n",
        "500 101\n",
        "1 1\n",
        "9999 9998"
      ],
      "metadata": {
        "colab": {
          "base_uri": "https://localhost:8080/"
        },
        "id": "q9M64q2YrPu7",
        "outputId": "4e124915-46e6-431a-e042-54df1071d185"
      },
      "execution_count": null,
      "outputs": [
        {
          "output_type": "stream",
          "name": "stdout",
          "text": [
            "Writing 1.in\n"
          ]
        }
      ]
    },
    {
      "cell_type": "code",
      "source": [
        "def Goto(n):\n",
        "  #print(n)\n",
        "  cont = 0\n",
        "  if n == 1:\n",
        "    return cont + 1\n",
        "  elif n % 2 != 0:   #impar\n",
        "    cont = Goto(3*n + 1)\n",
        "    return cont + 1\n",
        "  else:\n",
        "    cont = Goto(n/2)\n",
        "    return cont + 1\n",
        "\n",
        "  return cont"
      ],
      "metadata": {
        "id": "z3Bz3iqwArT5"
      },
      "execution_count": null,
      "outputs": []
    },
    {
      "cell_type": "code",
      "source": [
        "cycles = []\n",
        "max_cycle = 0\n",
        "with open(\"1.in\") as f:\n",
        "  for n in f:\n",
        "    #print(n)\n",
        "    i, j = map(int, n.split())\n",
        "    x = i \n",
        "    y = j\n",
        "    if i > j:\n",
        "      i, j = j, i\n",
        "    between = list(range(i, j+1))\n",
        "    for index in range(len(between)):\n",
        "      cycles.append(Goto(between[index]))\n",
        "    max_cycle = max(cycles) \n",
        "    print(f\"{x} {y} {max_cycle}\")\n",
        "    cycles.clear()"
      ],
      "metadata": {
        "colab": {
          "base_uri": "https://localhost:8080/"
        },
        "id": "d6bJC5c4GgFx",
        "outputId": "d37d94ac-8e3c-4be3-e17e-fcafac5038a3"
      },
      "execution_count": null,
      "outputs": [
        {
          "output_type": "stream",
          "name": "stdout",
          "text": [
            "20 20 8\n",
            "9999 9999 92\n",
            "1 9999 262\n",
            "340 3000 217\n",
            "3000 340 217\n",
            "500 101 144\n",
            "1 1 1\n",
            "9999 9998 92\n"
          ]
        }
      ]
    },
    {
      "cell_type": "code",
      "source": [],
      "metadata": {
        "id": "X6mXUHJwmdB1"
      },
      "execution_count": null,
      "outputs": []
    }
  ]
}