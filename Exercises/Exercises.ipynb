{
  "nbformat": 4,
  "nbformat_minor": 0,
  "metadata": {
    "colab": {
      "provenance": [],
      "collapsed_sections": [
        "WA7Kkurb5ra6"
      ]
    },
    "kernelspec": {
      "name": "python3",
      "display_name": "Python 3"
    },
    "language_info": {
      "name": "python"
    }
  },
  "cells": [
    {
      "cell_type": "markdown",
      "source": [
        "### The 3n + 1 problem\n",
        "\n"
      ],
      "metadata": {
        "id": "WA7Kkurb5ra6"
      }
    },
    {
      "cell_type": "code",
      "execution_count": 1,
      "metadata": {
        "colab": {
          "base_uri": "https://localhost:8080/"
        },
        "id": "0ehTRhhp5fMk",
        "outputId": "c4931014-716e-42e0-eac6-6c66441505e4"
      },
      "outputs": [
        {
          "output_type": "stream",
          "name": "stdout",
          "text": [
            "Writing 1.in\n"
          ]
        }
      ],
      "source": [
        "%%file 1.in\n",
        "20 20\n",
        "9999 9999\n",
        "1 9999\n",
        "340 3000\n",
        "3000 340\n",
        "500 101\n",
        "1 1\n",
        "9999 9998"
      ]
    },
    {
      "cell_type": "code",
      "source": [
        "def Goto(n):\n",
        "  #print(n)\n",
        "  cont = 0\n",
        "  if n == 1:\n",
        "    return cont + 1\n",
        "  elif n % 2 != 0:   #impar\n",
        "    cont = Goto(3*n + 1)\n",
        "    return cont + 1\n",
        "  else:\n",
        "    cont = Goto(n/2)\n",
        "    return cont + 1\n",
        "\n",
        "  return cont"
      ],
      "metadata": {
        "id": "TAo3kQjK5krx"
      },
      "execution_count": 2,
      "outputs": []
    },
    {
      "cell_type": "code",
      "source": [
        "cycles = []\n",
        "max_cycle = 0\n",
        "with open(\"1.in\") as f:\n",
        "  for n in f:\n",
        "    #print(n)\n",
        "    i, j = map(int, n.split())\n",
        "    x = i \n",
        "    y = j\n",
        "    if i > j:\n",
        "      i, j = j, i\n",
        "    between = list(range(i, j+1))\n",
        "    for index in range(len(between)):\n",
        "      cycles.append(Goto(between[index]))\n",
        "    max_cycle = max(cycles) \n",
        "    print(f\"{x} {y} {max_cycle}\")\n",
        "    cycles.clear()"
      ],
      "metadata": {
        "colab": {
          "base_uri": "https://localhost:8080/"
        },
        "id": "IiTYOeBm5mBZ",
        "outputId": "7ec938d1-21fb-4c62-e597-ffe8fd02df8d"
      },
      "execution_count": 3,
      "outputs": [
        {
          "output_type": "stream",
          "name": "stdout",
          "text": [
            "20 20 8\n",
            "9999 9999 92\n",
            "1 9999 262\n",
            "340 3000 217\n",
            "3000 340 217\n",
            "500 101 144\n",
            "1 1 1\n",
            "9999 9998 92\n"
          ]
        }
      ]
    },
    {
      "cell_type": "code",
      "source": [],
      "metadata": {
        "id": "1trApMfn5o1u"
      },
      "execution_count": null,
      "outputs": []
    }
  ]
}